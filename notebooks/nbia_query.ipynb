{
 "cells": [
  {
   "cell_type": "code",
   "execution_count": 8,
   "metadata": {},
   "outputs": [],
   "source": [
    "from nbiatoolkit import NBIAClient\n",
    "import os\n",
    "import pandas as pd\n",
    "from dotenv import load_dotenv\n",
    "from rich import print\n",
    "from pathlib import Path"
   ]
  },
  {
   "cell_type": "markdown",
   "metadata": {},
   "source": [
    "# Query the NBIA API\n",
    "\n",
    "## Environment Variables:\n",
    "Add this to a `.env` file in your project directory and add your environment variables:\n",
    "\n",
    "```\n",
    "NBIA_USERNAME=<username>\n",
    "NBIA_PASSWORD=<password>\n",
    "```\n",
    "\n",
    "NOTE: developed this notebook using bhklab's account credentials \n"
   ]
  },
  {
   "cell_type": "code",
   "execution_count": null,
   "metadata": {},
   "outputs": [],
   "source": [
    "load_dotenv()\n",
    "USERNAME= os.environ.get(\"NBIA_USERNAME\")\n",
    "PASSWORD=os.environ.get(\"NBIA_PASSWORD\")\n",
    "client = NBIAClient(\n",
    "  username=USERNAME,\n",
    "  password=PASSWORD,\n",
    "  return_type=\"dataframe\",\n",
    "  log_level=\"DEBUG\"\n",
    ")"
   ]
  },
  {
   "cell_type": "code",
   "execution_count": null,
   "metadata": {},
   "outputs": [],
   "source": [
    "collections = client.getCollectionPatientCount()\n",
    "print(collections)\n",
    "collections.to_csv(\"data/nbia_collections.tsv\", sep=\"\\t\", index=False)"
   ]
  },
  {
   "cell_type": "code",
   "execution_count": 13,
   "metadata": {},
   "outputs": [
    {
     "data": {
      "text/html": [
       "<pre style=\"white-space:pre;overflow-x:auto;line-height:normal;font-family:Menlo,'DejaVu Sans Mono',consolas,'Courier New',monospace\">4D_Lung\n",
       "</pre>\n"
      ],
      "text/plain": [
       "4D_Lung\n"
      ]
     },
     "metadata": {},
     "output_type": "display_data"
    },
    {
     "data": {
      "text/html": [
       "<pre style=\"white-space:pre;overflow-x:auto;line-height:normal;font-family:Menlo,'DejaVu Sans Mono',consolas,'Courier New',monospace\">ACRIN_6698\n",
       "</pre>\n"
      ],
      "text/plain": [
       "ACRIN_6698\n"
      ]
     },
     "metadata": {},
     "output_type": "display_data"
    },
    {
     "name": "stderr",
     "output_type": "stream",
     "text": [
      "24-11-14 16:22 | NBIAClient | DEBUG | Parsing params: {'self': <nbiatoolkit.nbia.NBIAClient object at 0x1067d4110>, 'Collection': 'ACRIN-6698', 'PatientID': '', 'StudyInstanceUID': '', 'Modality': '', 'SeriesInstanceUID': '', 'BodyPartExamined': '', 'ManufacturerModelName': '', 'Manufacturer': '', 'return_type': None, 'returnType': <ReturnType.DATAFRAME: 'dataframe'>}\n",
      "24-11-14 16:22 | NBIAClient | DEBUG | Querying API endpoint: https://services.cancerimagingarchive.net/nbia-api/services/v2/getSeries\n",
      "24-11-14 16:22 | NBIAClient | DEBUG | Query parameters: {'Collection': 'ACRIN-6698', 'returnType': <ReturnType.DATAFRAME: 'dataframe'>}\n"
     ]
    },
    {
     "data": {
      "text/html": [
       "<pre style=\"white-space:pre;overflow-x:auto;line-height:normal;font-family:Menlo,'DejaVu Sans Mono',consolas,'Courier New',monospace\">ACRIN_Contralateral_Breast_MR\n",
       "</pre>\n"
      ],
      "text/plain": [
       "ACRIN_Contralateral_Breast_MR\n"
      ]
     },
     "metadata": {},
     "output_type": "display_data"
    },
    {
     "name": "stderr",
     "output_type": "stream",
     "text": [
      "24-11-14 16:22 | NBIAClient | DEBUG | Parsing params: {'self': <nbiatoolkit.nbia.NBIAClient object at 0x1067d4110>, 'Collection': 'ACRIN-Contralateral-Breast-MR', 'PatientID': '', 'StudyInstanceUID': '', 'Modality': '', 'SeriesInstanceUID': '', 'BodyPartExamined': '', 'ManufacturerModelName': '', 'Manufacturer': '', 'return_type': None, 'returnType': <ReturnType.DATAFRAME: 'dataframe'>}\n",
      "24-11-14 16:22 | NBIAClient | DEBUG | Querying API endpoint: https://services.cancerimagingarchive.net/nbia-api/services/v2/getSeries\n",
      "24-11-14 16:22 | NBIAClient | DEBUG | Query parameters: {'Collection': 'ACRIN-Contralateral-Breast-MR', 'returnType': <ReturnType.DATAFRAME: 'dataframe'>}\n"
     ]
    },
    {
     "data": {
      "text/html": [
       "<pre style=\"white-space:pre;overflow-x:auto;line-height:normal;font-family:Menlo,'DejaVu Sans Mono',consolas,'Courier New',monospace\">ACRIN_FLT_Breast\n",
       "</pre>\n"
      ],
      "text/plain": [
       "ACRIN_FLT_Breast\n"
      ]
     },
     "metadata": {},
     "output_type": "display_data"
    },
    {
     "name": "stderr",
     "output_type": "stream",
     "text": [
      "24-11-14 16:22 | NBIAClient | DEBUG | Parsing params: {'self': <nbiatoolkit.nbia.NBIAClient object at 0x1067d4110>, 'Collection': 'ACRIN-FLT-Breast', 'PatientID': '', 'StudyInstanceUID': '', 'Modality': '', 'SeriesInstanceUID': '', 'BodyPartExamined': '', 'ManufacturerModelName': '', 'Manufacturer': '', 'return_type': None, 'returnType': <ReturnType.DATAFRAME: 'dataframe'>}\n",
      "24-11-14 16:22 | NBIAClient | DEBUG | Querying API endpoint: https://services.cancerimagingarchive.net/nbia-api/services/v2/getSeries\n",
      "24-11-14 16:22 | NBIAClient | DEBUG | Query parameters: {'Collection': 'ACRIN-FLT-Breast', 'returnType': <ReturnType.DATAFRAME: 'dataframe'>}\n"
     ]
    },
    {
     "data": {
      "text/html": [
       "<pre style=\"white-space:pre;overflow-x:auto;line-height:normal;font-family:Menlo,'DejaVu Sans Mono',consolas,'Courier New',monospace\">ACRIN_NSCLC_FDG_PET\n",
       "</pre>\n"
      ],
      "text/plain": [
       "ACRIN_NSCLC_FDG_PET\n"
      ]
     },
     "metadata": {},
     "output_type": "display_data"
    },
    {
     "name": "stderr",
     "output_type": "stream",
     "text": [
      "24-11-14 16:22 | NBIAClient | DEBUG | Parsing params: {'self': <nbiatoolkit.nbia.NBIAClient object at 0x1067d4110>, 'Collection': 'ACRIN-NSCLC-FDG-PET', 'PatientID': '', 'StudyInstanceUID': '', 'Modality': '', 'SeriesInstanceUID': '', 'BodyPartExamined': '', 'ManufacturerModelName': '', 'Manufacturer': '', 'return_type': None, 'returnType': <ReturnType.DATAFRAME: 'dataframe'>}\n",
      "24-11-14 16:22 | NBIAClient | DEBUG | Querying API endpoint: https://services.cancerimagingarchive.net/nbia-api/services/v2/getSeries\n",
      "24-11-14 16:22 | NBIAClient | DEBUG | Query parameters: {'Collection': 'ACRIN-NSCLC-FDG-PET', 'returnType': <ReturnType.DATAFRAME: 'dataframe'>}\n"
     ]
    },
    {
     "data": {
      "text/html": [
       "<pre style=\"white-space:pre;overflow-x:auto;line-height:normal;font-family:Menlo,'DejaVu Sans Mono',consolas,'Courier New',monospace\">Adrenal_ACC_Ki67_Seg\n",
       "</pre>\n"
      ],
      "text/plain": [
       "Adrenal_ACC_Ki67_Seg\n"
      ]
     },
     "metadata": {},
     "output_type": "display_data"
    },
    {
     "name": "stderr",
     "output_type": "stream",
     "text": [
      "24-11-14 16:22 | NBIAClient | DEBUG | Parsing params: {'self': <nbiatoolkit.nbia.NBIAClient object at 0x1067d4110>, 'Collection': 'Adrenal-ACC-Ki67-Seg', 'PatientID': '', 'StudyInstanceUID': '', 'Modality': '', 'SeriesInstanceUID': '', 'BodyPartExamined': '', 'ManufacturerModelName': '', 'Manufacturer': '', 'return_type': None, 'returnType': <ReturnType.DATAFRAME: 'dataframe'>}\n",
      "24-11-14 16:22 | NBIAClient | DEBUG | Querying API endpoint: https://services.cancerimagingarchive.net/nbia-api/services/v2/getSeries\n",
      "24-11-14 16:22 | NBIAClient | DEBUG | Query parameters: {'Collection': 'Adrenal-ACC-Ki67-Seg', 'returnType': <ReturnType.DATAFRAME: 'dataframe'>}\n"
     ]
    },
    {
     "data": {
      "text/html": [
       "<pre style=\"white-space:pre;overflow-x:auto;line-height:normal;font-family:Menlo,'DejaVu Sans Mono',consolas,'Courier New',monospace\">Advanced_MRI_Breast_Lesions\n",
       "</pre>\n"
      ],
      "text/plain": [
       "Advanced_MRI_Breast_Lesions\n"
      ]
     },
     "metadata": {},
     "output_type": "display_data"
    },
    {
     "name": "stderr",
     "output_type": "stream",
     "text": [
      "24-11-14 16:22 | NBIAClient | DEBUG | Parsing params: {'self': <nbiatoolkit.nbia.NBIAClient object at 0x1067d4110>, 'Collection': 'Advanced-MRI-Breast-Lesions', 'PatientID': '', 'StudyInstanceUID': '', 'Modality': '', 'SeriesInstanceUID': '', 'BodyPartExamined': '', 'ManufacturerModelName': '', 'Manufacturer': '', 'return_type': None, 'returnType': <ReturnType.DATAFRAME: 'dataframe'>}\n",
      "24-11-14 16:22 | NBIAClient | DEBUG | Querying API endpoint: https://services.cancerimagingarchive.net/nbia-api/services/v2/getSeries\n",
      "24-11-14 16:22 | NBIAClient | DEBUG | Query parameters: {'Collection': 'Advanced-MRI-Breast-Lesions', 'returnType': <ReturnType.DATAFRAME: 'dataframe'>}\n"
     ]
    },
    {
     "data": {
      "text/html": [
       "<pre style=\"white-space:pre;overflow-x:auto;line-height:normal;font-family:Menlo,'DejaVu Sans Mono',consolas,'Courier New',monospace\">Anti_PD_1_Lung\n",
       "</pre>\n"
      ],
      "text/plain": [
       "Anti_PD_1_Lung\n"
      ]
     },
     "metadata": {},
     "output_type": "display_data"
    },
    {
     "name": "stderr",
     "output_type": "stream",
     "text": [
      "24-11-14 16:22 | NBIAClient | DEBUG | Parsing params: {'self': <nbiatoolkit.nbia.NBIAClient object at 0x1067d4110>, 'Collection': 'Anti-PD-1_Lung', 'PatientID': '', 'StudyInstanceUID': '', 'Modality': '', 'SeriesInstanceUID': '', 'BodyPartExamined': '', 'ManufacturerModelName': '', 'Manufacturer': '', 'return_type': None, 'returnType': <ReturnType.DATAFRAME: 'dataframe'>}\n",
      "24-11-14 16:22 | NBIAClient | DEBUG | Querying API endpoint: https://services.cancerimagingarchive.net/nbia-api/services/v2/getSeries\n",
      "24-11-14 16:22 | NBIAClient | DEBUG | Query parameters: {'Collection': 'Anti-PD-1_Lung', 'returnType': <ReturnType.DATAFRAME: 'dataframe'>}\n"
     ]
    },
    {
     "data": {
      "text/html": [
       "<pre style=\"white-space:pre;overflow-x:auto;line-height:normal;font-family:Menlo,'DejaVu Sans Mono',consolas,'Courier New',monospace\">B_mode_and_CEUS_Liver\n",
       "</pre>\n"
      ],
      "text/plain": [
       "B_mode_and_CEUS_Liver\n"
      ]
     },
     "metadata": {},
     "output_type": "display_data"
    },
    {
     "name": "stderr",
     "output_type": "stream",
     "text": [
      "24-11-14 16:22 | NBIAClient | DEBUG | Parsing params: {'self': <nbiatoolkit.nbia.NBIAClient object at 0x1067d4110>, 'Collection': 'B-mode-and-CEUS-Liver', 'PatientID': '', 'StudyInstanceUID': '', 'Modality': '', 'SeriesInstanceUID': '', 'BodyPartExamined': '', 'ManufacturerModelName': '', 'Manufacturer': '', 'return_type': None, 'returnType': <ReturnType.DATAFRAME: 'dataframe'>}\n",
      "24-11-14 16:22 | NBIAClient | DEBUG | Querying API endpoint: https://services.cancerimagingarchive.net/nbia-api/services/v2/getSeries\n",
      "24-11-14 16:22 | NBIAClient | DEBUG | Query parameters: {'Collection': 'B-mode-and-CEUS-Liver', 'returnType': <ReturnType.DATAFRAME: 'dataframe'>}\n"
     ]
    },
    {
     "data": {
      "text/html": [
       "<pre style=\"white-space:pre;overflow-x:auto;line-height:normal;font-family:Menlo,'DejaVu Sans Mono',consolas,'Courier New',monospace\">BREAST_DIAGNOSIS\n",
       "</pre>\n"
      ],
      "text/plain": [
       "BREAST_DIAGNOSIS\n"
      ]
     },
     "metadata": {},
     "output_type": "display_data"
    },
    {
     "name": "stderr",
     "output_type": "stream",
     "text": [
      "24-11-14 16:22 | NBIAClient | DEBUG | Parsing params: {'self': <nbiatoolkit.nbia.NBIAClient object at 0x1067d4110>, 'Collection': 'BREAST-DIAGNOSIS', 'PatientID': '', 'StudyInstanceUID': '', 'Modality': '', 'SeriesInstanceUID': '', 'BodyPartExamined': '', 'ManufacturerModelName': '', 'Manufacturer': '', 'return_type': None, 'returnType': <ReturnType.DATAFRAME: 'dataframe'>}\n",
      "24-11-14 16:22 | NBIAClient | DEBUG | Querying API endpoint: https://services.cancerimagingarchive.net/nbia-api/services/v2/getSeries\n",
      "24-11-14 16:22 | NBIAClient | DEBUG | Query parameters: {'Collection': 'BREAST-DIAGNOSIS', 'returnType': <ReturnType.DATAFRAME: 'dataframe'>}\n"
     ]
    },
    {
     "data": {
      "text/html": [
       "<pre style=\"white-space:pre;overflow-x:auto;line-height:normal;font-family:Menlo,'DejaVu Sans Mono',consolas,'Courier New',monospace\">Breast_Cancer_Screening_DBT\n",
       "</pre>\n"
      ],
      "text/plain": [
       "Breast_Cancer_Screening_DBT\n"
      ]
     },
     "metadata": {},
     "output_type": "display_data"
    },
    {
     "name": "stderr",
     "output_type": "stream",
     "text": [
      "24-11-14 16:23 | NBIAClient | DEBUG | Parsing params: {'self': <nbiatoolkit.nbia.NBIAClient object at 0x1067d4110>, 'Collection': 'Breast-Cancer-Screening-DBT', 'PatientID': '', 'StudyInstanceUID': '', 'Modality': '', 'SeriesInstanceUID': '', 'BodyPartExamined': '', 'ManufacturerModelName': '', 'Manufacturer': '', 'return_type': None, 'returnType': <ReturnType.DATAFRAME: 'dataframe'>}\n",
      "24-11-14 16:23 | NBIAClient | DEBUG | Querying API endpoint: https://services.cancerimagingarchive.net/nbia-api/services/v2/getSeries\n",
      "24-11-14 16:23 | NBIAClient | DEBUG | Query parameters: {'Collection': 'Breast-Cancer-Screening-DBT', 'returnType': <ReturnType.DATAFRAME: 'dataframe'>}\n"
     ]
    },
    {
     "data": {
      "text/html": [
       "<pre style=\"white-space:pre;overflow-x:auto;line-height:normal;font-family:Menlo,'DejaVu Sans Mono',consolas,'Courier New',monospace\">Breast_MRI_NACT_Pilot\n",
       "</pre>\n"
      ],
      "text/plain": [
       "Breast_MRI_NACT_Pilot\n"
      ]
     },
     "metadata": {},
     "output_type": "display_data"
    },
    {
     "name": "stderr",
     "output_type": "stream",
     "text": [
      "24-11-14 16:23 | NBIAClient | DEBUG | Parsing params: {'self': <nbiatoolkit.nbia.NBIAClient object at 0x1067d4110>, 'Collection': 'Breast-MRI-NACT-Pilot', 'PatientID': '', 'StudyInstanceUID': '', 'Modality': '', 'SeriesInstanceUID': '', 'BodyPartExamined': '', 'ManufacturerModelName': '', 'Manufacturer': '', 'return_type': None, 'returnType': <ReturnType.DATAFRAME: 'dataframe'>}\n",
      "24-11-14 16:23 | NBIAClient | DEBUG | Querying API endpoint: https://services.cancerimagingarchive.net/nbia-api/services/v2/getSeries\n",
      "24-11-14 16:23 | NBIAClient | DEBUG | Query parameters: {'Collection': 'Breast-MRI-NACT-Pilot', 'returnType': <ReturnType.DATAFRAME: 'dataframe'>}\n"
     ]
    },
    {
     "data": {
      "text/html": [
       "<pre style=\"white-space:pre;overflow-x:auto;line-height:normal;font-family:Menlo,'DejaVu Sans Mono',consolas,'Courier New',monospace\">C4KC_KiTS\n",
       "</pre>\n"
      ],
      "text/plain": [
       "C4KC_KiTS\n"
      ]
     },
     "metadata": {},
     "output_type": "display_data"
    },
    {
     "name": "stderr",
     "output_type": "stream",
     "text": [
      "24-11-14 16:23 | NBIAClient | DEBUG | Parsing params: {'self': <nbiatoolkit.nbia.NBIAClient object at 0x1067d4110>, 'Collection': 'C4KC-KiTS', 'PatientID': '', 'StudyInstanceUID': '', 'Modality': '', 'SeriesInstanceUID': '', 'BodyPartExamined': '', 'ManufacturerModelName': '', 'Manufacturer': '', 'return_type': None, 'returnType': <ReturnType.DATAFRAME: 'dataframe'>}\n",
      "24-11-14 16:23 | NBIAClient | DEBUG | Querying API endpoint: https://services.cancerimagingarchive.net/nbia-api/services/v2/getSeries\n",
      "24-11-14 16:23 | NBIAClient | DEBUG | Query parameters: {'Collection': 'C4KC-KiTS', 'returnType': <ReturnType.DATAFRAME: 'dataframe'>}\n"
     ]
    },
    {
     "data": {
      "text/html": [
       "<pre style=\"white-space:pre;overflow-x:auto;line-height:normal;font-family:Menlo,'DejaVu Sans Mono',consolas,'Courier New',monospace\">CBIS_DDSM\n",
       "</pre>\n"
      ],
      "text/plain": [
       "CBIS_DDSM\n"
      ]
     },
     "metadata": {},
     "output_type": "display_data"
    },
    {
     "name": "stderr",
     "output_type": "stream",
     "text": [
      "24-11-14 16:23 | NBIAClient | DEBUG | Parsing params: {'self': <nbiatoolkit.nbia.NBIAClient object at 0x1067d4110>, 'Collection': 'CBIS-DDSM', 'PatientID': '', 'StudyInstanceUID': '', 'Modality': '', 'SeriesInstanceUID': '', 'BodyPartExamined': '', 'ManufacturerModelName': '', 'Manufacturer': '', 'return_type': None, 'returnType': <ReturnType.DATAFRAME: 'dataframe'>}\n",
      "24-11-14 16:23 | NBIAClient | DEBUG | Querying API endpoint: https://services.cancerimagingarchive.net/nbia-api/services/v2/getSeries\n",
      "24-11-14 16:23 | NBIAClient | DEBUG | Query parameters: {'Collection': 'CBIS-DDSM', 'returnType': <ReturnType.DATAFRAME: 'dataframe'>}\n"
     ]
    },
    {
     "data": {
      "text/html": [
       "<pre style=\"white-space:pre;overflow-x:auto;line-height:normal;font-family:Menlo,'DejaVu Sans Mono',consolas,'Courier New',monospace\">CC_Radiomics_Phantom\n",
       "</pre>\n"
      ],
      "text/plain": [
       "CC_Radiomics_Phantom\n"
      ]
     },
     "metadata": {},
     "output_type": "display_data"
    },
    {
     "name": "stderr",
     "output_type": "stream",
     "text": [
      "24-11-14 16:23 | NBIAClient | DEBUG | Parsing params: {'self': <nbiatoolkit.nbia.NBIAClient object at 0x1067d4110>, 'Collection': 'CC-Radiomics-Phantom', 'PatientID': '', 'StudyInstanceUID': '', 'Modality': '', 'SeriesInstanceUID': '', 'BodyPartExamined': '', 'ManufacturerModelName': '', 'Manufacturer': '', 'return_type': None, 'returnType': <ReturnType.DATAFRAME: 'dataframe'>}\n",
      "24-11-14 16:23 | NBIAClient | DEBUG | Querying API endpoint: https://services.cancerimagingarchive.net/nbia-api/services/v2/getSeries\n",
      "24-11-14 16:23 | NBIAClient | DEBUG | Query parameters: {'Collection': 'CC-Radiomics-Phantom', 'returnType': <ReturnType.DATAFRAME: 'dataframe'>}\n"
     ]
    },
    {
     "data": {
      "text/html": [
       "<pre style=\"white-space:pre;overflow-x:auto;line-height:normal;font-family:Menlo,'DejaVu Sans Mono',consolas,'Courier New',monospace\">CC_Radiomics_Phantom_2\n",
       "</pre>\n"
      ],
      "text/plain": [
       "CC_Radiomics_Phantom_2\n"
      ]
     },
     "metadata": {},
     "output_type": "display_data"
    },
    {
     "name": "stderr",
     "output_type": "stream",
     "text": [
      "24-11-14 16:23 | NBIAClient | DEBUG | Parsing params: {'self': <nbiatoolkit.nbia.NBIAClient object at 0x1067d4110>, 'Collection': 'CC-Radiomics-Phantom-2', 'PatientID': '', 'StudyInstanceUID': '', 'Modality': '', 'SeriesInstanceUID': '', 'BodyPartExamined': '', 'ManufacturerModelName': '', 'Manufacturer': '', 'return_type': None, 'returnType': <ReturnType.DATAFRAME: 'dataframe'>}\n",
      "24-11-14 16:23 | NBIAClient | DEBUG | Querying API endpoint: https://services.cancerimagingarchive.net/nbia-api/services/v2/getSeries\n",
      "24-11-14 16:23 | NBIAClient | DEBUG | Query parameters: {'Collection': 'CC-Radiomics-Phantom-2', 'returnType': <ReturnType.DATAFRAME: 'dataframe'>}\n"
     ]
    },
    {
     "data": {
      "text/html": [
       "<pre style=\"white-space:pre;overflow-x:auto;line-height:normal;font-family:Menlo,'DejaVu Sans Mono',consolas,'Courier New',monospace\">CC_Radiomics_Phantom_3\n",
       "</pre>\n"
      ],
      "text/plain": [
       "CC_Radiomics_Phantom_3\n"
      ]
     },
     "metadata": {},
     "output_type": "display_data"
    },
    {
     "name": "stderr",
     "output_type": "stream",
     "text": [
      "24-11-14 16:23 | NBIAClient | DEBUG | Parsing params: {'self': <nbiatoolkit.nbia.NBIAClient object at 0x1067d4110>, 'Collection': 'CC-Radiomics-Phantom-3', 'PatientID': '', 'StudyInstanceUID': '', 'Modality': '', 'SeriesInstanceUID': '', 'BodyPartExamined': '', 'ManufacturerModelName': '', 'Manufacturer': '', 'return_type': None, 'returnType': <ReturnType.DATAFRAME: 'dataframe'>}\n",
      "24-11-14 16:23 | NBIAClient | DEBUG | Querying API endpoint: https://services.cancerimagingarchive.net/nbia-api/services/v2/getSeries\n",
      "24-11-14 16:23 | NBIAClient | DEBUG | Query parameters: {'Collection': 'CC-Radiomics-Phantom-3', 'returnType': <ReturnType.DATAFRAME: 'dataframe'>}\n"
     ]
    },
    {
     "data": {
      "text/html": [
       "<pre style=\"white-space:pre;overflow-x:auto;line-height:normal;font-family:Menlo,'DejaVu Sans Mono',consolas,'Courier New',monospace\">CC_Tumor_Heterogeneity\n",
       "</pre>\n"
      ],
      "text/plain": [
       "CC_Tumor_Heterogeneity\n"
      ]
     },
     "metadata": {},
     "output_type": "display_data"
    },
    {
     "name": "stderr",
     "output_type": "stream",
     "text": [
      "24-11-14 16:23 | NBIAClient | DEBUG | Parsing params: {'self': <nbiatoolkit.nbia.NBIAClient object at 0x1067d4110>, 'Collection': 'CC-Tumor-Heterogeneity', 'PatientID': '', 'StudyInstanceUID': '', 'Modality': '', 'SeriesInstanceUID': '', 'BodyPartExamined': '', 'ManufacturerModelName': '', 'Manufacturer': '', 'return_type': None, 'returnType': <ReturnType.DATAFRAME: 'dataframe'>}\n",
      "24-11-14 16:23 | NBIAClient | DEBUG | Querying API endpoint: https://services.cancerimagingarchive.net/nbia-api/services/v2/getSeries\n",
      "24-11-14 16:23 | NBIAClient | DEBUG | Query parameters: {'Collection': 'CC-Tumor-Heterogeneity', 'returnType': <ReturnType.DATAFRAME: 'dataframe'>}\n"
     ]
    },
    {
     "data": {
      "text/html": [
       "<pre style=\"white-space:pre;overflow-x:auto;line-height:normal;font-family:Menlo,'DejaVu Sans Mono',consolas,'Courier New',monospace\">CMB_AML\n",
       "</pre>\n"
      ],
      "text/plain": [
       "CMB_AML\n"
      ]
     },
     "metadata": {},
     "output_type": "display_data"
    },
    {
     "name": "stderr",
     "output_type": "stream",
     "text": [
      "24-11-14 16:23 | NBIAClient | DEBUG | Parsing params: {'self': <nbiatoolkit.nbia.NBIAClient object at 0x1067d4110>, 'Collection': 'CMB-AML', 'PatientID': '', 'StudyInstanceUID': '', 'Modality': '', 'SeriesInstanceUID': '', 'BodyPartExamined': '', 'ManufacturerModelName': '', 'Manufacturer': '', 'return_type': None, 'returnType': <ReturnType.DATAFRAME: 'dataframe'>}\n",
      "24-11-14 16:23 | NBIAClient | DEBUG | Querying API endpoint: https://services.cancerimagingarchive.net/nbia-api/services/v2/getSeries\n",
      "24-11-14 16:23 | NBIAClient | DEBUG | Query parameters: {'Collection': 'CMB-AML', 'returnType': <ReturnType.DATAFRAME: 'dataframe'>}\n"
     ]
    },
    {
     "data": {
      "text/html": [
       "<pre style=\"white-space:pre;overflow-x:auto;line-height:normal;font-family:Menlo,'DejaVu Sans Mono',consolas,'Courier New',monospace\">CMB_CRC\n",
       "</pre>\n"
      ],
      "text/plain": [
       "CMB_CRC\n"
      ]
     },
     "metadata": {},
     "output_type": "display_data"
    },
    {
     "name": "stderr",
     "output_type": "stream",
     "text": [
      "24-11-14 16:23 | NBIAClient | DEBUG | Parsing params: {'self': <nbiatoolkit.nbia.NBIAClient object at 0x1067d4110>, 'Collection': 'CMB-CRC', 'PatientID': '', 'StudyInstanceUID': '', 'Modality': '', 'SeriesInstanceUID': '', 'BodyPartExamined': '', 'ManufacturerModelName': '', 'Manufacturer': '', 'return_type': None, 'returnType': <ReturnType.DATAFRAME: 'dataframe'>}\n",
      "24-11-14 16:23 | NBIAClient | DEBUG | Querying API endpoint: https://services.cancerimagingarchive.net/nbia-api/services/v2/getSeries\n",
      "24-11-14 16:23 | NBIAClient | DEBUG | Query parameters: {'Collection': 'CMB-CRC', 'returnType': <ReturnType.DATAFRAME: 'dataframe'>}\n"
     ]
    },
    {
     "data": {
      "text/html": [
       "<pre style=\"white-space:pre;overflow-x:auto;line-height:normal;font-family:Menlo,'DejaVu Sans Mono',consolas,'Courier New',monospace\">CMB_GEC\n",
       "</pre>\n"
      ],
      "text/plain": [
       "CMB_GEC\n"
      ]
     },
     "metadata": {},
     "output_type": "display_data"
    },
    {
     "name": "stderr",
     "output_type": "stream",
     "text": [
      "24-11-14 16:23 | NBIAClient | DEBUG | Parsing params: {'self': <nbiatoolkit.nbia.NBIAClient object at 0x1067d4110>, 'Collection': 'CMB-GEC', 'PatientID': '', 'StudyInstanceUID': '', 'Modality': '', 'SeriesInstanceUID': '', 'BodyPartExamined': '', 'ManufacturerModelName': '', 'Manufacturer': '', 'return_type': None, 'returnType': <ReturnType.DATAFRAME: 'dataframe'>}\n",
      "24-11-14 16:23 | NBIAClient | DEBUG | Querying API endpoint: https://services.cancerimagingarchive.net/nbia-api/services/v2/getSeries\n",
      "24-11-14 16:23 | NBIAClient | DEBUG | Query parameters: {'Collection': 'CMB-GEC', 'returnType': <ReturnType.DATAFRAME: 'dataframe'>}\n"
     ]
    },
    {
     "data": {
      "text/html": [
       "<pre style=\"white-space:pre;overflow-x:auto;line-height:normal;font-family:Menlo,'DejaVu Sans Mono',consolas,'Courier New',monospace\">CMB_LCA\n",
       "</pre>\n"
      ],
      "text/plain": [
       "CMB_LCA\n"
      ]
     },
     "metadata": {},
     "output_type": "display_data"
    },
    {
     "name": "stderr",
     "output_type": "stream",
     "text": [
      "24-11-14 16:23 | NBIAClient | DEBUG | Parsing params: {'self': <nbiatoolkit.nbia.NBIAClient object at 0x1067d4110>, 'Collection': 'CMB-LCA', 'PatientID': '', 'StudyInstanceUID': '', 'Modality': '', 'SeriesInstanceUID': '', 'BodyPartExamined': '', 'ManufacturerModelName': '', 'Manufacturer': '', 'return_type': None, 'returnType': <ReturnType.DATAFRAME: 'dataframe'>}\n",
      "24-11-14 16:23 | NBIAClient | DEBUG | Querying API endpoint: https://services.cancerimagingarchive.net/nbia-api/services/v2/getSeries\n",
      "24-11-14 16:23 | NBIAClient | DEBUG | Query parameters: {'Collection': 'CMB-LCA', 'returnType': <ReturnType.DATAFRAME: 'dataframe'>}\n"
     ]
    },
    {
     "data": {
      "text/html": [
       "<pre style=\"white-space:pre;overflow-x:auto;line-height:normal;font-family:Menlo,'DejaVu Sans Mono',consolas,'Courier New',monospace\">CMB_MEL\n",
       "</pre>\n"
      ],
      "text/plain": [
       "CMB_MEL\n"
      ]
     },
     "metadata": {},
     "output_type": "display_data"
    },
    {
     "name": "stderr",
     "output_type": "stream",
     "text": [
      "24-11-14 16:23 | NBIAClient | DEBUG | Parsing params: {'self': <nbiatoolkit.nbia.NBIAClient object at 0x1067d4110>, 'Collection': 'CMB-MEL', 'PatientID': '', 'StudyInstanceUID': '', 'Modality': '', 'SeriesInstanceUID': '', 'BodyPartExamined': '', 'ManufacturerModelName': '', 'Manufacturer': '', 'return_type': None, 'returnType': <ReturnType.DATAFRAME: 'dataframe'>}\n",
      "24-11-14 16:23 | NBIAClient | DEBUG | Querying API endpoint: https://services.cancerimagingarchive.net/nbia-api/services/v2/getSeries\n",
      "24-11-14 16:23 | NBIAClient | DEBUG | Query parameters: {'Collection': 'CMB-MEL', 'returnType': <ReturnType.DATAFRAME: 'dataframe'>}\n"
     ]
    },
    {
     "data": {
      "text/html": [
       "<pre style=\"white-space:pre;overflow-x:auto;line-height:normal;font-family:Menlo,'DejaVu Sans Mono',consolas,'Courier New',monospace\">CMB_MML\n",
       "</pre>\n"
      ],
      "text/plain": [
       "CMB_MML\n"
      ]
     },
     "metadata": {},
     "output_type": "display_data"
    },
    {
     "name": "stderr",
     "output_type": "stream",
     "text": [
      "24-11-14 16:23 | NBIAClient | DEBUG | Parsing params: {'self': <nbiatoolkit.nbia.NBIAClient object at 0x1067d4110>, 'Collection': 'CMB-MML', 'PatientID': '', 'StudyInstanceUID': '', 'Modality': '', 'SeriesInstanceUID': '', 'BodyPartExamined': '', 'ManufacturerModelName': '', 'Manufacturer': '', 'return_type': None, 'returnType': <ReturnType.DATAFRAME: 'dataframe'>}\n",
      "24-11-14 16:23 | NBIAClient | DEBUG | Querying API endpoint: https://services.cancerimagingarchive.net/nbia-api/services/v2/getSeries\n",
      "24-11-14 16:23 | NBIAClient | DEBUG | Query parameters: {'Collection': 'CMB-MML', 'returnType': <ReturnType.DATAFRAME: 'dataframe'>}\n"
     ]
    },
    {
     "data": {
      "text/html": [
       "<pre style=\"white-space:pre;overflow-x:auto;line-height:normal;font-family:Menlo,'DejaVu Sans Mono',consolas,'Courier New',monospace\">CMB_PCA\n",
       "</pre>\n"
      ],
      "text/plain": [
       "CMB_PCA\n"
      ]
     },
     "metadata": {},
     "output_type": "display_data"
    },
    {
     "name": "stderr",
     "output_type": "stream",
     "text": [
      "24-11-14 16:23 | NBIAClient | DEBUG | Parsing params: {'self': <nbiatoolkit.nbia.NBIAClient object at 0x1067d4110>, 'Collection': 'CMB-PCA', 'PatientID': '', 'StudyInstanceUID': '', 'Modality': '', 'SeriesInstanceUID': '', 'BodyPartExamined': '', 'ManufacturerModelName': '', 'Manufacturer': '', 'return_type': None, 'returnType': <ReturnType.DATAFRAME: 'dataframe'>}\n",
      "24-11-14 16:23 | NBIAClient | DEBUG | Querying API endpoint: https://services.cancerimagingarchive.net/nbia-api/services/v2/getSeries\n",
      "24-11-14 16:23 | NBIAClient | DEBUG | Query parameters: {'Collection': 'CMB-PCA', 'returnType': <ReturnType.DATAFRAME: 'dataframe'>}\n"
     ]
    },
    {
     "data": {
      "text/html": [
       "<pre style=\"white-space:pre;overflow-x:auto;line-height:normal;font-family:Menlo,'DejaVu Sans Mono',consolas,'Courier New',monospace\">CMMD\n",
       "</pre>\n"
      ],
      "text/plain": [
       "CMMD\n"
      ]
     },
     "metadata": {},
     "output_type": "display_data"
    },
    {
     "name": "stderr",
     "output_type": "stream",
     "text": [
      "24-11-14 16:23 | NBIAClient | DEBUG | Parsing params: {'self': <nbiatoolkit.nbia.NBIAClient object at 0x1067d4110>, 'Collection': 'CMMD', 'PatientID': '', 'StudyInstanceUID': '', 'Modality': '', 'SeriesInstanceUID': '', 'BodyPartExamined': '', 'ManufacturerModelName': '', 'Manufacturer': '', 'return_type': None, 'returnType': <ReturnType.DATAFRAME: 'dataframe'>}\n",
      "24-11-14 16:23 | NBIAClient | DEBUG | Querying API endpoint: https://services.cancerimagingarchive.net/nbia-api/services/v2/getSeries\n",
      "24-11-14 16:23 | NBIAClient | DEBUG | Query parameters: {'Collection': 'CMMD', 'returnType': <ReturnType.DATAFRAME: 'dataframe'>}\n"
     ]
    },
    {
     "data": {
      "text/html": [
       "<pre style=\"white-space:pre;overflow-x:auto;line-height:normal;font-family:Menlo,'DejaVu Sans Mono',consolas,'Courier New',monospace\">COVID_19_AR\n",
       "</pre>\n"
      ],
      "text/plain": [
       "COVID_19_AR\n"
      ]
     },
     "metadata": {},
     "output_type": "display_data"
    },
    {
     "name": "stderr",
     "output_type": "stream",
     "text": [
      "24-11-14 16:23 | NBIAClient | DEBUG | Parsing params: {'self': <nbiatoolkit.nbia.NBIAClient object at 0x1067d4110>, 'Collection': 'COVID-19-AR', 'PatientID': '', 'StudyInstanceUID': '', 'Modality': '', 'SeriesInstanceUID': '', 'BodyPartExamined': '', 'ManufacturerModelName': '', 'Manufacturer': '', 'return_type': None, 'returnType': <ReturnType.DATAFRAME: 'dataframe'>}\n",
      "24-11-14 16:23 | NBIAClient | DEBUG | Querying API endpoint: https://services.cancerimagingarchive.net/nbia-api/services/v2/getSeries\n",
      "24-11-14 16:23 | NBIAClient | DEBUG | Query parameters: {'Collection': 'COVID-19-AR', 'returnType': <ReturnType.DATAFRAME: 'dataframe'>}\n"
     ]
    },
    {
     "data": {
      "text/html": [
       "<pre style=\"white-space:pre;overflow-x:auto;line-height:normal;font-family:Menlo,'DejaVu Sans Mono',consolas,'Courier New',monospace\">COVID_19_NY_SBU\n",
       "</pre>\n"
      ],
      "text/plain": [
       "COVID_19_NY_SBU\n"
      ]
     },
     "metadata": {},
     "output_type": "display_data"
    },
    {
     "name": "stderr",
     "output_type": "stream",
     "text": [
      "24-11-14 16:23 | NBIAClient | DEBUG | Parsing params: {'self': <nbiatoolkit.nbia.NBIAClient object at 0x1067d4110>, 'Collection': 'COVID-19-NY-SBU', 'PatientID': '', 'StudyInstanceUID': '', 'Modality': '', 'SeriesInstanceUID': '', 'BodyPartExamined': '', 'ManufacturerModelName': '', 'Manufacturer': '', 'return_type': None, 'returnType': <ReturnType.DATAFRAME: 'dataframe'>}\n",
      "24-11-14 16:23 | NBIAClient | DEBUG | Querying API endpoint: https://services.cancerimagingarchive.net/nbia-api/services/v2/getSeries\n",
      "24-11-14 16:23 | NBIAClient | DEBUG | Query parameters: {'Collection': 'COVID-19-NY-SBU', 'returnType': <ReturnType.DATAFRAME: 'dataframe'>}\n"
     ]
    },
    {
     "data": {
      "text/html": [
       "<pre style=\"white-space:pre;overflow-x:auto;line-height:normal;font-family:Menlo,'DejaVu Sans Mono',consolas,'Courier New',monospace\">CPTAC_CCRCC\n",
       "</pre>\n"
      ],
      "text/plain": [
       "CPTAC_CCRCC\n"
      ]
     },
     "metadata": {},
     "output_type": "display_data"
    },
    {
     "name": "stderr",
     "output_type": "stream",
     "text": [
      "24-11-14 16:24 | NBIAClient | DEBUG | Parsing params: {'self': <nbiatoolkit.nbia.NBIAClient object at 0x1067d4110>, 'Collection': 'CPTAC-CCRCC', 'PatientID': '', 'StudyInstanceUID': '', 'Modality': '', 'SeriesInstanceUID': '', 'BodyPartExamined': '', 'ManufacturerModelName': '', 'Manufacturer': '', 'return_type': None, 'returnType': <ReturnType.DATAFRAME: 'dataframe'>}\n",
      "24-11-14 16:24 | NBIAClient | DEBUG | Querying API endpoint: https://services.cancerimagingarchive.net/nbia-api/services/v2/getSeries\n",
      "24-11-14 16:24 | NBIAClient | DEBUG | Query parameters: {'Collection': 'CPTAC-CCRCC', 'returnType': <ReturnType.DATAFRAME: 'dataframe'>}\n"
     ]
    },
    {
     "data": {
      "text/html": [
       "<pre style=\"white-space:pre;overflow-x:auto;line-height:normal;font-family:Menlo,'DejaVu Sans Mono',consolas,'Courier New',monospace\">CPTAC_CM\n",
       "</pre>\n"
      ],
      "text/plain": [
       "CPTAC_CM\n"
      ]
     },
     "metadata": {},
     "output_type": "display_data"
    },
    {
     "name": "stderr",
     "output_type": "stream",
     "text": [
      "24-11-14 16:24 | NBIAClient | DEBUG | Parsing params: {'self': <nbiatoolkit.nbia.NBIAClient object at 0x1067d4110>, 'Collection': 'CPTAC-CM', 'PatientID': '', 'StudyInstanceUID': '', 'Modality': '', 'SeriesInstanceUID': '', 'BodyPartExamined': '', 'ManufacturerModelName': '', 'Manufacturer': '', 'return_type': None, 'returnType': <ReturnType.DATAFRAME: 'dataframe'>}\n",
      "24-11-14 16:24 | NBIAClient | DEBUG | Querying API endpoint: https://services.cancerimagingarchive.net/nbia-api/services/v2/getSeries\n",
      "24-11-14 16:24 | NBIAClient | DEBUG | Query parameters: {'Collection': 'CPTAC-CM', 'returnType': <ReturnType.DATAFRAME: 'dataframe'>}\n"
     ]
    },
    {
     "data": {
      "text/html": [
       "<pre style=\"white-space:pre;overflow-x:auto;line-height:normal;font-family:Menlo,'DejaVu Sans Mono',consolas,'Courier New',monospace\">CPTAC_HNSCC\n",
       "</pre>\n"
      ],
      "text/plain": [
       "CPTAC_HNSCC\n"
      ]
     },
     "metadata": {},
     "output_type": "display_data"
    },
    {
     "name": "stderr",
     "output_type": "stream",
     "text": [
      "24-11-14 16:24 | NBIAClient | DEBUG | Parsing params: {'self': <nbiatoolkit.nbia.NBIAClient object at 0x1067d4110>, 'Collection': 'CPTAC-HNSCC', 'PatientID': '', 'StudyInstanceUID': '', 'Modality': '', 'SeriesInstanceUID': '', 'BodyPartExamined': '', 'ManufacturerModelName': '', 'Manufacturer': '', 'return_type': None, 'returnType': <ReturnType.DATAFRAME: 'dataframe'>}\n",
      "24-11-14 16:24 | NBIAClient | DEBUG | Querying API endpoint: https://services.cancerimagingarchive.net/nbia-api/services/v2/getSeries\n",
      "24-11-14 16:24 | NBIAClient | DEBUG | Query parameters: {'Collection': 'CPTAC-HNSCC', 'returnType': <ReturnType.DATAFRAME: 'dataframe'>}\n"
     ]
    },
    {
     "data": {
      "text/html": [
       "<pre style=\"white-space:pre;overflow-x:auto;line-height:normal;font-family:Menlo,'DejaVu Sans Mono',consolas,'Courier New',monospace\">CPTAC_LSCC\n",
       "</pre>\n"
      ],
      "text/plain": [
       "CPTAC_LSCC\n"
      ]
     },
     "metadata": {},
     "output_type": "display_data"
    },
    {
     "name": "stderr",
     "output_type": "stream",
     "text": [
      "24-11-14 16:24 | NBIAClient | DEBUG | Parsing params: {'self': <nbiatoolkit.nbia.NBIAClient object at 0x1067d4110>, 'Collection': 'CPTAC-LSCC', 'PatientID': '', 'StudyInstanceUID': '', 'Modality': '', 'SeriesInstanceUID': '', 'BodyPartExamined': '', 'ManufacturerModelName': '', 'Manufacturer': '', 'return_type': None, 'returnType': <ReturnType.DATAFRAME: 'dataframe'>}\n",
      "24-11-14 16:24 | NBIAClient | DEBUG | Querying API endpoint: https://services.cancerimagingarchive.net/nbia-api/services/v2/getSeries\n",
      "24-11-14 16:24 | NBIAClient | DEBUG | Query parameters: {'Collection': 'CPTAC-LSCC', 'returnType': <ReturnType.DATAFRAME: 'dataframe'>}\n"
     ]
    },
    {
     "data": {
      "text/html": [
       "<pre style=\"white-space:pre;overflow-x:auto;line-height:normal;font-family:Menlo,'DejaVu Sans Mono',consolas,'Courier New',monospace\">CPTAC_LUAD\n",
       "</pre>\n"
      ],
      "text/plain": [
       "CPTAC_LUAD\n"
      ]
     },
     "metadata": {},
     "output_type": "display_data"
    },
    {
     "name": "stderr",
     "output_type": "stream",
     "text": [
      "24-11-14 16:24 | NBIAClient | DEBUG | Parsing params: {'self': <nbiatoolkit.nbia.NBIAClient object at 0x1067d4110>, 'Collection': 'CPTAC-LUAD', 'PatientID': '', 'StudyInstanceUID': '', 'Modality': '', 'SeriesInstanceUID': '', 'BodyPartExamined': '', 'ManufacturerModelName': '', 'Manufacturer': '', 'return_type': None, 'returnType': <ReturnType.DATAFRAME: 'dataframe'>}\n",
      "24-11-14 16:24 | NBIAClient | DEBUG | Querying API endpoint: https://services.cancerimagingarchive.net/nbia-api/services/v2/getSeries\n",
      "24-11-14 16:24 | NBIAClient | DEBUG | Query parameters: {'Collection': 'CPTAC-LUAD', 'returnType': <ReturnType.DATAFRAME: 'dataframe'>}\n"
     ]
    },
    {
     "data": {
      "text/html": [
       "<pre style=\"white-space:pre;overflow-x:auto;line-height:normal;font-family:Menlo,'DejaVu Sans Mono',consolas,'Courier New',monospace\">CPTAC_PDA\n",
       "</pre>\n"
      ],
      "text/plain": [
       "CPTAC_PDA\n"
      ]
     },
     "metadata": {},
     "output_type": "display_data"
    },
    {
     "name": "stderr",
     "output_type": "stream",
     "text": [
      "24-11-14 16:24 | NBIAClient | DEBUG | Parsing params: {'self': <nbiatoolkit.nbia.NBIAClient object at 0x1067d4110>, 'Collection': 'CPTAC-PDA', 'PatientID': '', 'StudyInstanceUID': '', 'Modality': '', 'SeriesInstanceUID': '', 'BodyPartExamined': '', 'ManufacturerModelName': '', 'Manufacturer': '', 'return_type': None, 'returnType': <ReturnType.DATAFRAME: 'dataframe'>}\n",
      "24-11-14 16:24 | NBIAClient | DEBUG | Querying API endpoint: https://services.cancerimagingarchive.net/nbia-api/services/v2/getSeries\n",
      "24-11-14 16:24 | NBIAClient | DEBUG | Query parameters: {'Collection': 'CPTAC-PDA', 'returnType': <ReturnType.DATAFRAME: 'dataframe'>}\n"
     ]
    },
    {
     "data": {
      "text/html": [
       "<pre style=\"white-space:pre;overflow-x:auto;line-height:normal;font-family:Menlo,'DejaVu Sans Mono',consolas,'Courier New',monospace\">CPTAC_SAR\n",
       "</pre>\n"
      ],
      "text/plain": [
       "CPTAC_SAR\n"
      ]
     },
     "metadata": {},
     "output_type": "display_data"
    },
    {
     "name": "stderr",
     "output_type": "stream",
     "text": [
      "24-11-14 16:24 | NBIAClient | DEBUG | Parsing params: {'self': <nbiatoolkit.nbia.NBIAClient object at 0x1067d4110>, 'Collection': 'CPTAC-SAR', 'PatientID': '', 'StudyInstanceUID': '', 'Modality': '', 'SeriesInstanceUID': '', 'BodyPartExamined': '', 'ManufacturerModelName': '', 'Manufacturer': '', 'return_type': None, 'returnType': <ReturnType.DATAFRAME: 'dataframe'>}\n",
      "24-11-14 16:24 | NBIAClient | DEBUG | Querying API endpoint: https://services.cancerimagingarchive.net/nbia-api/services/v2/getSeries\n",
      "24-11-14 16:24 | NBIAClient | DEBUG | Query parameters: {'Collection': 'CPTAC-SAR', 'returnType': <ReturnType.DATAFRAME: 'dataframe'>}\n"
     ]
    },
    {
     "data": {
      "text/html": [
       "<pre style=\"white-space:pre;overflow-x:auto;line-height:normal;font-family:Menlo,'DejaVu Sans Mono',consolas,'Courier New',monospace\">CPTAC_UCEC\n",
       "</pre>\n"
      ],
      "text/plain": [
       "CPTAC_UCEC\n"
      ]
     },
     "metadata": {},
     "output_type": "display_data"
    },
    {
     "name": "stderr",
     "output_type": "stream",
     "text": [
      "24-11-14 16:24 | NBIAClient | DEBUG | Parsing params: {'self': <nbiatoolkit.nbia.NBIAClient object at 0x1067d4110>, 'Collection': 'CPTAC-UCEC', 'PatientID': '', 'StudyInstanceUID': '', 'Modality': '', 'SeriesInstanceUID': '', 'BodyPartExamined': '', 'ManufacturerModelName': '', 'Manufacturer': '', 'return_type': None, 'returnType': <ReturnType.DATAFRAME: 'dataframe'>}\n",
      "24-11-14 16:24 | NBIAClient | DEBUG | Querying API endpoint: https://services.cancerimagingarchive.net/nbia-api/services/v2/getSeries\n",
      "24-11-14 16:24 | NBIAClient | DEBUG | Query parameters: {'Collection': 'CPTAC-UCEC', 'returnType': <ReturnType.DATAFRAME: 'dataframe'>}\n"
     ]
    },
    {
     "data": {
      "text/html": [
       "<pre style=\"white-space:pre;overflow-x:auto;line-height:normal;font-family:Menlo,'DejaVu Sans Mono',consolas,'Courier New',monospace\">CT_COLONOGRAPHY\n",
       "</pre>\n"
      ],
      "text/plain": [
       "CT_COLONOGRAPHY\n"
      ]
     },
     "metadata": {},
     "output_type": "display_data"
    },
    {
     "name": "stderr",
     "output_type": "stream",
     "text": [
      "24-11-14 16:24 | NBIAClient | DEBUG | Parsing params: {'self': <nbiatoolkit.nbia.NBIAClient object at 0x1067d4110>, 'Collection': 'CT COLONOGRAPHY', 'PatientID': '', 'StudyInstanceUID': '', 'Modality': '', 'SeriesInstanceUID': '', 'BodyPartExamined': '', 'ManufacturerModelName': '', 'Manufacturer': '', 'return_type': None, 'returnType': <ReturnType.DATAFRAME: 'dataframe'>}\n",
      "24-11-14 16:24 | NBIAClient | DEBUG | Querying API endpoint: https://services.cancerimagingarchive.net/nbia-api/services/v2/getSeries\n",
      "24-11-14 16:24 | NBIAClient | DEBUG | Query parameters: {'Collection': 'CT COLONOGRAPHY', 'returnType': <ReturnType.DATAFRAME: 'dataframe'>}\n"
     ]
    },
    {
     "data": {
      "text/html": [
       "<pre style=\"white-space:pre;overflow-x:auto;line-height:normal;font-family:Menlo,'DejaVu Sans Mono',consolas,'Courier New',monospace\">CT_Lymph_Nodes\n",
       "</pre>\n"
      ],
      "text/plain": [
       "CT_Lymph_Nodes\n"
      ]
     },
     "metadata": {},
     "output_type": "display_data"
    },
    {
     "name": "stderr",
     "output_type": "stream",
     "text": [
      "24-11-14 16:24 | NBIAClient | DEBUG | Parsing params: {'self': <nbiatoolkit.nbia.NBIAClient object at 0x1067d4110>, 'Collection': 'CT Lymph Nodes', 'PatientID': '', 'StudyInstanceUID': '', 'Modality': '', 'SeriesInstanceUID': '', 'BodyPartExamined': '', 'ManufacturerModelName': '', 'Manufacturer': '', 'return_type': None, 'returnType': <ReturnType.DATAFRAME: 'dataframe'>}\n",
      "24-11-14 16:24 | NBIAClient | DEBUG | Querying API endpoint: https://services.cancerimagingarchive.net/nbia-api/services/v2/getSeries\n",
      "24-11-14 16:24 | NBIAClient | DEBUG | Query parameters: {'Collection': 'CT Lymph Nodes', 'returnType': <ReturnType.DATAFRAME: 'dataframe'>}\n"
     ]
    },
    {
     "data": {
      "text/html": [
       "<pre style=\"white-space:pre;overflow-x:auto;line-height:normal;font-family:Menlo,'DejaVu Sans Mono',consolas,'Courier New',monospace\">CT_Phantom4Radiomics\n",
       "</pre>\n"
      ],
      "text/plain": [
       "CT_Phantom4Radiomics\n"
      ]
     },
     "metadata": {},
     "output_type": "display_data"
    },
    {
     "name": "stderr",
     "output_type": "stream",
     "text": [
      "24-11-14 16:24 | NBIAClient | DEBUG | Parsing params: {'self': <nbiatoolkit.nbia.NBIAClient object at 0x1067d4110>, 'Collection': 'CT-Phantom4Radiomics', 'PatientID': '', 'StudyInstanceUID': '', 'Modality': '', 'SeriesInstanceUID': '', 'BodyPartExamined': '', 'ManufacturerModelName': '', 'Manufacturer': '', 'return_type': None, 'returnType': <ReturnType.DATAFRAME: 'dataframe'>}\n",
      "24-11-14 16:24 | NBIAClient | DEBUG | Querying API endpoint: https://services.cancerimagingarchive.net/nbia-api/services/v2/getSeries\n",
      "24-11-14 16:24 | NBIAClient | DEBUG | Query parameters: {'Collection': 'CT-Phantom4Radiomics', 'returnType': <ReturnType.DATAFRAME: 'dataframe'>}\n"
     ]
    },
    {
     "data": {
      "text/html": [
       "<pre style=\"white-space:pre;overflow-x:auto;line-height:normal;font-family:Menlo,'DejaVu Sans Mono',consolas,'Courier New',monospace\">CT_vs_PET_Ventilation_Imaging\n",
       "</pre>\n"
      ],
      "text/plain": [
       "CT_vs_PET_Ventilation_Imaging\n"
      ]
     },
     "metadata": {},
     "output_type": "display_data"
    },
    {
     "name": "stderr",
     "output_type": "stream",
     "text": [
      "24-11-14 16:24 | NBIAClient | DEBUG | Parsing params: {'self': <nbiatoolkit.nbia.NBIAClient object at 0x1067d4110>, 'Collection': 'CT-vs-PET-Ventilation-Imaging', 'PatientID': '', 'StudyInstanceUID': '', 'Modality': '', 'SeriesInstanceUID': '', 'BodyPartExamined': '', 'ManufacturerModelName': '', 'Manufacturer': '', 'return_type': None, 'returnType': <ReturnType.DATAFRAME: 'dataframe'>}\n",
      "24-11-14 16:24 | NBIAClient | DEBUG | Querying API endpoint: https://services.cancerimagingarchive.net/nbia-api/services/v2/getSeries\n",
      "24-11-14 16:24 | NBIAClient | DEBUG | Query parameters: {'Collection': 'CT-vs-PET-Ventilation-Imaging', 'returnType': <ReturnType.DATAFRAME: 'dataframe'>}\n"
     ]
    },
    {
     "data": {
      "text/html": [
       "<pre style=\"white-space:pre;overflow-x:auto;line-height:normal;font-family:Menlo,'DejaVu Sans Mono',consolas,'Courier New',monospace\">CTpred_Sunitinib_panNET\n",
       "</pre>\n"
      ],
      "text/plain": [
       "CTpred_Sunitinib_panNET\n"
      ]
     },
     "metadata": {},
     "output_type": "display_data"
    },
    {
     "name": "stderr",
     "output_type": "stream",
     "text": [
      "24-11-14 16:24 | NBIAClient | DEBUG | Parsing params: {'self': <nbiatoolkit.nbia.NBIAClient object at 0x1067d4110>, 'Collection': 'CTpred-Sunitinib-panNET', 'PatientID': '', 'StudyInstanceUID': '', 'Modality': '', 'SeriesInstanceUID': '', 'BodyPartExamined': '', 'ManufacturerModelName': '', 'Manufacturer': '', 'return_type': None, 'returnType': <ReturnType.DATAFRAME: 'dataframe'>}\n",
      "24-11-14 16:24 | NBIAClient | DEBUG | Querying API endpoint: https://services.cancerimagingarchive.net/nbia-api/services/v2/getSeries\n",
      "24-11-14 16:24 | NBIAClient | DEBUG | Query parameters: {'Collection': 'CTpred-Sunitinib-panNET', 'returnType': <ReturnType.DATAFRAME: 'dataframe'>}\n"
     ]
    },
    {
     "data": {
      "text/html": [
       "<pre style=\"white-space:pre;overflow-x:auto;line-height:normal;font-family:Menlo,'DejaVu Sans Mono',consolas,'Courier New',monospace\">Colorectal_Liver_Metastases\n",
       "</pre>\n"
      ],
      "text/plain": [
       "Colorectal_Liver_Metastases\n"
      ]
     },
     "metadata": {},
     "output_type": "display_data"
    },
    {
     "name": "stderr",
     "output_type": "stream",
     "text": [
      "24-11-14 16:24 | NBIAClient | DEBUG | Parsing params: {'self': <nbiatoolkit.nbia.NBIAClient object at 0x1067d4110>, 'Collection': 'Colorectal-Liver-Metastases', 'PatientID': '', 'StudyInstanceUID': '', 'Modality': '', 'SeriesInstanceUID': '', 'BodyPartExamined': '', 'ManufacturerModelName': '', 'Manufacturer': '', 'return_type': None, 'returnType': <ReturnType.DATAFRAME: 'dataframe'>}\n",
      "24-11-14 16:24 | NBIAClient | DEBUG | Querying API endpoint: https://services.cancerimagingarchive.net/nbia-api/services/v2/getSeries\n",
      "24-11-14 16:24 | NBIAClient | DEBUG | Query parameters: {'Collection': 'Colorectal-Liver-Metastases', 'returnType': <ReturnType.DATAFRAME: 'dataframe'>}\n"
     ]
    },
    {
     "data": {
      "text/html": [
       "<pre style=\"white-space:pre;overflow-x:auto;line-height:normal;font-family:Menlo,'DejaVu Sans Mono',consolas,'Courier New',monospace\">DRO_Toolkit\n",
       "</pre>\n"
      ],
      "text/plain": [
       "DRO_Toolkit\n"
      ]
     },
     "metadata": {},
     "output_type": "display_data"
    },
    {
     "name": "stderr",
     "output_type": "stream",
     "text": [
      "24-11-14 16:24 | NBIAClient | DEBUG | Parsing params: {'self': <nbiatoolkit.nbia.NBIAClient object at 0x1067d4110>, 'Collection': 'DRO-Toolkit', 'PatientID': '', 'StudyInstanceUID': '', 'Modality': '', 'SeriesInstanceUID': '', 'BodyPartExamined': '', 'ManufacturerModelName': '', 'Manufacturer': '', 'return_type': None, 'returnType': <ReturnType.DATAFRAME: 'dataframe'>}\n",
      "24-11-14 16:24 | NBIAClient | DEBUG | Querying API endpoint: https://services.cancerimagingarchive.net/nbia-api/services/v2/getSeries\n",
      "24-11-14 16:24 | NBIAClient | DEBUG | Query parameters: {'Collection': 'DRO-Toolkit', 'returnType': <ReturnType.DATAFRAME: 'dataframe'>}\n"
     ]
    },
    {
     "data": {
      "text/html": [
       "<pre style=\"white-space:pre;overflow-x:auto;line-height:normal;font-family:Menlo,'DejaVu Sans Mono',consolas,'Courier New',monospace\">Duke_Breast_Cancer_MRI\n",
       "</pre>\n"
      ],
      "text/plain": [
       "Duke_Breast_Cancer_MRI\n"
      ]
     },
     "metadata": {},
     "output_type": "display_data"
    },
    {
     "name": "stderr",
     "output_type": "stream",
     "text": [
      "24-11-14 16:24 | NBIAClient | DEBUG | Parsing params: {'self': <nbiatoolkit.nbia.NBIAClient object at 0x1067d4110>, 'Collection': 'Duke-Breast-Cancer-MRI', 'PatientID': '', 'StudyInstanceUID': '', 'Modality': '', 'SeriesInstanceUID': '', 'BodyPartExamined': '', 'ManufacturerModelName': '', 'Manufacturer': '', 'return_type': None, 'returnType': <ReturnType.DATAFRAME: 'dataframe'>}\n",
      "24-11-14 16:24 | NBIAClient | DEBUG | Querying API endpoint: https://services.cancerimagingarchive.net/nbia-api/services/v2/getSeries\n",
      "24-11-14 16:24 | NBIAClient | DEBUG | Query parameters: {'Collection': 'Duke-Breast-Cancer-MRI', 'returnType': <ReturnType.DATAFRAME: 'dataframe'>}\n"
     ]
    },
    {
     "data": {
      "text/html": [
       "<pre style=\"white-space:pre;overflow-x:auto;line-height:normal;font-family:Menlo,'DejaVu Sans Mono',consolas,'Courier New',monospace\">EA1141\n",
       "</pre>\n"
      ],
      "text/plain": [
       "EA1141\n"
      ]
     },
     "metadata": {},
     "output_type": "display_data"
    },
    {
     "name": "stderr",
     "output_type": "stream",
     "text": [
      "24-11-14 16:24 | NBIAClient | DEBUG | Parsing params: {'self': <nbiatoolkit.nbia.NBIAClient object at 0x1067d4110>, 'Collection': 'EA1141', 'PatientID': '', 'StudyInstanceUID': '', 'Modality': '', 'SeriesInstanceUID': '', 'BodyPartExamined': '', 'ManufacturerModelName': '', 'Manufacturer': '', 'return_type': None, 'returnType': <ReturnType.DATAFRAME: 'dataframe'>}\n",
      "24-11-14 16:24 | NBIAClient | DEBUG | Querying API endpoint: https://services.cancerimagingarchive.net/nbia-api/services/v2/getSeries\n",
      "24-11-14 16:24 | NBIAClient | DEBUG | Query parameters: {'Collection': 'EA1141', 'returnType': <ReturnType.DATAFRAME: 'dataframe'>}\n"
     ]
    },
    {
     "data": {
      "text/html": [
       "<pre style=\"white-space:pre;overflow-x:auto;line-height:normal;font-family:Menlo,'DejaVu Sans Mono',consolas,'Courier New',monospace\">GBM_DSC_MRI_DRO\n",
       "</pre>\n"
      ],
      "text/plain": [
       "GBM_DSC_MRI_DRO\n"
      ]
     },
     "metadata": {},
     "output_type": "display_data"
    },
    {
     "name": "stderr",
     "output_type": "stream",
     "text": [
      "24-11-14 16:25 | NBIAClient | DEBUG | Parsing params: {'self': <nbiatoolkit.nbia.NBIAClient object at 0x1067d4110>, 'Collection': 'GBM-DSC-MRI-DRO', 'PatientID': '', 'StudyInstanceUID': '', 'Modality': '', 'SeriesInstanceUID': '', 'BodyPartExamined': '', 'ManufacturerModelName': '', 'Manufacturer': '', 'return_type': None, 'returnType': <ReturnType.DATAFRAME: 'dataframe'>}\n",
      "24-11-14 16:25 | NBIAClient | DEBUG | Querying API endpoint: https://services.cancerimagingarchive.net/nbia-api/services/v2/getSeries\n",
      "24-11-14 16:25 | NBIAClient | DEBUG | Query parameters: {'Collection': 'GBM-DSC-MRI-DRO', 'returnType': <ReturnType.DATAFRAME: 'dataframe'>}\n"
     ]
    },
    {
     "data": {
      "text/html": [
       "<pre style=\"white-space:pre;overflow-x:auto;line-height:normal;font-family:Menlo,'DejaVu Sans Mono',consolas,'Courier New',monospace\">HCC_TACE_Seg\n",
       "</pre>\n"
      ],
      "text/plain": [
       "HCC_TACE_Seg\n"
      ]
     },
     "metadata": {},
     "output_type": "display_data"
    },
    {
     "name": "stderr",
     "output_type": "stream",
     "text": [
      "24-11-14 16:25 | NBIAClient | DEBUG | Parsing params: {'self': <nbiatoolkit.nbia.NBIAClient object at 0x1067d4110>, 'Collection': 'HCC-TACE-Seg', 'PatientID': '', 'StudyInstanceUID': '', 'Modality': '', 'SeriesInstanceUID': '', 'BodyPartExamined': '', 'ManufacturerModelName': '', 'Manufacturer': '', 'return_type': None, 'returnType': <ReturnType.DATAFRAME: 'dataframe'>}\n",
      "24-11-14 16:25 | NBIAClient | DEBUG | Querying API endpoint: https://services.cancerimagingarchive.net/nbia-api/services/v2/getSeries\n",
      "24-11-14 16:25 | NBIAClient | DEBUG | Query parameters: {'Collection': 'HCC-TACE-Seg', 'returnType': <ReturnType.DATAFRAME: 'dataframe'>}\n"
     ]
    },
    {
     "data": {
      "text/html": [
       "<pre style=\"white-space:pre;overflow-x:auto;line-height:normal;font-family:Menlo,'DejaVu Sans Mono',consolas,'Courier New',monospace\">HEAD_NECK_RADIOMICS_HN1\n",
       "</pre>\n"
      ],
      "text/plain": [
       "HEAD_NECK_RADIOMICS_HN1\n"
      ]
     },
     "metadata": {},
     "output_type": "display_data"
    },
    {
     "name": "stderr",
     "output_type": "stream",
     "text": [
      "24-11-14 16:25 | NBIAClient | DEBUG | Parsing params: {'self': <nbiatoolkit.nbia.NBIAClient object at 0x1067d4110>, 'Collection': 'HEAD-NECK-RADIOMICS-HN1', 'PatientID': '', 'StudyInstanceUID': '', 'Modality': '', 'SeriesInstanceUID': '', 'BodyPartExamined': '', 'ManufacturerModelName': '', 'Manufacturer': '', 'return_type': None, 'returnType': <ReturnType.DATAFRAME: 'dataframe'>}\n",
      "24-11-14 16:25 | NBIAClient | DEBUG | Querying API endpoint: https://services.cancerimagingarchive.net/nbia-api/services/v2/getSeries\n",
      "24-11-14 16:25 | NBIAClient | DEBUG | Query parameters: {'Collection': 'HEAD-NECK-RADIOMICS-HN1', 'returnType': <ReturnType.DATAFRAME: 'dataframe'>}\n"
     ]
    },
    {
     "data": {
      "text/html": [
       "<pre style=\"white-space:pre;overflow-x:auto;line-height:normal;font-family:Menlo,'DejaVu Sans Mono',consolas,'Courier New',monospace\">HNSCC\n",
       "</pre>\n"
      ],
      "text/plain": [
       "HNSCC\n"
      ]
     },
     "metadata": {},
     "output_type": "display_data"
    },
    {
     "name": "stderr",
     "output_type": "stream",
     "text": [
      "24-11-14 16:25 | NBIAClient | DEBUG | Parsing params: {'self': <nbiatoolkit.nbia.NBIAClient object at 0x1067d4110>, 'Collection': 'HNSCC', 'PatientID': '', 'StudyInstanceUID': '', 'Modality': '', 'SeriesInstanceUID': '', 'BodyPartExamined': '', 'ManufacturerModelName': '', 'Manufacturer': '', 'return_type': None, 'returnType': <ReturnType.DATAFRAME: 'dataframe'>}\n",
      "24-11-14 16:25 | NBIAClient | DEBUG | Querying API endpoint: https://services.cancerimagingarchive.net/nbia-api/services/v2/getSeries\n",
      "24-11-14 16:25 | NBIAClient | DEBUG | Query parameters: {'Collection': 'HNSCC', 'returnType': <ReturnType.DATAFRAME: 'dataframe'>}\n"
     ]
    },
    {
     "data": {
      "text/html": [
       "<pre style=\"white-space:pre;overflow-x:auto;line-height:normal;font-family:Menlo,'DejaVu Sans Mono',consolas,'Courier New',monospace\">HNSCC_3DCT_RT\n",
       "</pre>\n"
      ],
      "text/plain": [
       "HNSCC_3DCT_RT\n"
      ]
     },
     "metadata": {},
     "output_type": "display_data"
    },
    {
     "name": "stderr",
     "output_type": "stream",
     "text": [
      "24-11-14 16:25 | NBIAClient | DEBUG | Parsing params: {'self': <nbiatoolkit.nbia.NBIAClient object at 0x1067d4110>, 'Collection': 'HNSCC-3DCT-RT', 'PatientID': '', 'StudyInstanceUID': '', 'Modality': '', 'SeriesInstanceUID': '', 'BodyPartExamined': '', 'ManufacturerModelName': '', 'Manufacturer': '', 'return_type': None, 'returnType': <ReturnType.DATAFRAME: 'dataframe'>}\n",
      "24-11-14 16:25 | NBIAClient | DEBUG | Querying API endpoint: https://services.cancerimagingarchive.net/nbia-api/services/v2/getSeries\n",
      "24-11-14 16:25 | NBIAClient | DEBUG | Query parameters: {'Collection': 'HNSCC-3DCT-RT', 'returnType': <ReturnType.DATAFRAME: 'dataframe'>}\n"
     ]
    },
    {
     "data": {
      "text/html": [
       "<pre style=\"white-space:pre;overflow-x:auto;line-height:normal;font-family:Menlo,'DejaVu Sans Mono',consolas,'Courier New',monospace\">Head_Neck_PET_CT\n",
       "</pre>\n"
      ],
      "text/plain": [
       "Head_Neck_PET_CT\n"
      ]
     },
     "metadata": {},
     "output_type": "display_data"
    },
    {
     "name": "stderr",
     "output_type": "stream",
     "text": [
      "24-11-14 16:25 | NBIAClient | DEBUG | Parsing params: {'self': <nbiatoolkit.nbia.NBIAClient object at 0x1067d4110>, 'Collection': 'Head-Neck-PET-CT', 'PatientID': '', 'StudyInstanceUID': '', 'Modality': '', 'SeriesInstanceUID': '', 'BodyPartExamined': '', 'ManufacturerModelName': '', 'Manufacturer': '', 'return_type': None, 'returnType': <ReturnType.DATAFRAME: 'dataframe'>}\n",
      "24-11-14 16:25 | NBIAClient | DEBUG | Querying API endpoint: https://services.cancerimagingarchive.net/nbia-api/services/v2/getSeries\n",
      "24-11-14 16:25 | NBIAClient | DEBUG | Query parameters: {'Collection': 'Head-Neck-PET-CT', 'returnType': <ReturnType.DATAFRAME: 'dataframe'>}\n"
     ]
    },
    {
     "data": {
      "text/html": [
       "<pre style=\"white-space:pre;overflow-x:auto;line-height:normal;font-family:Menlo,'DejaVu Sans Mono',consolas,'Courier New',monospace\">ICDC_Glioma\n",
       "</pre>\n"
      ],
      "text/plain": [
       "ICDC_Glioma\n"
      ]
     },
     "metadata": {},
     "output_type": "display_data"
    },
    {
     "name": "stderr",
     "output_type": "stream",
     "text": [
      "24-11-14 16:25 | NBIAClient | DEBUG | Parsing params: {'self': <nbiatoolkit.nbia.NBIAClient object at 0x1067d4110>, 'Collection': 'ICDC-Glioma', 'PatientID': '', 'StudyInstanceUID': '', 'Modality': '', 'SeriesInstanceUID': '', 'BodyPartExamined': '', 'ManufacturerModelName': '', 'Manufacturer': '', 'return_type': None, 'returnType': <ReturnType.DATAFRAME: 'dataframe'>}\n",
      "24-11-14 16:25 | NBIAClient | DEBUG | Querying API endpoint: https://services.cancerimagingarchive.net/nbia-api/services/v2/getSeries\n",
      "24-11-14 16:25 | NBIAClient | DEBUG | Query parameters: {'Collection': 'ICDC-Glioma', 'returnType': <ReturnType.DATAFRAME: 'dataframe'>}\n"
     ]
    },
    {
     "data": {
      "text/html": [
       "<pre style=\"white-space:pre;overflow-x:auto;line-height:normal;font-family:Menlo,'DejaVu Sans Mono',consolas,'Courier New',monospace\">ISPY1\n",
       "</pre>\n"
      ],
      "text/plain": [
       "ISPY1\n"
      ]
     },
     "metadata": {},
     "output_type": "display_data"
    },
    {
     "name": "stderr",
     "output_type": "stream",
     "text": [
      "24-11-14 16:25 | NBIAClient | DEBUG | Parsing params: {'self': <nbiatoolkit.nbia.NBIAClient object at 0x1067d4110>, 'Collection': 'ISPY1', 'PatientID': '', 'StudyInstanceUID': '', 'Modality': '', 'SeriesInstanceUID': '', 'BodyPartExamined': '', 'ManufacturerModelName': '', 'Manufacturer': '', 'return_type': None, 'returnType': <ReturnType.DATAFRAME: 'dataframe'>}\n",
      "24-11-14 16:25 | NBIAClient | DEBUG | Querying API endpoint: https://services.cancerimagingarchive.net/nbia-api/services/v2/getSeries\n",
      "24-11-14 16:25 | NBIAClient | DEBUG | Query parameters: {'Collection': 'ISPY1', 'returnType': <ReturnType.DATAFRAME: 'dataframe'>}\n"
     ]
    },
    {
     "data": {
      "text/html": [
       "<pre style=\"white-space:pre;overflow-x:auto;line-height:normal;font-family:Menlo,'DejaVu Sans Mono',consolas,'Courier New',monospace\">ISPY2\n",
       "</pre>\n"
      ],
      "text/plain": [
       "ISPY2\n"
      ]
     },
     "metadata": {},
     "output_type": "display_data"
    },
    {
     "name": "stderr",
     "output_type": "stream",
     "text": [
      "24-11-14 16:25 | NBIAClient | DEBUG | Parsing params: {'self': <nbiatoolkit.nbia.NBIAClient object at 0x1067d4110>, 'Collection': 'ISPY2', 'PatientID': '', 'StudyInstanceUID': '', 'Modality': '', 'SeriesInstanceUID': '', 'BodyPartExamined': '', 'ManufacturerModelName': '', 'Manufacturer': '', 'return_type': None, 'returnType': <ReturnType.DATAFRAME: 'dataframe'>}\n",
      "24-11-14 16:25 | NBIAClient | DEBUG | Querying API endpoint: https://services.cancerimagingarchive.net/nbia-api/services/v2/getSeries\n",
      "24-11-14 16:25 | NBIAClient | DEBUG | Query parameters: {'Collection': 'ISPY2', 'returnType': <ReturnType.DATAFRAME: 'dataframe'>}\n"
     ]
    },
    {
     "data": {
      "text/html": [
       "<pre style=\"white-space:pre;overflow-x:auto;line-height:normal;font-family:Menlo,'DejaVu Sans Mono',consolas,'Courier New',monospace\">LCTSC\n",
       "</pre>\n"
      ],
      "text/plain": [
       "LCTSC\n"
      ]
     },
     "metadata": {},
     "output_type": "display_data"
    },
    {
     "name": "stderr",
     "output_type": "stream",
     "text": [
      "24-11-14 16:26 | NBIAClient | DEBUG | Parsing params: {'self': <nbiatoolkit.nbia.NBIAClient object at 0x1067d4110>, 'Collection': 'LCTSC', 'PatientID': '', 'StudyInstanceUID': '', 'Modality': '', 'SeriesInstanceUID': '', 'BodyPartExamined': '', 'ManufacturerModelName': '', 'Manufacturer': '', 'return_type': None, 'returnType': <ReturnType.DATAFRAME: 'dataframe'>}\n",
      "24-11-14 16:26 | NBIAClient | DEBUG | Querying API endpoint: https://services.cancerimagingarchive.net/nbia-api/services/v2/getSeries\n",
      "24-11-14 16:26 | NBIAClient | DEBUG | Query parameters: {'Collection': 'LCTSC', 'returnType': <ReturnType.DATAFRAME: 'dataframe'>}\n"
     ]
    },
    {
     "data": {
      "text/html": [
       "<pre style=\"white-space:pre;overflow-x:auto;line-height:normal;font-family:Menlo,'DejaVu Sans Mono',consolas,'Courier New',monospace\">LIDC_IDRI\n",
       "</pre>\n"
      ],
      "text/plain": [
       "LIDC_IDRI\n"
      ]
     },
     "metadata": {},
     "output_type": "display_data"
    },
    {
     "name": "stderr",
     "output_type": "stream",
     "text": [
      "24-11-14 16:26 | NBIAClient | DEBUG | Parsing params: {'self': <nbiatoolkit.nbia.NBIAClient object at 0x1067d4110>, 'Collection': 'LIDC-IDRI', 'PatientID': '', 'StudyInstanceUID': '', 'Modality': '', 'SeriesInstanceUID': '', 'BodyPartExamined': '', 'ManufacturerModelName': '', 'Manufacturer': '', 'return_type': None, 'returnType': <ReturnType.DATAFRAME: 'dataframe'>}\n",
      "24-11-14 16:26 | NBIAClient | DEBUG | Querying API endpoint: https://services.cancerimagingarchive.net/nbia-api/services/v2/getSeries\n",
      "24-11-14 16:26 | NBIAClient | DEBUG | Query parameters: {'Collection': 'LIDC-IDRI', 'returnType': <ReturnType.DATAFRAME: 'dataframe'>}\n"
     ]
    },
    {
     "data": {
      "text/html": [
       "<pre style=\"white-space:pre;overflow-x:auto;line-height:normal;font-family:Menlo,'DejaVu Sans Mono',consolas,'Courier New',monospace\">Lung_Phantom\n",
       "</pre>\n"
      ],
      "text/plain": [
       "Lung_Phantom\n"
      ]
     },
     "metadata": {},
     "output_type": "display_data"
    },
    {
     "name": "stderr",
     "output_type": "stream",
     "text": [
      "24-11-14 16:26 | NBIAClient | DEBUG | Parsing params: {'self': <nbiatoolkit.nbia.NBIAClient object at 0x1067d4110>, 'Collection': 'Lung Phantom', 'PatientID': '', 'StudyInstanceUID': '', 'Modality': '', 'SeriesInstanceUID': '', 'BodyPartExamined': '', 'ManufacturerModelName': '', 'Manufacturer': '', 'return_type': None, 'returnType': <ReturnType.DATAFRAME: 'dataframe'>}\n",
      "24-11-14 16:26 | NBIAClient | DEBUG | Querying API endpoint: https://services.cancerimagingarchive.net/nbia-api/services/v2/getSeries\n",
      "24-11-14 16:26 | NBIAClient | DEBUG | Query parameters: {'Collection': 'Lung Phantom', 'returnType': <ReturnType.DATAFRAME: 'dataframe'>}\n"
     ]
    },
    {
     "data": {
      "text/html": [
       "<pre style=\"white-space:pre;overflow-x:auto;line-height:normal;font-family:Menlo,'DejaVu Sans Mono',consolas,'Courier New',monospace\">Lung_Fused_CT_Pathology\n",
       "</pre>\n"
      ],
      "text/plain": [
       "Lung_Fused_CT_Pathology\n"
      ]
     },
     "metadata": {},
     "output_type": "display_data"
    },
    {
     "name": "stderr",
     "output_type": "stream",
     "text": [
      "24-11-14 16:26 | NBIAClient | DEBUG | Parsing params: {'self': <nbiatoolkit.nbia.NBIAClient object at 0x1067d4110>, 'Collection': 'Lung-Fused-CT-Pathology', 'PatientID': '', 'StudyInstanceUID': '', 'Modality': '', 'SeriesInstanceUID': '', 'BodyPartExamined': '', 'ManufacturerModelName': '', 'Manufacturer': '', 'return_type': None, 'returnType': <ReturnType.DATAFRAME: 'dataframe'>}\n",
      "24-11-14 16:26 | NBIAClient | DEBUG | Querying API endpoint: https://services.cancerimagingarchive.net/nbia-api/services/v2/getSeries\n",
      "24-11-14 16:26 | NBIAClient | DEBUG | Query parameters: {'Collection': 'Lung-Fused-CT-Pathology', 'returnType': <ReturnType.DATAFRAME: 'dataframe'>}\n"
     ]
    },
    {
     "data": {
      "text/html": [
       "<pre style=\"white-space:pre;overflow-x:auto;line-height:normal;font-family:Menlo,'DejaVu Sans Mono',consolas,'Courier New',monospace\">Lung_PET_CT_Dx\n",
       "</pre>\n"
      ],
      "text/plain": [
       "Lung_PET_CT_Dx\n"
      ]
     },
     "metadata": {},
     "output_type": "display_data"
    },
    {
     "name": "stderr",
     "output_type": "stream",
     "text": [
      "24-11-14 16:26 | NBIAClient | DEBUG | Parsing params: {'self': <nbiatoolkit.nbia.NBIAClient object at 0x1067d4110>, 'Collection': 'Lung-PET-CT-Dx', 'PatientID': '', 'StudyInstanceUID': '', 'Modality': '', 'SeriesInstanceUID': '', 'BodyPartExamined': '', 'ManufacturerModelName': '', 'Manufacturer': '', 'return_type': None, 'returnType': <ReturnType.DATAFRAME: 'dataframe'>}\n",
      "24-11-14 16:26 | NBIAClient | DEBUG | Querying API endpoint: https://services.cancerimagingarchive.net/nbia-api/services/v2/getSeries\n",
      "24-11-14 16:26 | NBIAClient | DEBUG | Query parameters: {'Collection': 'Lung-PET-CT-Dx', 'returnType': <ReturnType.DATAFRAME: 'dataframe'>}\n"
     ]
    },
    {
     "data": {
      "text/html": [
       "<pre style=\"white-space:pre;overflow-x:auto;line-height:normal;font-family:Menlo,'DejaVu Sans Mono',consolas,'Courier New',monospace\">LungCT_Diagnosis\n",
       "</pre>\n"
      ],
      "text/plain": [
       "LungCT_Diagnosis\n"
      ]
     },
     "metadata": {},
     "output_type": "display_data"
    },
    {
     "name": "stderr",
     "output_type": "stream",
     "text": [
      "24-11-14 16:26 | NBIAClient | DEBUG | Parsing params: {'self': <nbiatoolkit.nbia.NBIAClient object at 0x1067d4110>, 'Collection': 'LungCT-Diagnosis', 'PatientID': '', 'StudyInstanceUID': '', 'Modality': '', 'SeriesInstanceUID': '', 'BodyPartExamined': '', 'ManufacturerModelName': '', 'Manufacturer': '', 'return_type': None, 'returnType': <ReturnType.DATAFRAME: 'dataframe'>}\n",
      "24-11-14 16:26 | NBIAClient | DEBUG | Querying API endpoint: https://services.cancerimagingarchive.net/nbia-api/services/v2/getSeries\n",
      "24-11-14 16:26 | NBIAClient | DEBUG | Query parameters: {'Collection': 'LungCT-Diagnosis', 'returnType': <ReturnType.DATAFRAME: 'dataframe'>}\n"
     ]
    },
    {
     "data": {
      "text/html": [
       "<pre style=\"white-space:pre;overflow-x:auto;line-height:normal;font-family:Menlo,'DejaVu Sans Mono',consolas,'Courier New',monospace\">MIDRC_RICORD_1A\n",
       "</pre>\n"
      ],
      "text/plain": [
       "MIDRC_RICORD_1A\n"
      ]
     },
     "metadata": {},
     "output_type": "display_data"
    },
    {
     "name": "stderr",
     "output_type": "stream",
     "text": [
      "24-11-14 16:26 | NBIAClient | DEBUG | Parsing params: {'self': <nbiatoolkit.nbia.NBIAClient object at 0x1067d4110>, 'Collection': 'MIDRC-RICORD-1A', 'PatientID': '', 'StudyInstanceUID': '', 'Modality': '', 'SeriesInstanceUID': '', 'BodyPartExamined': '', 'ManufacturerModelName': '', 'Manufacturer': '', 'return_type': None, 'returnType': <ReturnType.DATAFRAME: 'dataframe'>}\n",
      "24-11-14 16:26 | NBIAClient | DEBUG | Querying API endpoint: https://services.cancerimagingarchive.net/nbia-api/services/v2/getSeries\n",
      "24-11-14 16:26 | NBIAClient | DEBUG | Query parameters: {'Collection': 'MIDRC-RICORD-1A', 'returnType': <ReturnType.DATAFRAME: 'dataframe'>}\n"
     ]
    },
    {
     "data": {
      "text/html": [
       "<pre style=\"white-space:pre;overflow-x:auto;line-height:normal;font-family:Menlo,'DejaVu Sans Mono',consolas,'Courier New',monospace\">MIDRC_RICORD_1B\n",
       "</pre>\n"
      ],
      "text/plain": [
       "MIDRC_RICORD_1B\n"
      ]
     },
     "metadata": {},
     "output_type": "display_data"
    },
    {
     "name": "stderr",
     "output_type": "stream",
     "text": [
      "24-11-14 16:26 | NBIAClient | DEBUG | Parsing params: {'self': <nbiatoolkit.nbia.NBIAClient object at 0x1067d4110>, 'Collection': 'MIDRC-RICORD-1B', 'PatientID': '', 'StudyInstanceUID': '', 'Modality': '', 'SeriesInstanceUID': '', 'BodyPartExamined': '', 'ManufacturerModelName': '', 'Manufacturer': '', 'return_type': None, 'returnType': <ReturnType.DATAFRAME: 'dataframe'>}\n",
      "24-11-14 16:26 | NBIAClient | DEBUG | Querying API endpoint: https://services.cancerimagingarchive.net/nbia-api/services/v2/getSeries\n",
      "24-11-14 16:26 | NBIAClient | DEBUG | Query parameters: {'Collection': 'MIDRC-RICORD-1B', 'returnType': <ReturnType.DATAFRAME: 'dataframe'>}\n"
     ]
    },
    {
     "data": {
      "text/html": [
       "<pre style=\"white-space:pre;overflow-x:auto;line-height:normal;font-family:Menlo,'DejaVu Sans Mono',consolas,'Courier New',monospace\">MIDRC_RICORD_1C\n",
       "</pre>\n"
      ],
      "text/plain": [
       "MIDRC_RICORD_1C\n"
      ]
     },
     "metadata": {},
     "output_type": "display_data"
    },
    {
     "name": "stderr",
     "output_type": "stream",
     "text": [
      "24-11-14 16:26 | NBIAClient | DEBUG | Parsing params: {'self': <nbiatoolkit.nbia.NBIAClient object at 0x1067d4110>, 'Collection': 'MIDRC-RICORD-1C', 'PatientID': '', 'StudyInstanceUID': '', 'Modality': '', 'SeriesInstanceUID': '', 'BodyPartExamined': '', 'ManufacturerModelName': '', 'Manufacturer': '', 'return_type': None, 'returnType': <ReturnType.DATAFRAME: 'dataframe'>}\n",
      "24-11-14 16:26 | NBIAClient | DEBUG | Querying API endpoint: https://services.cancerimagingarchive.net/nbia-api/services/v2/getSeries\n",
      "24-11-14 16:26 | NBIAClient | DEBUG | Query parameters: {'Collection': 'MIDRC-RICORD-1C', 'returnType': <ReturnType.DATAFRAME: 'dataframe'>}\n"
     ]
    },
    {
     "data": {
      "text/html": [
       "<pre style=\"white-space:pre;overflow-x:auto;line-height:normal;font-family:Menlo,'DejaVu Sans Mono',consolas,'Courier New',monospace\">Mediastinal_Lymph_Node_SEG\n",
       "</pre>\n"
      ],
      "text/plain": [
       "Mediastinal_Lymph_Node_SEG\n"
      ]
     },
     "metadata": {},
     "output_type": "display_data"
    },
    {
     "name": "stderr",
     "output_type": "stream",
     "text": [
      "24-11-14 16:26 | NBIAClient | DEBUG | Parsing params: {'self': <nbiatoolkit.nbia.NBIAClient object at 0x1067d4110>, 'Collection': 'Mediastinal-Lymph-Node-SEG', 'PatientID': '', 'StudyInstanceUID': '', 'Modality': '', 'SeriesInstanceUID': '', 'BodyPartExamined': '', 'ManufacturerModelName': '', 'Manufacturer': '', 'return_type': None, 'returnType': <ReturnType.DATAFRAME: 'dataframe'>}\n",
      "24-11-14 16:26 | NBIAClient | DEBUG | Querying API endpoint: https://services.cancerimagingarchive.net/nbia-api/services/v2/getSeries\n",
      "24-11-14 16:26 | NBIAClient | DEBUG | Query parameters: {'Collection': 'Mediastinal-Lymph-Node-SEG', 'returnType': <ReturnType.DATAFRAME: 'dataframe'>}\n"
     ]
    },
    {
     "data": {
      "text/html": [
       "<pre style=\"white-space:pre;overflow-x:auto;line-height:normal;font-family:Menlo,'DejaVu Sans Mono',consolas,'Courier New',monospace\">Mouse_Astrocytoma\n",
       "</pre>\n"
      ],
      "text/plain": [
       "Mouse_Astrocytoma\n"
      ]
     },
     "metadata": {},
     "output_type": "display_data"
    },
    {
     "name": "stderr",
     "output_type": "stream",
     "text": [
      "24-11-14 16:26 | NBIAClient | DEBUG | Parsing params: {'self': <nbiatoolkit.nbia.NBIAClient object at 0x1067d4110>, 'Collection': 'Mouse-Astrocytoma', 'PatientID': '', 'StudyInstanceUID': '', 'Modality': '', 'SeriesInstanceUID': '', 'BodyPartExamined': '', 'ManufacturerModelName': '', 'Manufacturer': '', 'return_type': None, 'returnType': <ReturnType.DATAFRAME: 'dataframe'>}\n",
      "24-11-14 16:26 | NBIAClient | DEBUG | Querying API endpoint: https://services.cancerimagingarchive.net/nbia-api/services/v2/getSeries\n",
      "24-11-14 16:26 | NBIAClient | DEBUG | Query parameters: {'Collection': 'Mouse-Astrocytoma', 'returnType': <ReturnType.DATAFRAME: 'dataframe'>}\n"
     ]
    },
    {
     "data": {
      "text/html": [
       "<pre style=\"white-space:pre;overflow-x:auto;line-height:normal;font-family:Menlo,'DejaVu Sans Mono',consolas,'Courier New',monospace\">Mouse_Mammary\n",
       "</pre>\n"
      ],
      "text/plain": [
       "Mouse_Mammary\n"
      ]
     },
     "metadata": {},
     "output_type": "display_data"
    },
    {
     "name": "stderr",
     "output_type": "stream",
     "text": [
      "24-11-14 16:26 | NBIAClient | DEBUG | Parsing params: {'self': <nbiatoolkit.nbia.NBIAClient object at 0x1067d4110>, 'Collection': 'Mouse-Mammary', 'PatientID': '', 'StudyInstanceUID': '', 'Modality': '', 'SeriesInstanceUID': '', 'BodyPartExamined': '', 'ManufacturerModelName': '', 'Manufacturer': '', 'return_type': None, 'returnType': <ReturnType.DATAFRAME: 'dataframe'>}\n",
      "24-11-14 16:26 | NBIAClient | DEBUG | Querying API endpoint: https://services.cancerimagingarchive.net/nbia-api/services/v2/getSeries\n",
      "24-11-14 16:26 | NBIAClient | DEBUG | Query parameters: {'Collection': 'Mouse-Mammary', 'returnType': <ReturnType.DATAFRAME: 'dataframe'>}\n"
     ]
    },
    {
     "data": {
      "text/html": [
       "<pre style=\"white-space:pre;overflow-x:auto;line-height:normal;font-family:Menlo,'DejaVu Sans Mono',consolas,'Courier New',monospace\">NSCLC_Radiogenomics\n",
       "</pre>\n"
      ],
      "text/plain": [
       "NSCLC_Radiogenomics\n"
      ]
     },
     "metadata": {},
     "output_type": "display_data"
    },
    {
     "name": "stderr",
     "output_type": "stream",
     "text": [
      "24-11-14 16:26 | NBIAClient | DEBUG | Parsing params: {'self': <nbiatoolkit.nbia.NBIAClient object at 0x1067d4110>, 'Collection': 'NSCLC Radiogenomics', 'PatientID': '', 'StudyInstanceUID': '', 'Modality': '', 'SeriesInstanceUID': '', 'BodyPartExamined': '', 'ManufacturerModelName': '', 'Manufacturer': '', 'return_type': None, 'returnType': <ReturnType.DATAFRAME: 'dataframe'>}\n",
      "24-11-14 16:26 | NBIAClient | DEBUG | Querying API endpoint: https://services.cancerimagingarchive.net/nbia-api/services/v2/getSeries\n",
      "24-11-14 16:26 | NBIAClient | DEBUG | Query parameters: {'Collection': 'NSCLC Radiogenomics', 'returnType': <ReturnType.DATAFRAME: 'dataframe'>}\n"
     ]
    },
    {
     "data": {
      "text/html": [
       "<pre style=\"white-space:pre;overflow-x:auto;line-height:normal;font-family:Menlo,'DejaVu Sans Mono',consolas,'Courier New',monospace\">NSCLC_Radiomics\n",
       "</pre>\n"
      ],
      "text/plain": [
       "NSCLC_Radiomics\n"
      ]
     },
     "metadata": {},
     "output_type": "display_data"
    },
    {
     "name": "stderr",
     "output_type": "stream",
     "text": [
      "24-11-14 16:26 | NBIAClient | DEBUG | Parsing params: {'self': <nbiatoolkit.nbia.NBIAClient object at 0x1067d4110>, 'Collection': 'NSCLC-Radiomics', 'PatientID': '', 'StudyInstanceUID': '', 'Modality': '', 'SeriesInstanceUID': '', 'BodyPartExamined': '', 'ManufacturerModelName': '', 'Manufacturer': '', 'return_type': None, 'returnType': <ReturnType.DATAFRAME: 'dataframe'>}\n",
      "24-11-14 16:26 | NBIAClient | DEBUG | Querying API endpoint: https://services.cancerimagingarchive.net/nbia-api/services/v2/getSeries\n",
      "24-11-14 16:26 | NBIAClient | DEBUG | Query parameters: {'Collection': 'NSCLC-Radiomics', 'returnType': <ReturnType.DATAFRAME: 'dataframe'>}\n"
     ]
    },
    {
     "data": {
      "text/html": [
       "<pre style=\"white-space:pre;overflow-x:auto;line-height:normal;font-family:Menlo,'DejaVu Sans Mono',consolas,'Courier New',monospace\">NSCLC_Radiomics_Genomics\n",
       "</pre>\n"
      ],
      "text/plain": [
       "NSCLC_Radiomics_Genomics\n"
      ]
     },
     "metadata": {},
     "output_type": "display_data"
    },
    {
     "name": "stderr",
     "output_type": "stream",
     "text": [
      "24-11-14 16:26 | NBIAClient | DEBUG | Parsing params: {'self': <nbiatoolkit.nbia.NBIAClient object at 0x1067d4110>, 'Collection': 'NSCLC-Radiomics-Genomics', 'PatientID': '', 'StudyInstanceUID': '', 'Modality': '', 'SeriesInstanceUID': '', 'BodyPartExamined': '', 'ManufacturerModelName': '', 'Manufacturer': '', 'return_type': None, 'returnType': <ReturnType.DATAFRAME: 'dataframe'>}\n",
      "24-11-14 16:26 | NBIAClient | DEBUG | Querying API endpoint: https://services.cancerimagingarchive.net/nbia-api/services/v2/getSeries\n",
      "24-11-14 16:26 | NBIAClient | DEBUG | Query parameters: {'Collection': 'NSCLC-Radiomics-Genomics', 'returnType': <ReturnType.DATAFRAME: 'dataframe'>}\n"
     ]
    },
    {
     "data": {
      "text/html": [
       "<pre style=\"white-space:pre;overflow-x:auto;line-height:normal;font-family:Menlo,'DejaVu Sans Mono',consolas,'Courier New',monospace\">NSCLC_Radiomics_Interobserver1\n",
       "</pre>\n"
      ],
      "text/plain": [
       "NSCLC_Radiomics_Interobserver1\n"
      ]
     },
     "metadata": {},
     "output_type": "display_data"
    },
    {
     "name": "stderr",
     "output_type": "stream",
     "text": [
      "24-11-14 16:26 | NBIAClient | DEBUG | Parsing params: {'self': <nbiatoolkit.nbia.NBIAClient object at 0x1067d4110>, 'Collection': 'NSCLC-Radiomics-Interobserver1', 'PatientID': '', 'StudyInstanceUID': '', 'Modality': '', 'SeriesInstanceUID': '', 'BodyPartExamined': '', 'ManufacturerModelName': '', 'Manufacturer': '', 'return_type': None, 'returnType': <ReturnType.DATAFRAME: 'dataframe'>}\n",
      "24-11-14 16:26 | NBIAClient | DEBUG | Querying API endpoint: https://services.cancerimagingarchive.net/nbia-api/services/v2/getSeries\n",
      "24-11-14 16:26 | NBIAClient | DEBUG | Query parameters: {'Collection': 'NSCLC-Radiomics-Interobserver1', 'returnType': <ReturnType.DATAFRAME: 'dataframe'>}\n"
     ]
    },
    {
     "data": {
      "text/html": [
       "<pre style=\"white-space:pre;overflow-x:auto;line-height:normal;font-family:Menlo,'DejaVu Sans Mono',consolas,'Courier New',monospace\">NaF_PROSTATE\n",
       "</pre>\n"
      ],
      "text/plain": [
       "NaF_PROSTATE\n"
      ]
     },
     "metadata": {},
     "output_type": "display_data"
    },
    {
     "name": "stderr",
     "output_type": "stream",
     "text": [
      "24-11-14 16:26 | NBIAClient | DEBUG | Parsing params: {'self': <nbiatoolkit.nbia.NBIAClient object at 0x1067d4110>, 'Collection': 'NaF PROSTATE', 'PatientID': '', 'StudyInstanceUID': '', 'Modality': '', 'SeriesInstanceUID': '', 'BodyPartExamined': '', 'ManufacturerModelName': '', 'Manufacturer': '', 'return_type': None, 'returnType': <ReturnType.DATAFRAME: 'dataframe'>}\n",
      "24-11-14 16:26 | NBIAClient | DEBUG | Querying API endpoint: https://services.cancerimagingarchive.net/nbia-api/services/v2/getSeries\n",
      "24-11-14 16:26 | NBIAClient | DEBUG | Query parameters: {'Collection': 'NaF PROSTATE', 'returnType': <ReturnType.DATAFRAME: 'dataframe'>}\n"
     ]
    },
    {
     "data": {
      "text/html": [
       "<pre style=\"white-space:pre;overflow-x:auto;line-height:normal;font-family:Menlo,'DejaVu Sans Mono',consolas,'Courier New',monospace\">PDMR_292921_168_R\n",
       "</pre>\n"
      ],
      "text/plain": [
       "PDMR_292921_168_R\n"
      ]
     },
     "metadata": {},
     "output_type": "display_data"
    },
    {
     "name": "stderr",
     "output_type": "stream",
     "text": [
      "24-11-14 16:26 | NBIAClient | DEBUG | Parsing params: {'self': <nbiatoolkit.nbia.NBIAClient object at 0x1067d4110>, 'Collection': 'PDMR-292921-168-R', 'PatientID': '', 'StudyInstanceUID': '', 'Modality': '', 'SeriesInstanceUID': '', 'BodyPartExamined': '', 'ManufacturerModelName': '', 'Manufacturer': '', 'return_type': None, 'returnType': <ReturnType.DATAFRAME: 'dataframe'>}\n",
      "24-11-14 16:26 | NBIAClient | DEBUG | Querying API endpoint: https://services.cancerimagingarchive.net/nbia-api/services/v2/getSeries\n",
      "24-11-14 16:26 | NBIAClient | DEBUG | Query parameters: {'Collection': 'PDMR-292921-168-R', 'returnType': <ReturnType.DATAFRAME: 'dataframe'>}\n"
     ]
    },
    {
     "data": {
      "text/html": [
       "<pre style=\"white-space:pre;overflow-x:auto;line-height:normal;font-family:Menlo,'DejaVu Sans Mono',consolas,'Courier New',monospace\">PDMR_425362_245_T\n",
       "</pre>\n"
      ],
      "text/plain": [
       "PDMR_425362_245_T\n"
      ]
     },
     "metadata": {},
     "output_type": "display_data"
    },
    {
     "name": "stderr",
     "output_type": "stream",
     "text": [
      "24-11-14 16:26 | NBIAClient | DEBUG | Parsing params: {'self': <nbiatoolkit.nbia.NBIAClient object at 0x1067d4110>, 'Collection': 'PDMR-425362-245-T', 'PatientID': '', 'StudyInstanceUID': '', 'Modality': '', 'SeriesInstanceUID': '', 'BodyPartExamined': '', 'ManufacturerModelName': '', 'Manufacturer': '', 'return_type': None, 'returnType': <ReturnType.DATAFRAME: 'dataframe'>}\n",
      "24-11-14 16:26 | NBIAClient | DEBUG | Querying API endpoint: https://services.cancerimagingarchive.net/nbia-api/services/v2/getSeries\n",
      "24-11-14 16:26 | NBIAClient | DEBUG | Query parameters: {'Collection': 'PDMR-425362-245-T', 'returnType': <ReturnType.DATAFRAME: 'dataframe'>}\n"
     ]
    },
    {
     "data": {
      "text/html": [
       "<pre style=\"white-space:pre;overflow-x:auto;line-height:normal;font-family:Menlo,'DejaVu Sans Mono',consolas,'Courier New',monospace\">PDMR_521955_158_R4\n",
       "</pre>\n"
      ],
      "text/plain": [
       "PDMR_521955_158_R4\n"
      ]
     },
     "metadata": {},
     "output_type": "display_data"
    },
    {
     "name": "stderr",
     "output_type": "stream",
     "text": [
      "24-11-14 16:27 | NBIAClient | DEBUG | Parsing params: {'self': <nbiatoolkit.nbia.NBIAClient object at 0x1067d4110>, 'Collection': 'PDMR-521955-158-R4', 'PatientID': '', 'StudyInstanceUID': '', 'Modality': '', 'SeriesInstanceUID': '', 'BodyPartExamined': '', 'ManufacturerModelName': '', 'Manufacturer': '', 'return_type': None, 'returnType': <ReturnType.DATAFRAME: 'dataframe'>}\n",
      "24-11-14 16:27 | NBIAClient | DEBUG | Querying API endpoint: https://services.cancerimagingarchive.net/nbia-api/services/v2/getSeries\n",
      "24-11-14 16:27 | NBIAClient | DEBUG | Query parameters: {'Collection': 'PDMR-521955-158-R4', 'returnType': <ReturnType.DATAFRAME: 'dataframe'>}\n"
     ]
    },
    {
     "data": {
      "text/html": [
       "<pre style=\"white-space:pre;overflow-x:auto;line-height:normal;font-family:Menlo,'DejaVu Sans Mono',consolas,'Courier New',monospace\">PDMR_833975_119_R\n",
       "</pre>\n"
      ],
      "text/plain": [
       "PDMR_833975_119_R\n"
      ]
     },
     "metadata": {},
     "output_type": "display_data"
    },
    {
     "name": "stderr",
     "output_type": "stream",
     "text": [
      "24-11-14 16:27 | NBIAClient | DEBUG | Parsing params: {'self': <nbiatoolkit.nbia.NBIAClient object at 0x1067d4110>, 'Collection': 'PDMR-833975-119-R', 'PatientID': '', 'StudyInstanceUID': '', 'Modality': '', 'SeriesInstanceUID': '', 'BodyPartExamined': '', 'ManufacturerModelName': '', 'Manufacturer': '', 'return_type': None, 'returnType': <ReturnType.DATAFRAME: 'dataframe'>}\n",
      "24-11-14 16:27 | NBIAClient | DEBUG | Querying API endpoint: https://services.cancerimagingarchive.net/nbia-api/services/v2/getSeries\n",
      "24-11-14 16:27 | NBIAClient | DEBUG | Query parameters: {'Collection': 'PDMR-833975-119-R', 'returnType': <ReturnType.DATAFRAME: 'dataframe'>}\n"
     ]
    },
    {
     "data": {
      "text/html": [
       "<pre style=\"white-space:pre;overflow-x:auto;line-height:normal;font-family:Menlo,'DejaVu Sans Mono',consolas,'Courier New',monospace\">PDMR_997537_175_T\n",
       "</pre>\n"
      ],
      "text/plain": [
       "PDMR_997537_175_T\n"
      ]
     },
     "metadata": {},
     "output_type": "display_data"
    },
    {
     "name": "stderr",
     "output_type": "stream",
     "text": [
      "24-11-14 16:27 | NBIAClient | DEBUG | Parsing params: {'self': <nbiatoolkit.nbia.NBIAClient object at 0x1067d4110>, 'Collection': 'PDMR-997537-175-T', 'PatientID': '', 'StudyInstanceUID': '', 'Modality': '', 'SeriesInstanceUID': '', 'BodyPartExamined': '', 'ManufacturerModelName': '', 'Manufacturer': '', 'return_type': None, 'returnType': <ReturnType.DATAFRAME: 'dataframe'>}\n",
      "24-11-14 16:27 | NBIAClient | DEBUG | Querying API endpoint: https://services.cancerimagingarchive.net/nbia-api/services/v2/getSeries\n",
      "24-11-14 16:27 | NBIAClient | DEBUG | Query parameters: {'Collection': 'PDMR-997537-175-T', 'returnType': <ReturnType.DATAFRAME: 'dataframe'>}\n"
     ]
    },
    {
     "data": {
      "text/html": [
       "<pre style=\"white-space:pre;overflow-x:auto;line-height:normal;font-family:Menlo,'DejaVu Sans Mono',consolas,'Courier New',monospace\">PDMR_BL0293_F563\n",
       "</pre>\n"
      ],
      "text/plain": [
       "PDMR_BL0293_F563\n"
      ]
     },
     "metadata": {},
     "output_type": "display_data"
    },
    {
     "name": "stderr",
     "output_type": "stream",
     "text": [
      "24-11-14 16:27 | NBIAClient | DEBUG | Parsing params: {'self': <nbiatoolkit.nbia.NBIAClient object at 0x1067d4110>, 'Collection': 'PDMR-BL0293-F563', 'PatientID': '', 'StudyInstanceUID': '', 'Modality': '', 'SeriesInstanceUID': '', 'BodyPartExamined': '', 'ManufacturerModelName': '', 'Manufacturer': '', 'return_type': None, 'returnType': <ReturnType.DATAFRAME: 'dataframe'>}\n",
      "24-11-14 16:27 | NBIAClient | DEBUG | Querying API endpoint: https://services.cancerimagingarchive.net/nbia-api/services/v2/getSeries\n",
      "24-11-14 16:27 | NBIAClient | DEBUG | Query parameters: {'Collection': 'PDMR-BL0293-F563', 'returnType': <ReturnType.DATAFRAME: 'dataframe'>}\n"
     ]
    },
    {
     "data": {
      "text/html": [
       "<pre style=\"white-space:pre;overflow-x:auto;line-height:normal;font-family:Menlo,'DejaVu Sans Mono',consolas,'Courier New',monospace\">PDMR_Texture_Analysis\n",
       "</pre>\n"
      ],
      "text/plain": [
       "PDMR_Texture_Analysis\n"
      ]
     },
     "metadata": {},
     "output_type": "display_data"
    },
    {
     "name": "stderr",
     "output_type": "stream",
     "text": [
      "24-11-14 16:27 | NBIAClient | DEBUG | Parsing params: {'self': <nbiatoolkit.nbia.NBIAClient object at 0x1067d4110>, 'Collection': 'PDMR-Texture-Analysis', 'PatientID': '', 'StudyInstanceUID': '', 'Modality': '', 'SeriesInstanceUID': '', 'BodyPartExamined': '', 'ManufacturerModelName': '', 'Manufacturer': '', 'return_type': None, 'returnType': <ReturnType.DATAFRAME: 'dataframe'>}\n",
      "24-11-14 16:27 | NBIAClient | DEBUG | Querying API endpoint: https://services.cancerimagingarchive.net/nbia-api/services/v2/getSeries\n",
      "24-11-14 16:27 | NBIAClient | DEBUG | Query parameters: {'Collection': 'PDMR-Texture-Analysis', 'returnType': <ReturnType.DATAFRAME: 'dataframe'>}\n"
     ]
    },
    {
     "data": {
      "text/html": [
       "<pre style=\"white-space:pre;overflow-x:auto;line-height:normal;font-family:Menlo,'DejaVu Sans Mono',consolas,'Courier New',monospace\">PROSTATE_DIAGNOSIS\n",
       "</pre>\n"
      ],
      "text/plain": [
       "PROSTATE_DIAGNOSIS\n"
      ]
     },
     "metadata": {},
     "output_type": "display_data"
    },
    {
     "name": "stderr",
     "output_type": "stream",
     "text": [
      "24-11-14 16:27 | NBIAClient | DEBUG | Parsing params: {'self': <nbiatoolkit.nbia.NBIAClient object at 0x1067d4110>, 'Collection': 'PROSTATE-DIAGNOSIS', 'PatientID': '', 'StudyInstanceUID': '', 'Modality': '', 'SeriesInstanceUID': '', 'BodyPartExamined': '', 'ManufacturerModelName': '', 'Manufacturer': '', 'return_type': None, 'returnType': <ReturnType.DATAFRAME: 'dataframe'>}\n",
      "24-11-14 16:27 | NBIAClient | DEBUG | Querying API endpoint: https://services.cancerimagingarchive.net/nbia-api/services/v2/getSeries\n",
      "24-11-14 16:27 | NBIAClient | DEBUG | Query parameters: {'Collection': 'PROSTATE-DIAGNOSIS', 'returnType': <ReturnType.DATAFRAME: 'dataframe'>}\n"
     ]
    },
    {
     "data": {
      "text/html": [
       "<pre style=\"white-space:pre;overflow-x:auto;line-height:normal;font-family:Menlo,'DejaVu Sans Mono',consolas,'Courier New',monospace\">PROSTATE_MRI\n",
       "</pre>\n"
      ],
      "text/plain": [
       "PROSTATE_MRI\n"
      ]
     },
     "metadata": {},
     "output_type": "display_data"
    },
    {
     "name": "stderr",
     "output_type": "stream",
     "text": [
      "24-11-14 16:27 | NBIAClient | DEBUG | Parsing params: {'self': <nbiatoolkit.nbia.NBIAClient object at 0x1067d4110>, 'Collection': 'PROSTATE-MRI', 'PatientID': '', 'StudyInstanceUID': '', 'Modality': '', 'SeriesInstanceUID': '', 'BodyPartExamined': '', 'ManufacturerModelName': '', 'Manufacturer': '', 'return_type': None, 'returnType': <ReturnType.DATAFRAME: 'dataframe'>}\n",
      "24-11-14 16:27 | NBIAClient | DEBUG | Querying API endpoint: https://services.cancerimagingarchive.net/nbia-api/services/v2/getSeries\n",
      "24-11-14 16:27 | NBIAClient | DEBUG | Query parameters: {'Collection': 'PROSTATE-MRI', 'returnType': <ReturnType.DATAFRAME: 'dataframe'>}\n"
     ]
    },
    {
     "data": {
      "text/html": [
       "<pre style=\"white-space:pre;overflow-x:auto;line-height:normal;font-family:Menlo,'DejaVu Sans Mono',consolas,'Courier New',monospace\">PROSTATEx\n",
       "</pre>\n"
      ],
      "text/plain": [
       "PROSTATEx\n"
      ]
     },
     "metadata": {},
     "output_type": "display_data"
    },
    {
     "name": "stderr",
     "output_type": "stream",
     "text": [
      "24-11-14 16:27 | NBIAClient | DEBUG | Parsing params: {'self': <nbiatoolkit.nbia.NBIAClient object at 0x1067d4110>, 'Collection': 'PROSTATEx', 'PatientID': '', 'StudyInstanceUID': '', 'Modality': '', 'SeriesInstanceUID': '', 'BodyPartExamined': '', 'ManufacturerModelName': '', 'Manufacturer': '', 'return_type': None, 'returnType': <ReturnType.DATAFRAME: 'dataframe'>}\n",
      "24-11-14 16:27 | NBIAClient | DEBUG | Querying API endpoint: https://services.cancerimagingarchive.net/nbia-api/services/v2/getSeries\n",
      "24-11-14 16:27 | NBIAClient | DEBUG | Query parameters: {'Collection': 'PROSTATEx', 'returnType': <ReturnType.DATAFRAME: 'dataframe'>}\n"
     ]
    },
    {
     "data": {
      "text/html": [
       "<pre style=\"white-space:pre;overflow-x:auto;line-height:normal;font-family:Menlo,'DejaVu Sans Mono',consolas,'Courier New',monospace\">Pancreas_CT\n",
       "</pre>\n"
      ],
      "text/plain": [
       "Pancreas_CT\n"
      ]
     },
     "metadata": {},
     "output_type": "display_data"
    },
    {
     "name": "stderr",
     "output_type": "stream",
     "text": [
      "24-11-14 16:27 | NBIAClient | DEBUG | Parsing params: {'self': <nbiatoolkit.nbia.NBIAClient object at 0x1067d4110>, 'Collection': 'Pancreas-CT', 'PatientID': '', 'StudyInstanceUID': '', 'Modality': '', 'SeriesInstanceUID': '', 'BodyPartExamined': '', 'ManufacturerModelName': '', 'Manufacturer': '', 'return_type': None, 'returnType': <ReturnType.DATAFRAME: 'dataframe'>}\n",
      "24-11-14 16:27 | NBIAClient | DEBUG | Querying API endpoint: https://services.cancerimagingarchive.net/nbia-api/services/v2/getSeries\n",
      "24-11-14 16:27 | NBIAClient | DEBUG | Query parameters: {'Collection': 'Pancreas-CT', 'returnType': <ReturnType.DATAFRAME: 'dataframe'>}\n"
     ]
    },
    {
     "data": {
      "text/html": [
       "<pre style=\"white-space:pre;overflow-x:auto;line-height:normal;font-family:Menlo,'DejaVu Sans Mono',consolas,'Courier New',monospace\">Pancreatic_CT_CBCT_SEG\n",
       "</pre>\n"
      ],
      "text/plain": [
       "Pancreatic_CT_CBCT_SEG\n"
      ]
     },
     "metadata": {},
     "output_type": "display_data"
    },
    {
     "name": "stderr",
     "output_type": "stream",
     "text": [
      "24-11-14 16:27 | NBIAClient | DEBUG | Parsing params: {'self': <nbiatoolkit.nbia.NBIAClient object at 0x1067d4110>, 'Collection': 'Pancreatic-CT-CBCT-SEG', 'PatientID': '', 'StudyInstanceUID': '', 'Modality': '', 'SeriesInstanceUID': '', 'BodyPartExamined': '', 'ManufacturerModelName': '', 'Manufacturer': '', 'return_type': None, 'returnType': <ReturnType.DATAFRAME: 'dataframe'>}\n",
      "24-11-14 16:27 | NBIAClient | DEBUG | Querying API endpoint: https://services.cancerimagingarchive.net/nbia-api/services/v2/getSeries\n",
      "24-11-14 16:27 | NBIAClient | DEBUG | Query parameters: {'Collection': 'Pancreatic-CT-CBCT-SEG', 'returnType': <ReturnType.DATAFRAME: 'dataframe'>}\n"
     ]
    },
    {
     "data": {
      "text/html": [
       "<pre style=\"white-space:pre;overflow-x:auto;line-height:normal;font-family:Menlo,'DejaVu Sans Mono',consolas,'Courier New',monospace\">Pediatric_CT_SEG\n",
       "</pre>\n"
      ],
      "text/plain": [
       "Pediatric_CT_SEG\n"
      ]
     },
     "metadata": {},
     "output_type": "display_data"
    },
    {
     "name": "stderr",
     "output_type": "stream",
     "text": [
      "24-11-14 16:27 | NBIAClient | DEBUG | Parsing params: {'self': <nbiatoolkit.nbia.NBIAClient object at 0x1067d4110>, 'Collection': 'Pediatric-CT-SEG', 'PatientID': '', 'StudyInstanceUID': '', 'Modality': '', 'SeriesInstanceUID': '', 'BodyPartExamined': '', 'ManufacturerModelName': '', 'Manufacturer': '', 'return_type': None, 'returnType': <ReturnType.DATAFRAME: 'dataframe'>}\n",
      "24-11-14 16:27 | NBIAClient | DEBUG | Querying API endpoint: https://services.cancerimagingarchive.net/nbia-api/services/v2/getSeries\n",
      "24-11-14 16:27 | NBIAClient | DEBUG | Query parameters: {'Collection': 'Pediatric-CT-SEG', 'returnType': <ReturnType.DATAFRAME: 'dataframe'>}\n"
     ]
    },
    {
     "data": {
      "text/html": [
       "<pre style=\"white-space:pre;overflow-x:auto;line-height:normal;font-family:Menlo,'DejaVu Sans Mono',consolas,'Courier New',monospace\">Pelvic_Reference_Data\n",
       "</pre>\n"
      ],
      "text/plain": [
       "Pelvic_Reference_Data\n"
      ]
     },
     "metadata": {},
     "output_type": "display_data"
    },
    {
     "name": "stderr",
     "output_type": "stream",
     "text": [
      "24-11-14 16:27 | NBIAClient | DEBUG | Parsing params: {'self': <nbiatoolkit.nbia.NBIAClient object at 0x1067d4110>, 'Collection': 'Pelvic-Reference-Data', 'PatientID': '', 'StudyInstanceUID': '', 'Modality': '', 'SeriesInstanceUID': '', 'BodyPartExamined': '', 'ManufacturerModelName': '', 'Manufacturer': '', 'return_type': None, 'returnType': <ReturnType.DATAFRAME: 'dataframe'>}\n",
      "24-11-14 16:27 | NBIAClient | DEBUG | Querying API endpoint: https://services.cancerimagingarchive.net/nbia-api/services/v2/getSeries\n",
      "24-11-14 16:27 | NBIAClient | DEBUG | Query parameters: {'Collection': 'Pelvic-Reference-Data', 'returnType': <ReturnType.DATAFRAME: 'dataframe'>}\n"
     ]
    },
    {
     "data": {
      "text/html": [
       "<pre style=\"white-space:pre;overflow-x:auto;line-height:normal;font-family:Menlo,'DejaVu Sans Mono',consolas,'Courier New',monospace\">Phantom_FDA\n",
       "</pre>\n"
      ],
      "text/plain": [
       "Phantom_FDA\n"
      ]
     },
     "metadata": {},
     "output_type": "display_data"
    },
    {
     "name": "stderr",
     "output_type": "stream",
     "text": [
      "24-11-14 16:27 | NBIAClient | DEBUG | Parsing params: {'self': <nbiatoolkit.nbia.NBIAClient object at 0x1067d4110>, 'Collection': 'Phantom FDA', 'PatientID': '', 'StudyInstanceUID': '', 'Modality': '', 'SeriesInstanceUID': '', 'BodyPartExamined': '', 'ManufacturerModelName': '', 'Manufacturer': '', 'return_type': None, 'returnType': <ReturnType.DATAFRAME: 'dataframe'>}\n",
      "24-11-14 16:27 | NBIAClient | DEBUG | Querying API endpoint: https://services.cancerimagingarchive.net/nbia-api/services/v2/getSeries\n",
      "24-11-14 16:27 | NBIAClient | DEBUG | Query parameters: {'Collection': 'Phantom FDA', 'returnType': <ReturnType.DATAFRAME: 'dataframe'>}\n"
     ]
    },
    {
     "data": {
      "text/html": [
       "<pre style=\"white-space:pre;overflow-x:auto;line-height:normal;font-family:Menlo,'DejaVu Sans Mono',consolas,'Courier New',monospace\">Prostate_Fused_MRI_Pathology\n",
       "</pre>\n"
      ],
      "text/plain": [
       "Prostate_Fused_MRI_Pathology\n"
      ]
     },
     "metadata": {},
     "output_type": "display_data"
    },
    {
     "name": "stderr",
     "output_type": "stream",
     "text": [
      "24-11-14 16:27 | NBIAClient | DEBUG | Parsing params: {'self': <nbiatoolkit.nbia.NBIAClient object at 0x1067d4110>, 'Collection': 'Prostate Fused-MRI-Pathology', 'PatientID': '', 'StudyInstanceUID': '', 'Modality': '', 'SeriesInstanceUID': '', 'BodyPartExamined': '', 'ManufacturerModelName': '', 'Manufacturer': '', 'return_type': None, 'returnType': <ReturnType.DATAFRAME: 'dataframe'>}\n",
      "24-11-14 16:27 | NBIAClient | DEBUG | Querying API endpoint: https://services.cancerimagingarchive.net/nbia-api/services/v2/getSeries\n",
      "24-11-14 16:27 | NBIAClient | DEBUG | Query parameters: {'Collection': 'Prostate Fused-MRI-Pathology', 'returnType': <ReturnType.DATAFRAME: 'dataframe'>}\n"
     ]
    },
    {
     "data": {
      "text/html": [
       "<pre style=\"white-space:pre;overflow-x:auto;line-height:normal;font-family:Menlo,'DejaVu Sans Mono',consolas,'Courier New',monospace\">Prostate_3T\n",
       "</pre>\n"
      ],
      "text/plain": [
       "Prostate_3T\n"
      ]
     },
     "metadata": {},
     "output_type": "display_data"
    },
    {
     "name": "stderr",
     "output_type": "stream",
     "text": [
      "24-11-14 16:27 | NBIAClient | DEBUG | Parsing params: {'self': <nbiatoolkit.nbia.NBIAClient object at 0x1067d4110>, 'Collection': 'Prostate-3T', 'PatientID': '', 'StudyInstanceUID': '', 'Modality': '', 'SeriesInstanceUID': '', 'BodyPartExamined': '', 'ManufacturerModelName': '', 'Manufacturer': '', 'return_type': None, 'returnType': <ReturnType.DATAFRAME: 'dataframe'>}\n",
      "24-11-14 16:27 | NBIAClient | DEBUG | Querying API endpoint: https://services.cancerimagingarchive.net/nbia-api/services/v2/getSeries\n",
      "24-11-14 16:27 | NBIAClient | DEBUG | Query parameters: {'Collection': 'Prostate-3T', 'returnType': <ReturnType.DATAFRAME: 'dataframe'>}\n"
     ]
    },
    {
     "data": {
      "text/html": [
       "<pre style=\"white-space:pre;overflow-x:auto;line-height:normal;font-family:Menlo,'DejaVu Sans Mono',consolas,'Courier New',monospace\">Prostate_Anatomical_Edge_Cases\n",
       "</pre>\n"
      ],
      "text/plain": [
       "Prostate_Anatomical_Edge_Cases\n"
      ]
     },
     "metadata": {},
     "output_type": "display_data"
    },
    {
     "name": "stderr",
     "output_type": "stream",
     "text": [
      "24-11-14 16:27 | NBIAClient | DEBUG | Parsing params: {'self': <nbiatoolkit.nbia.NBIAClient object at 0x1067d4110>, 'Collection': 'Prostate-Anatomical-Edge-Cases', 'PatientID': '', 'StudyInstanceUID': '', 'Modality': '', 'SeriesInstanceUID': '', 'BodyPartExamined': '', 'ManufacturerModelName': '', 'Manufacturer': '', 'return_type': None, 'returnType': <ReturnType.DATAFRAME: 'dataframe'>}\n",
      "24-11-14 16:27 | NBIAClient | DEBUG | Querying API endpoint: https://services.cancerimagingarchive.net/nbia-api/services/v2/getSeries\n",
      "24-11-14 16:27 | NBIAClient | DEBUG | Query parameters: {'Collection': 'Prostate-Anatomical-Edge-Cases', 'returnType': <ReturnType.DATAFRAME: 'dataframe'>}\n"
     ]
    },
    {
     "data": {
      "text/html": [
       "<pre style=\"white-space:pre;overflow-x:auto;line-height:normal;font-family:Menlo,'DejaVu Sans Mono',consolas,'Courier New',monospace\">Prostate_MRI_US_Biopsy\n",
       "</pre>\n"
      ],
      "text/plain": [
       "Prostate_MRI_US_Biopsy\n"
      ]
     },
     "metadata": {},
     "output_type": "display_data"
    },
    {
     "name": "stderr",
     "output_type": "stream",
     "text": [
      "24-11-14 16:27 | NBIAClient | DEBUG | Parsing params: {'self': <nbiatoolkit.nbia.NBIAClient object at 0x1067d4110>, 'Collection': 'Prostate-MRI-US-Biopsy', 'PatientID': '', 'StudyInstanceUID': '', 'Modality': '', 'SeriesInstanceUID': '', 'BodyPartExamined': '', 'ManufacturerModelName': '', 'Manufacturer': '', 'return_type': None, 'returnType': <ReturnType.DATAFRAME: 'dataframe'>}\n",
      "24-11-14 16:27 | NBIAClient | DEBUG | Querying API endpoint: https://services.cancerimagingarchive.net/nbia-api/services/v2/getSeries\n",
      "24-11-14 16:27 | NBIAClient | DEBUG | Query parameters: {'Collection': 'Prostate-MRI-US-Biopsy', 'returnType': <ReturnType.DATAFRAME: 'dataframe'>}\n"
     ]
    },
    {
     "data": {
      "text/html": [
       "<pre style=\"white-space:pre;overflow-x:auto;line-height:normal;font-family:Menlo,'DejaVu Sans Mono',consolas,'Courier New',monospace\">Pseudo_PHI_DICOM_Data\n",
       "</pre>\n"
      ],
      "text/plain": [
       "Pseudo_PHI_DICOM_Data\n"
      ]
     },
     "metadata": {},
     "output_type": "display_data"
    },
    {
     "name": "stderr",
     "output_type": "stream",
     "text": [
      "24-11-14 16:27 | NBIAClient | DEBUG | Parsing params: {'self': <nbiatoolkit.nbia.NBIAClient object at 0x1067d4110>, 'Collection': 'Pseudo-PHI-DICOM-Data', 'PatientID': '', 'StudyInstanceUID': '', 'Modality': '', 'SeriesInstanceUID': '', 'BodyPartExamined': '', 'ManufacturerModelName': '', 'Manufacturer': '', 'return_type': None, 'returnType': <ReturnType.DATAFRAME: 'dataframe'>}\n",
      "24-11-14 16:27 | NBIAClient | DEBUG | Querying API endpoint: https://services.cancerimagingarchive.net/nbia-api/services/v2/getSeries\n",
      "24-11-14 16:27 | NBIAClient | DEBUG | Query parameters: {'Collection': 'Pseudo-PHI-DICOM-Data', 'returnType': <ReturnType.DATAFRAME: 'dataframe'>}\n"
     ]
    },
    {
     "data": {
      "text/html": [
       "<pre style=\"white-space:pre;overflow-x:auto;line-height:normal;font-family:Menlo,'DejaVu Sans Mono',consolas,'Courier New',monospace\">QIBA_CT_1C\n",
       "</pre>\n"
      ],
      "text/plain": [
       "QIBA_CT_1C\n"
      ]
     },
     "metadata": {},
     "output_type": "display_data"
    },
    {
     "name": "stderr",
     "output_type": "stream",
     "text": [
      "24-11-14 16:27 | NBIAClient | DEBUG | Parsing params: {'self': <nbiatoolkit.nbia.NBIAClient object at 0x1067d4110>, 'Collection': 'QIBA CT-1C', 'PatientID': '', 'StudyInstanceUID': '', 'Modality': '', 'SeriesInstanceUID': '', 'BodyPartExamined': '', 'ManufacturerModelName': '', 'Manufacturer': '', 'return_type': None, 'returnType': <ReturnType.DATAFRAME: 'dataframe'>}\n",
      "24-11-14 16:27 | NBIAClient | DEBUG | Querying API endpoint: https://services.cancerimagingarchive.net/nbia-api/services/v2/getSeries\n",
      "24-11-14 16:27 | NBIAClient | DEBUG | Query parameters: {'Collection': 'QIBA CT-1C', 'returnType': <ReturnType.DATAFRAME: 'dataframe'>}\n"
     ]
    },
    {
     "data": {
      "text/html": [
       "<pre style=\"white-space:pre;overflow-x:auto;line-height:normal;font-family:Menlo,'DejaVu Sans Mono',consolas,'Courier New',monospace\">QIBA_CT_Liver_Phantom\n",
       "</pre>\n"
      ],
      "text/plain": [
       "QIBA_CT_Liver_Phantom\n"
      ]
     },
     "metadata": {},
     "output_type": "display_data"
    },
    {
     "name": "stderr",
     "output_type": "stream",
     "text": [
      "24-11-14 16:27 | NBIAClient | DEBUG | Parsing params: {'self': <nbiatoolkit.nbia.NBIAClient object at 0x1067d4110>, 'Collection': 'QIBA-CT-Liver-Phantom', 'PatientID': '', 'StudyInstanceUID': '', 'Modality': '', 'SeriesInstanceUID': '', 'BodyPartExamined': '', 'ManufacturerModelName': '', 'Manufacturer': '', 'return_type': None, 'returnType': <ReturnType.DATAFRAME: 'dataframe'>}\n",
      "24-11-14 16:27 | NBIAClient | DEBUG | Querying API endpoint: https://services.cancerimagingarchive.net/nbia-api/services/v2/getSeries\n",
      "24-11-14 16:27 | NBIAClient | DEBUG | Query parameters: {'Collection': 'QIBA-CT-Liver-Phantom', 'returnType': <ReturnType.DATAFRAME: 'dataframe'>}\n"
     ]
    },
    {
     "data": {
      "text/html": [
       "<pre style=\"white-space:pre;overflow-x:auto;line-height:normal;font-family:Menlo,'DejaVu Sans Mono',consolas,'Courier New',monospace\">QIN_Breast_DCE_MRI\n",
       "</pre>\n"
      ],
      "text/plain": [
       "QIN_Breast_DCE_MRI\n"
      ]
     },
     "metadata": {},
     "output_type": "display_data"
    },
    {
     "name": "stderr",
     "output_type": "stream",
     "text": [
      "24-11-14 16:27 | NBIAClient | DEBUG | Parsing params: {'self': <nbiatoolkit.nbia.NBIAClient object at 0x1067d4110>, 'Collection': 'QIN Breast DCE-MRI', 'PatientID': '', 'StudyInstanceUID': '', 'Modality': '', 'SeriesInstanceUID': '', 'BodyPartExamined': '', 'ManufacturerModelName': '', 'Manufacturer': '', 'return_type': None, 'returnType': <ReturnType.DATAFRAME: 'dataframe'>}\n",
      "24-11-14 16:27 | NBIAClient | DEBUG | Querying API endpoint: https://services.cancerimagingarchive.net/nbia-api/services/v2/getSeries\n",
      "24-11-14 16:27 | NBIAClient | DEBUG | Query parameters: {'Collection': 'QIN Breast DCE-MRI', 'returnType': <ReturnType.DATAFRAME: 'dataframe'>}\n"
     ]
    },
    {
     "data": {
      "text/html": [
       "<pre style=\"white-space:pre;overflow-x:auto;line-height:normal;font-family:Menlo,'DejaVu Sans Mono',consolas,'Courier New',monospace\">QIN_LUNG_CT\n",
       "</pre>\n"
      ],
      "text/plain": [
       "QIN_LUNG_CT\n"
      ]
     },
     "metadata": {},
     "output_type": "display_data"
    },
    {
     "name": "stderr",
     "output_type": "stream",
     "text": [
      "24-11-14 16:28 | NBIAClient | DEBUG | Parsing params: {'self': <nbiatoolkit.nbia.NBIAClient object at 0x1067d4110>, 'Collection': 'QIN LUNG CT', 'PatientID': '', 'StudyInstanceUID': '', 'Modality': '', 'SeriesInstanceUID': '', 'BodyPartExamined': '', 'ManufacturerModelName': '', 'Manufacturer': '', 'return_type': None, 'returnType': <ReturnType.DATAFRAME: 'dataframe'>}\n",
      "24-11-14 16:28 | NBIAClient | DEBUG | Querying API endpoint: https://services.cancerimagingarchive.net/nbia-api/services/v2/getSeries\n",
      "24-11-14 16:28 | NBIAClient | DEBUG | Query parameters: {'Collection': 'QIN LUNG CT', 'returnType': <ReturnType.DATAFRAME: 'dataframe'>}\n"
     ]
    },
    {
     "data": {
      "text/html": [
       "<pre style=\"white-space:pre;overflow-x:auto;line-height:normal;font-family:Menlo,'DejaVu Sans Mono',consolas,'Courier New',monospace\">QIN_PET_Phantom\n",
       "</pre>\n"
      ],
      "text/plain": [
       "QIN_PET_Phantom\n"
      ]
     },
     "metadata": {},
     "output_type": "display_data"
    },
    {
     "name": "stderr",
     "output_type": "stream",
     "text": [
      "24-11-14 16:28 | NBIAClient | DEBUG | Parsing params: {'self': <nbiatoolkit.nbia.NBIAClient object at 0x1067d4110>, 'Collection': 'QIN PET Phantom', 'PatientID': '', 'StudyInstanceUID': '', 'Modality': '', 'SeriesInstanceUID': '', 'BodyPartExamined': '', 'ManufacturerModelName': '', 'Manufacturer': '', 'return_type': None, 'returnType': <ReturnType.DATAFRAME: 'dataframe'>}\n",
      "24-11-14 16:28 | NBIAClient | DEBUG | Querying API endpoint: https://services.cancerimagingarchive.net/nbia-api/services/v2/getSeries\n",
      "24-11-14 16:28 | NBIAClient | DEBUG | Query parameters: {'Collection': 'QIN PET Phantom', 'returnType': <ReturnType.DATAFRAME: 'dataframe'>}\n"
     ]
    },
    {
     "data": {
      "text/html": [
       "<pre style=\"white-space:pre;overflow-x:auto;line-height:normal;font-family:Menlo,'DejaVu Sans Mono',consolas,'Courier New',monospace\">QIN_BREAST\n",
       "</pre>\n"
      ],
      "text/plain": [
       "QIN_BREAST\n"
      ]
     },
     "metadata": {},
     "output_type": "display_data"
    },
    {
     "name": "stderr",
     "output_type": "stream",
     "text": [
      "24-11-14 16:28 | NBIAClient | DEBUG | Parsing params: {'self': <nbiatoolkit.nbia.NBIAClient object at 0x1067d4110>, 'Collection': 'QIN-BREAST', 'PatientID': '', 'StudyInstanceUID': '', 'Modality': '', 'SeriesInstanceUID': '', 'BodyPartExamined': '', 'ManufacturerModelName': '', 'Manufacturer': '', 'return_type': None, 'returnType': <ReturnType.DATAFRAME: 'dataframe'>}\n",
      "24-11-14 16:28 | NBIAClient | DEBUG | Querying API endpoint: https://services.cancerimagingarchive.net/nbia-api/services/v2/getSeries\n",
      "24-11-14 16:28 | NBIAClient | DEBUG | Query parameters: {'Collection': 'QIN-BREAST', 'returnType': <ReturnType.DATAFRAME: 'dataframe'>}\n"
     ]
    },
    {
     "data": {
      "text/html": [
       "<pre style=\"white-space:pre;overflow-x:auto;line-height:normal;font-family:Menlo,'DejaVu Sans Mono',consolas,'Courier New',monospace\">QIN_HEADNECK\n",
       "</pre>\n"
      ],
      "text/plain": [
       "QIN_HEADNECK\n"
      ]
     },
     "metadata": {},
     "output_type": "display_data"
    },
    {
     "name": "stderr",
     "output_type": "stream",
     "text": [
      "24-11-14 16:28 | NBIAClient | DEBUG | Parsing params: {'self': <nbiatoolkit.nbia.NBIAClient object at 0x1067d4110>, 'Collection': 'QIN-HEADNECK', 'PatientID': '', 'StudyInstanceUID': '', 'Modality': '', 'SeriesInstanceUID': '', 'BodyPartExamined': '', 'ManufacturerModelName': '', 'Manufacturer': '', 'return_type': None, 'returnType': <ReturnType.DATAFRAME: 'dataframe'>}\n",
      "24-11-14 16:28 | NBIAClient | DEBUG | Querying API endpoint: https://services.cancerimagingarchive.net/nbia-api/services/v2/getSeries\n",
      "24-11-14 16:28 | NBIAClient | DEBUG | Query parameters: {'Collection': 'QIN-HEADNECK', 'returnType': <ReturnType.DATAFRAME: 'dataframe'>}\n"
     ]
    },
    {
     "data": {
      "text/html": [
       "<pre style=\"white-space:pre;overflow-x:auto;line-height:normal;font-family:Menlo,'DejaVu Sans Mono',consolas,'Courier New',monospace\">QIN_PROSTATE_Repeatability\n",
       "</pre>\n"
      ],
      "text/plain": [
       "QIN_PROSTATE_Repeatability\n"
      ]
     },
     "metadata": {},
     "output_type": "display_data"
    },
    {
     "name": "stderr",
     "output_type": "stream",
     "text": [
      "24-11-14 16:28 | NBIAClient | DEBUG | Parsing params: {'self': <nbiatoolkit.nbia.NBIAClient object at 0x1067d4110>, 'Collection': 'QIN-PROSTATE-Repeatability', 'PatientID': '', 'StudyInstanceUID': '', 'Modality': '', 'SeriesInstanceUID': '', 'BodyPartExamined': '', 'ManufacturerModelName': '', 'Manufacturer': '', 'return_type': None, 'returnType': <ReturnType.DATAFRAME: 'dataframe'>}\n",
      "24-11-14 16:28 | NBIAClient | DEBUG | Querying API endpoint: https://services.cancerimagingarchive.net/nbia-api/services/v2/getSeries\n",
      "24-11-14 16:28 | NBIAClient | DEBUG | Query parameters: {'Collection': 'QIN-PROSTATE-Repeatability', 'returnType': <ReturnType.DATAFRAME: 'dataframe'>}\n"
     ]
    },
    {
     "data": {
      "text/html": [
       "<pre style=\"white-space:pre;overflow-x:auto;line-height:normal;font-family:Menlo,'DejaVu Sans Mono',consolas,'Courier New',monospace\">RADCURE\n",
       "</pre>\n"
      ],
      "text/plain": [
       "RADCURE\n"
      ]
     },
     "metadata": {},
     "output_type": "display_data"
    },
    {
     "name": "stderr",
     "output_type": "stream",
     "text": [
      "24-11-14 16:28 | NBIAClient | DEBUG | Parsing params: {'self': <nbiatoolkit.nbia.NBIAClient object at 0x1067d4110>, 'Collection': 'RADCURE', 'PatientID': '', 'StudyInstanceUID': '', 'Modality': '', 'SeriesInstanceUID': '', 'BodyPartExamined': '', 'ManufacturerModelName': '', 'Manufacturer': '', 'return_type': None, 'returnType': <ReturnType.DATAFRAME: 'dataframe'>}\n",
      "24-11-14 16:28 | NBIAClient | DEBUG | Querying API endpoint: https://services.cancerimagingarchive.net/nbia-api/services/v2/getSeries\n",
      "24-11-14 16:28 | NBIAClient | DEBUG | Query parameters: {'Collection': 'RADCURE', 'returnType': <ReturnType.DATAFRAME: 'dataframe'>}\n"
     ]
    },
    {
     "data": {
      "text/html": [
       "<pre style=\"white-space:pre;overflow-x:auto;line-height:normal;font-family:Menlo,'DejaVu Sans Mono',consolas,'Courier New',monospace\">RIDER_Breast_MRI\n",
       "</pre>\n"
      ],
      "text/plain": [
       "RIDER_Breast_MRI\n"
      ]
     },
     "metadata": {},
     "output_type": "display_data"
    },
    {
     "name": "stderr",
     "output_type": "stream",
     "text": [
      "24-11-14 16:28 | NBIAClient | DEBUG | Parsing params: {'self': <nbiatoolkit.nbia.NBIAClient object at 0x1067d4110>, 'Collection': 'RIDER Breast MRI', 'PatientID': '', 'StudyInstanceUID': '', 'Modality': '', 'SeriesInstanceUID': '', 'BodyPartExamined': '', 'ManufacturerModelName': '', 'Manufacturer': '', 'return_type': None, 'returnType': <ReturnType.DATAFRAME: 'dataframe'>}\n",
      "24-11-14 16:28 | NBIAClient | DEBUG | Querying API endpoint: https://services.cancerimagingarchive.net/nbia-api/services/v2/getSeries\n",
      "24-11-14 16:28 | NBIAClient | DEBUG | Query parameters: {'Collection': 'RIDER Breast MRI', 'returnType': <ReturnType.DATAFRAME: 'dataframe'>}\n"
     ]
    },
    {
     "data": {
      "text/html": [
       "<pre style=\"white-space:pre;overflow-x:auto;line-height:normal;font-family:Menlo,'DejaVu Sans Mono',consolas,'Courier New',monospace\">RIDER_Lung_CT\n",
       "</pre>\n"
      ],
      "text/plain": [
       "RIDER_Lung_CT\n"
      ]
     },
     "metadata": {},
     "output_type": "display_data"
    },
    {
     "name": "stderr",
     "output_type": "stream",
     "text": [
      "24-11-14 16:28 | NBIAClient | DEBUG | Parsing params: {'self': <nbiatoolkit.nbia.NBIAClient object at 0x1067d4110>, 'Collection': 'RIDER Lung CT', 'PatientID': '', 'StudyInstanceUID': '', 'Modality': '', 'SeriesInstanceUID': '', 'BodyPartExamined': '', 'ManufacturerModelName': '', 'Manufacturer': '', 'return_type': None, 'returnType': <ReturnType.DATAFRAME: 'dataframe'>}\n",
      "24-11-14 16:28 | NBIAClient | DEBUG | Querying API endpoint: https://services.cancerimagingarchive.net/nbia-api/services/v2/getSeries\n",
      "24-11-14 16:28 | NBIAClient | DEBUG | Query parameters: {'Collection': 'RIDER Lung CT', 'returnType': <ReturnType.DATAFRAME: 'dataframe'>}\n"
     ]
    },
    {
     "data": {
      "text/html": [
       "<pre style=\"white-space:pre;overflow-x:auto;line-height:normal;font-family:Menlo,'DejaVu Sans Mono',consolas,'Courier New',monospace\">RIDER_Lung_PET_CT\n",
       "</pre>\n"
      ],
      "text/plain": [
       "RIDER_Lung_PET_CT\n"
      ]
     },
     "metadata": {},
     "output_type": "display_data"
    },
    {
     "name": "stderr",
     "output_type": "stream",
     "text": [
      "24-11-14 16:28 | NBIAClient | DEBUG | Parsing params: {'self': <nbiatoolkit.nbia.NBIAClient object at 0x1067d4110>, 'Collection': 'RIDER Lung PET-CT', 'PatientID': '', 'StudyInstanceUID': '', 'Modality': '', 'SeriesInstanceUID': '', 'BodyPartExamined': '', 'ManufacturerModelName': '', 'Manufacturer': '', 'return_type': None, 'returnType': <ReturnType.DATAFRAME: 'dataframe'>}\n",
      "24-11-14 16:28 | NBIAClient | DEBUG | Querying API endpoint: https://services.cancerimagingarchive.net/nbia-api/services/v2/getSeries\n",
      "24-11-14 16:28 | NBIAClient | DEBUG | Query parameters: {'Collection': 'RIDER Lung PET-CT', 'returnType': <ReturnType.DATAFRAME: 'dataframe'>}\n"
     ]
    },
    {
     "data": {
      "text/html": [
       "<pre style=\"white-space:pre;overflow-x:auto;line-height:normal;font-family:Menlo,'DejaVu Sans Mono',consolas,'Courier New',monospace\">RIDER_PHANTOM_MRI\n",
       "</pre>\n"
      ],
      "text/plain": [
       "RIDER_PHANTOM_MRI\n"
      ]
     },
     "metadata": {},
     "output_type": "display_data"
    },
    {
     "name": "stderr",
     "output_type": "stream",
     "text": [
      "24-11-14 16:28 | NBIAClient | DEBUG | Parsing params: {'self': <nbiatoolkit.nbia.NBIAClient object at 0x1067d4110>, 'Collection': 'RIDER PHANTOM MRI', 'PatientID': '', 'StudyInstanceUID': '', 'Modality': '', 'SeriesInstanceUID': '', 'BodyPartExamined': '', 'ManufacturerModelName': '', 'Manufacturer': '', 'return_type': None, 'returnType': <ReturnType.DATAFRAME: 'dataframe'>}\n",
      "24-11-14 16:28 | NBIAClient | DEBUG | Querying API endpoint: https://services.cancerimagingarchive.net/nbia-api/services/v2/getSeries\n",
      "24-11-14 16:28 | NBIAClient | DEBUG | Query parameters: {'Collection': 'RIDER PHANTOM MRI', 'returnType': <ReturnType.DATAFRAME: 'dataframe'>}\n"
     ]
    },
    {
     "data": {
      "text/html": [
       "<pre style=\"white-space:pre;overflow-x:auto;line-height:normal;font-family:Menlo,'DejaVu Sans Mono',consolas,'Courier New',monospace\">RIDER_PHANTOM_PET_CT\n",
       "</pre>\n"
      ],
      "text/plain": [
       "RIDER_PHANTOM_PET_CT\n"
      ]
     },
     "metadata": {},
     "output_type": "display_data"
    },
    {
     "name": "stderr",
     "output_type": "stream",
     "text": [
      "24-11-14 16:28 | NBIAClient | DEBUG | Parsing params: {'self': <nbiatoolkit.nbia.NBIAClient object at 0x1067d4110>, 'Collection': 'RIDER PHANTOM PET-CT', 'PatientID': '', 'StudyInstanceUID': '', 'Modality': '', 'SeriesInstanceUID': '', 'BodyPartExamined': '', 'ManufacturerModelName': '', 'Manufacturer': '', 'return_type': None, 'returnType': <ReturnType.DATAFRAME: 'dataframe'>}\n",
      "24-11-14 16:28 | NBIAClient | DEBUG | Querying API endpoint: https://services.cancerimagingarchive.net/nbia-api/services/v2/getSeries\n",
      "24-11-14 16:28 | NBIAClient | DEBUG | Query parameters: {'Collection': 'RIDER PHANTOM PET-CT', 'returnType': <ReturnType.DATAFRAME: 'dataframe'>}\n"
     ]
    },
    {
     "data": {
      "text/html": [
       "<pre style=\"white-space:pre;overflow-x:auto;line-height:normal;font-family:Menlo,'DejaVu Sans Mono',consolas,'Courier New',monospace\">RIDER_Pilot\n",
       "</pre>\n"
      ],
      "text/plain": [
       "RIDER_Pilot\n"
      ]
     },
     "metadata": {},
     "output_type": "display_data"
    },
    {
     "name": "stderr",
     "output_type": "stream",
     "text": [
      "24-11-14 16:28 | NBIAClient | DEBUG | Parsing params: {'self': <nbiatoolkit.nbia.NBIAClient object at 0x1067d4110>, 'Collection': 'RIDER Pilot', 'PatientID': '', 'StudyInstanceUID': '', 'Modality': '', 'SeriesInstanceUID': '', 'BodyPartExamined': '', 'ManufacturerModelName': '', 'Manufacturer': '', 'return_type': None, 'returnType': <ReturnType.DATAFRAME: 'dataframe'>}\n",
      "24-11-14 16:28 | NBIAClient | DEBUG | Querying API endpoint: https://services.cancerimagingarchive.net/nbia-api/services/v2/getSeries\n",
      "24-11-14 16:28 | NBIAClient | DEBUG | Query parameters: {'Collection': 'RIDER Pilot', 'returnType': <ReturnType.DATAFRAME: 'dataframe'>}\n"
     ]
    },
    {
     "data": {
      "text/html": [
       "<pre style=\"white-space:pre;overflow-x:auto;line-height:normal;font-family:Menlo,'DejaVu Sans Mono',consolas,'Courier New',monospace\">ReMIND\n",
       "</pre>\n"
      ],
      "text/plain": [
       "ReMIND\n"
      ]
     },
     "metadata": {},
     "output_type": "display_data"
    },
    {
     "name": "stderr",
     "output_type": "stream",
     "text": [
      "24-11-14 16:28 | NBIAClient | DEBUG | Parsing params: {'self': <nbiatoolkit.nbia.NBIAClient object at 0x1067d4110>, 'Collection': 'ReMIND', 'PatientID': '', 'StudyInstanceUID': '', 'Modality': '', 'SeriesInstanceUID': '', 'BodyPartExamined': '', 'ManufacturerModelName': '', 'Manufacturer': '', 'return_type': None, 'returnType': <ReturnType.DATAFRAME: 'dataframe'>}\n",
      "24-11-14 16:28 | NBIAClient | DEBUG | Querying API endpoint: https://services.cancerimagingarchive.net/nbia-api/services/v2/getSeries\n",
      "24-11-14 16:28 | NBIAClient | DEBUG | Query parameters: {'Collection': 'ReMIND', 'returnType': <ReturnType.DATAFRAME: 'dataframe'>}\n"
     ]
    },
    {
     "data": {
      "text/html": [
       "<pre style=\"white-space:pre;overflow-x:auto;line-height:normal;font-family:Menlo,'DejaVu Sans Mono',consolas,'Courier New',monospace\">SPIE_AAPM_Lung_CT_Challenge\n",
       "</pre>\n"
      ],
      "text/plain": [
       "SPIE_AAPM_Lung_CT_Challenge\n"
      ]
     },
     "metadata": {},
     "output_type": "display_data"
    },
    {
     "name": "stderr",
     "output_type": "stream",
     "text": [
      "24-11-14 16:28 | NBIAClient | DEBUG | Parsing params: {'self': <nbiatoolkit.nbia.NBIAClient object at 0x1067d4110>, 'Collection': 'SPIE-AAPM Lung CT Challenge', 'PatientID': '', 'StudyInstanceUID': '', 'Modality': '', 'SeriesInstanceUID': '', 'BodyPartExamined': '', 'ManufacturerModelName': '', 'Manufacturer': '', 'return_type': None, 'returnType': <ReturnType.DATAFRAME: 'dataframe'>}\n",
      "24-11-14 16:28 | NBIAClient | DEBUG | Querying API endpoint: https://services.cancerimagingarchive.net/nbia-api/services/v2/getSeries\n",
      "24-11-14 16:28 | NBIAClient | DEBUG | Query parameters: {'Collection': 'SPIE-AAPM Lung CT Challenge', 'returnType': <ReturnType.DATAFRAME: 'dataframe'>}\n"
     ]
    },
    {
     "data": {
      "text/html": [
       "<pre style=\"white-space:pre;overflow-x:auto;line-height:normal;font-family:Menlo,'DejaVu Sans Mono',consolas,'Courier New',monospace\">Soft_tissue_Sarcoma\n",
       "</pre>\n"
      ],
      "text/plain": [
       "Soft_tissue_Sarcoma\n"
      ]
     },
     "metadata": {},
     "output_type": "display_data"
    },
    {
     "name": "stderr",
     "output_type": "stream",
     "text": [
      "24-11-14 16:28 | NBIAClient | DEBUG | Parsing params: {'self': <nbiatoolkit.nbia.NBIAClient object at 0x1067d4110>, 'Collection': 'Soft-tissue-Sarcoma', 'PatientID': '', 'StudyInstanceUID': '', 'Modality': '', 'SeriesInstanceUID': '', 'BodyPartExamined': '', 'ManufacturerModelName': '', 'Manufacturer': '', 'return_type': None, 'returnType': <ReturnType.DATAFRAME: 'dataframe'>}\n",
      "24-11-14 16:28 | NBIAClient | DEBUG | Querying API endpoint: https://services.cancerimagingarchive.net/nbia-api/services/v2/getSeries\n",
      "24-11-14 16:28 | NBIAClient | DEBUG | Query parameters: {'Collection': 'Soft-tissue-Sarcoma', 'returnType': <ReturnType.DATAFRAME: 'dataframe'>}\n"
     ]
    },
    {
     "data": {
      "text/html": [
       "<pre style=\"white-space:pre;overflow-x:auto;line-height:normal;font-family:Menlo,'DejaVu Sans Mono',consolas,'Courier New',monospace\">Spine_Mets_CT_SEG\n",
       "</pre>\n"
      ],
      "text/plain": [
       "Spine_Mets_CT_SEG\n"
      ]
     },
     "metadata": {},
     "output_type": "display_data"
    },
    {
     "name": "stderr",
     "output_type": "stream",
     "text": [
      "24-11-14 16:28 | NBIAClient | DEBUG | Parsing params: {'self': <nbiatoolkit.nbia.NBIAClient object at 0x1067d4110>, 'Collection': 'Spine-Mets-CT-SEG', 'PatientID': '', 'StudyInstanceUID': '', 'Modality': '', 'SeriesInstanceUID': '', 'BodyPartExamined': '', 'ManufacturerModelName': '', 'Manufacturer': '', 'return_type': None, 'returnType': <ReturnType.DATAFRAME: 'dataframe'>}\n",
      "24-11-14 16:28 | NBIAClient | DEBUG | Querying API endpoint: https://services.cancerimagingarchive.net/nbia-api/services/v2/getSeries\n",
      "24-11-14 16:28 | NBIAClient | DEBUG | Query parameters: {'Collection': 'Spine-Mets-CT-SEG', 'returnType': <ReturnType.DATAFRAME: 'dataframe'>}\n"
     ]
    },
    {
     "data": {
      "text/html": [
       "<pre style=\"white-space:pre;overflow-x:auto;line-height:normal;font-family:Menlo,'DejaVu Sans Mono',consolas,'Courier New',monospace\">StageII_Colorectal_CT\n",
       "</pre>\n"
      ],
      "text/plain": [
       "StageII_Colorectal_CT\n"
      ]
     },
     "metadata": {},
     "output_type": "display_data"
    },
    {
     "name": "stderr",
     "output_type": "stream",
     "text": [
      "24-11-14 16:28 | NBIAClient | DEBUG | Parsing params: {'self': <nbiatoolkit.nbia.NBIAClient object at 0x1067d4110>, 'Collection': 'StageII-Colorectal-CT', 'PatientID': '', 'StudyInstanceUID': '', 'Modality': '', 'SeriesInstanceUID': '', 'BodyPartExamined': '', 'ManufacturerModelName': '', 'Manufacturer': '', 'return_type': None, 'returnType': <ReturnType.DATAFRAME: 'dataframe'>}\n",
      "24-11-14 16:28 | NBIAClient | DEBUG | Querying API endpoint: https://services.cancerimagingarchive.net/nbia-api/services/v2/getSeries\n",
      "24-11-14 16:28 | NBIAClient | DEBUG | Query parameters: {'Collection': 'StageII-Colorectal-CT', 'returnType': <ReturnType.DATAFRAME: 'dataframe'>}\n"
     ]
    },
    {
     "data": {
      "text/html": [
       "<pre style=\"white-space:pre;overflow-x:auto;line-height:normal;font-family:Menlo,'DejaVu Sans Mono',consolas,'Courier New',monospace\">TCGA_BLCA\n",
       "</pre>\n"
      ],
      "text/plain": [
       "TCGA_BLCA\n"
      ]
     },
     "metadata": {},
     "output_type": "display_data"
    },
    {
     "name": "stderr",
     "output_type": "stream",
     "text": [
      "24-11-14 16:28 | NBIAClient | DEBUG | Parsing params: {'self': <nbiatoolkit.nbia.NBIAClient object at 0x1067d4110>, 'Collection': 'TCGA-BLCA', 'PatientID': '', 'StudyInstanceUID': '', 'Modality': '', 'SeriesInstanceUID': '', 'BodyPartExamined': '', 'ManufacturerModelName': '', 'Manufacturer': '', 'return_type': None, 'returnType': <ReturnType.DATAFRAME: 'dataframe'>}\n",
      "24-11-14 16:28 | NBIAClient | DEBUG | Querying API endpoint: https://services.cancerimagingarchive.net/nbia-api/services/v2/getSeries\n",
      "24-11-14 16:28 | NBIAClient | DEBUG | Query parameters: {'Collection': 'TCGA-BLCA', 'returnType': <ReturnType.DATAFRAME: 'dataframe'>}\n"
     ]
    },
    {
     "data": {
      "text/html": [
       "<pre style=\"white-space:pre;overflow-x:auto;line-height:normal;font-family:Menlo,'DejaVu Sans Mono',consolas,'Courier New',monospace\">TCGA_BRCA\n",
       "</pre>\n"
      ],
      "text/plain": [
       "TCGA_BRCA\n"
      ]
     },
     "metadata": {},
     "output_type": "display_data"
    },
    {
     "name": "stderr",
     "output_type": "stream",
     "text": [
      "24-11-14 16:28 | NBIAClient | DEBUG | Parsing params: {'self': <nbiatoolkit.nbia.NBIAClient object at 0x1067d4110>, 'Collection': 'TCGA-BRCA', 'PatientID': '', 'StudyInstanceUID': '', 'Modality': '', 'SeriesInstanceUID': '', 'BodyPartExamined': '', 'ManufacturerModelName': '', 'Manufacturer': '', 'return_type': None, 'returnType': <ReturnType.DATAFRAME: 'dataframe'>}\n",
      "24-11-14 16:28 | NBIAClient | DEBUG | Querying API endpoint: https://services.cancerimagingarchive.net/nbia-api/services/v2/getSeries\n",
      "24-11-14 16:28 | NBIAClient | DEBUG | Query parameters: {'Collection': 'TCGA-BRCA', 'returnType': <ReturnType.DATAFRAME: 'dataframe'>}\n"
     ]
    },
    {
     "data": {
      "text/html": [
       "<pre style=\"white-space:pre;overflow-x:auto;line-height:normal;font-family:Menlo,'DejaVu Sans Mono',consolas,'Courier New',monospace\">TCGA_CESC\n",
       "</pre>\n"
      ],
      "text/plain": [
       "TCGA_CESC\n"
      ]
     },
     "metadata": {},
     "output_type": "display_data"
    },
    {
     "name": "stderr",
     "output_type": "stream",
     "text": [
      "24-11-14 16:28 | NBIAClient | DEBUG | Parsing params: {'self': <nbiatoolkit.nbia.NBIAClient object at 0x1067d4110>, 'Collection': 'TCGA-CESC', 'PatientID': '', 'StudyInstanceUID': '', 'Modality': '', 'SeriesInstanceUID': '', 'BodyPartExamined': '', 'ManufacturerModelName': '', 'Manufacturer': '', 'return_type': None, 'returnType': <ReturnType.DATAFRAME: 'dataframe'>}\n",
      "24-11-14 16:28 | NBIAClient | DEBUG | Querying API endpoint: https://services.cancerimagingarchive.net/nbia-api/services/v2/getSeries\n",
      "24-11-14 16:28 | NBIAClient | DEBUG | Query parameters: {'Collection': 'TCGA-CESC', 'returnType': <ReturnType.DATAFRAME: 'dataframe'>}\n"
     ]
    },
    {
     "data": {
      "text/html": [
       "<pre style=\"white-space:pre;overflow-x:auto;line-height:normal;font-family:Menlo,'DejaVu Sans Mono',consolas,'Courier New',monospace\">TCGA_COAD\n",
       "</pre>\n"
      ],
      "text/plain": [
       "TCGA_COAD\n"
      ]
     },
     "metadata": {},
     "output_type": "display_data"
    },
    {
     "name": "stderr",
     "output_type": "stream",
     "text": [
      "24-11-14 16:28 | NBIAClient | DEBUG | Parsing params: {'self': <nbiatoolkit.nbia.NBIAClient object at 0x1067d4110>, 'Collection': 'TCGA-COAD', 'PatientID': '', 'StudyInstanceUID': '', 'Modality': '', 'SeriesInstanceUID': '', 'BodyPartExamined': '', 'ManufacturerModelName': '', 'Manufacturer': '', 'return_type': None, 'returnType': <ReturnType.DATAFRAME: 'dataframe'>}\n",
      "24-11-14 16:28 | NBIAClient | DEBUG | Querying API endpoint: https://services.cancerimagingarchive.net/nbia-api/services/v2/getSeries\n",
      "24-11-14 16:28 | NBIAClient | DEBUG | Query parameters: {'Collection': 'TCGA-COAD', 'returnType': <ReturnType.DATAFRAME: 'dataframe'>}\n"
     ]
    },
    {
     "data": {
      "text/html": [
       "<pre style=\"white-space:pre;overflow-x:auto;line-height:normal;font-family:Menlo,'DejaVu Sans Mono',consolas,'Courier New',monospace\">TCGA_ESCA\n",
       "</pre>\n"
      ],
      "text/plain": [
       "TCGA_ESCA\n"
      ]
     },
     "metadata": {},
     "output_type": "display_data"
    },
    {
     "name": "stderr",
     "output_type": "stream",
     "text": [
      "24-11-14 16:28 | NBIAClient | DEBUG | Parsing params: {'self': <nbiatoolkit.nbia.NBIAClient object at 0x1067d4110>, 'Collection': 'TCGA-ESCA', 'PatientID': '', 'StudyInstanceUID': '', 'Modality': '', 'SeriesInstanceUID': '', 'BodyPartExamined': '', 'ManufacturerModelName': '', 'Manufacturer': '', 'return_type': None, 'returnType': <ReturnType.DATAFRAME: 'dataframe'>}\n",
      "24-11-14 16:28 | NBIAClient | DEBUG | Querying API endpoint: https://services.cancerimagingarchive.net/nbia-api/services/v2/getSeries\n",
      "24-11-14 16:28 | NBIAClient | DEBUG | Query parameters: {'Collection': 'TCGA-ESCA', 'returnType': <ReturnType.DATAFRAME: 'dataframe'>}\n"
     ]
    },
    {
     "data": {
      "text/html": [
       "<pre style=\"white-space:pre;overflow-x:auto;line-height:normal;font-family:Menlo,'DejaVu Sans Mono',consolas,'Courier New',monospace\">TCGA_GBM\n",
       "</pre>\n"
      ],
      "text/plain": [
       "TCGA_GBM\n"
      ]
     },
     "metadata": {},
     "output_type": "display_data"
    },
    {
     "name": "stderr",
     "output_type": "stream",
     "text": [
      "24-11-14 16:29 | NBIAClient | DEBUG | Parsing params: {'self': <nbiatoolkit.nbia.NBIAClient object at 0x1067d4110>, 'Collection': 'TCGA-GBM', 'PatientID': '', 'StudyInstanceUID': '', 'Modality': '', 'SeriesInstanceUID': '', 'BodyPartExamined': '', 'ManufacturerModelName': '', 'Manufacturer': '', 'return_type': None, 'returnType': <ReturnType.DATAFRAME: 'dataframe'>}\n",
      "24-11-14 16:29 | NBIAClient | DEBUG | Querying API endpoint: https://services.cancerimagingarchive.net/nbia-api/services/v2/getSeries\n",
      "24-11-14 16:29 | NBIAClient | DEBUG | Query parameters: {'Collection': 'TCGA-GBM', 'returnType': <ReturnType.DATAFRAME: 'dataframe'>}\n"
     ]
    },
    {
     "data": {
      "text/html": [
       "<pre style=\"white-space:pre;overflow-x:auto;line-height:normal;font-family:Menlo,'DejaVu Sans Mono',consolas,'Courier New',monospace\">TCGA_HNSC\n",
       "</pre>\n"
      ],
      "text/plain": [
       "TCGA_HNSC\n"
      ]
     },
     "metadata": {},
     "output_type": "display_data"
    },
    {
     "name": "stderr",
     "output_type": "stream",
     "text": [
      "24-11-14 16:29 | NBIAClient | DEBUG | Parsing params: {'self': <nbiatoolkit.nbia.NBIAClient object at 0x1067d4110>, 'Collection': 'TCGA-HNSC', 'PatientID': '', 'StudyInstanceUID': '', 'Modality': '', 'SeriesInstanceUID': '', 'BodyPartExamined': '', 'ManufacturerModelName': '', 'Manufacturer': '', 'return_type': None, 'returnType': <ReturnType.DATAFRAME: 'dataframe'>}\n",
      "24-11-14 16:29 | NBIAClient | DEBUG | Querying API endpoint: https://services.cancerimagingarchive.net/nbia-api/services/v2/getSeries\n",
      "24-11-14 16:29 | NBIAClient | DEBUG | Query parameters: {'Collection': 'TCGA-HNSC', 'returnType': <ReturnType.DATAFRAME: 'dataframe'>}\n"
     ]
    },
    {
     "data": {
      "text/html": [
       "<pre style=\"white-space:pre;overflow-x:auto;line-height:normal;font-family:Menlo,'DejaVu Sans Mono',consolas,'Courier New',monospace\">TCGA_KICH\n",
       "</pre>\n"
      ],
      "text/plain": [
       "TCGA_KICH\n"
      ]
     },
     "metadata": {},
     "output_type": "display_data"
    },
    {
     "name": "stderr",
     "output_type": "stream",
     "text": [
      "24-11-14 16:29 | NBIAClient | DEBUG | Parsing params: {'self': <nbiatoolkit.nbia.NBIAClient object at 0x1067d4110>, 'Collection': 'TCGA-KICH', 'PatientID': '', 'StudyInstanceUID': '', 'Modality': '', 'SeriesInstanceUID': '', 'BodyPartExamined': '', 'ManufacturerModelName': '', 'Manufacturer': '', 'return_type': None, 'returnType': <ReturnType.DATAFRAME: 'dataframe'>}\n",
      "24-11-14 16:29 | NBIAClient | DEBUG | Querying API endpoint: https://services.cancerimagingarchive.net/nbia-api/services/v2/getSeries\n",
      "24-11-14 16:29 | NBIAClient | DEBUG | Query parameters: {'Collection': 'TCGA-KICH', 'returnType': <ReturnType.DATAFRAME: 'dataframe'>}\n"
     ]
    },
    {
     "data": {
      "text/html": [
       "<pre style=\"white-space:pre;overflow-x:auto;line-height:normal;font-family:Menlo,'DejaVu Sans Mono',consolas,'Courier New',monospace\">TCGA_KIRC\n",
       "</pre>\n"
      ],
      "text/plain": [
       "TCGA_KIRC\n"
      ]
     },
     "metadata": {},
     "output_type": "display_data"
    },
    {
     "name": "stderr",
     "output_type": "stream",
     "text": [
      "24-11-14 16:29 | NBIAClient | DEBUG | Parsing params: {'self': <nbiatoolkit.nbia.NBIAClient object at 0x1067d4110>, 'Collection': 'TCGA-KIRC', 'PatientID': '', 'StudyInstanceUID': '', 'Modality': '', 'SeriesInstanceUID': '', 'BodyPartExamined': '', 'ManufacturerModelName': '', 'Manufacturer': '', 'return_type': None, 'returnType': <ReturnType.DATAFRAME: 'dataframe'>}\n",
      "24-11-14 16:29 | NBIAClient | DEBUG | Querying API endpoint: https://services.cancerimagingarchive.net/nbia-api/services/v2/getSeries\n",
      "24-11-14 16:29 | NBIAClient | DEBUG | Query parameters: {'Collection': 'TCGA-KIRC', 'returnType': <ReturnType.DATAFRAME: 'dataframe'>}\n"
     ]
    },
    {
     "data": {
      "text/html": [
       "<pre style=\"white-space:pre;overflow-x:auto;line-height:normal;font-family:Menlo,'DejaVu Sans Mono',consolas,'Courier New',monospace\">TCGA_KIRP\n",
       "</pre>\n"
      ],
      "text/plain": [
       "TCGA_KIRP\n"
      ]
     },
     "metadata": {},
     "output_type": "display_data"
    },
    {
     "name": "stderr",
     "output_type": "stream",
     "text": [
      "24-11-14 16:29 | NBIAClient | DEBUG | Parsing params: {'self': <nbiatoolkit.nbia.NBIAClient object at 0x1067d4110>, 'Collection': 'TCGA-KIRP', 'PatientID': '', 'StudyInstanceUID': '', 'Modality': '', 'SeriesInstanceUID': '', 'BodyPartExamined': '', 'ManufacturerModelName': '', 'Manufacturer': '', 'return_type': None, 'returnType': <ReturnType.DATAFRAME: 'dataframe'>}\n",
      "24-11-14 16:29 | NBIAClient | DEBUG | Querying API endpoint: https://services.cancerimagingarchive.net/nbia-api/services/v2/getSeries\n",
      "24-11-14 16:29 | NBIAClient | DEBUG | Query parameters: {'Collection': 'TCGA-KIRP', 'returnType': <ReturnType.DATAFRAME: 'dataframe'>}\n"
     ]
    },
    {
     "data": {
      "text/html": [
       "<pre style=\"white-space:pre;overflow-x:auto;line-height:normal;font-family:Menlo,'DejaVu Sans Mono',consolas,'Courier New',monospace\">TCGA_LGG\n",
       "</pre>\n"
      ],
      "text/plain": [
       "TCGA_LGG\n"
      ]
     },
     "metadata": {},
     "output_type": "display_data"
    },
    {
     "name": "stderr",
     "output_type": "stream",
     "text": [
      "24-11-14 16:29 | NBIAClient | DEBUG | Parsing params: {'self': <nbiatoolkit.nbia.NBIAClient object at 0x1067d4110>, 'Collection': 'TCGA-LGG', 'PatientID': '', 'StudyInstanceUID': '', 'Modality': '', 'SeriesInstanceUID': '', 'BodyPartExamined': '', 'ManufacturerModelName': '', 'Manufacturer': '', 'return_type': None, 'returnType': <ReturnType.DATAFRAME: 'dataframe'>}\n",
      "24-11-14 16:29 | NBIAClient | DEBUG | Querying API endpoint: https://services.cancerimagingarchive.net/nbia-api/services/v2/getSeries\n",
      "24-11-14 16:29 | NBIAClient | DEBUG | Query parameters: {'Collection': 'TCGA-LGG', 'returnType': <ReturnType.DATAFRAME: 'dataframe'>}\n"
     ]
    },
    {
     "data": {
      "text/html": [
       "<pre style=\"white-space:pre;overflow-x:auto;line-height:normal;font-family:Menlo,'DejaVu Sans Mono',consolas,'Courier New',monospace\">TCGA_LIHC\n",
       "</pre>\n"
      ],
      "text/plain": [
       "TCGA_LIHC\n"
      ]
     },
     "metadata": {},
     "output_type": "display_data"
    },
    {
     "name": "stderr",
     "output_type": "stream",
     "text": [
      "24-11-14 16:29 | NBIAClient | DEBUG | Parsing params: {'self': <nbiatoolkit.nbia.NBIAClient object at 0x1067d4110>, 'Collection': 'TCGA-LIHC', 'PatientID': '', 'StudyInstanceUID': '', 'Modality': '', 'SeriesInstanceUID': '', 'BodyPartExamined': '', 'ManufacturerModelName': '', 'Manufacturer': '', 'return_type': None, 'returnType': <ReturnType.DATAFRAME: 'dataframe'>}\n",
      "24-11-14 16:29 | NBIAClient | DEBUG | Querying API endpoint: https://services.cancerimagingarchive.net/nbia-api/services/v2/getSeries\n",
      "24-11-14 16:29 | NBIAClient | DEBUG | Query parameters: {'Collection': 'TCGA-LIHC', 'returnType': <ReturnType.DATAFRAME: 'dataframe'>}\n"
     ]
    },
    {
     "data": {
      "text/html": [
       "<pre style=\"white-space:pre;overflow-x:auto;line-height:normal;font-family:Menlo,'DejaVu Sans Mono',consolas,'Courier New',monospace\">TCGA_LUAD\n",
       "</pre>\n"
      ],
      "text/plain": [
       "TCGA_LUAD\n"
      ]
     },
     "metadata": {},
     "output_type": "display_data"
    },
    {
     "name": "stderr",
     "output_type": "stream",
     "text": [
      "24-11-14 16:29 | NBIAClient | DEBUG | Parsing params: {'self': <nbiatoolkit.nbia.NBIAClient object at 0x1067d4110>, 'Collection': 'TCGA-LUAD', 'PatientID': '', 'StudyInstanceUID': '', 'Modality': '', 'SeriesInstanceUID': '', 'BodyPartExamined': '', 'ManufacturerModelName': '', 'Manufacturer': '', 'return_type': None, 'returnType': <ReturnType.DATAFRAME: 'dataframe'>}\n",
      "24-11-14 16:29 | NBIAClient | DEBUG | Querying API endpoint: https://services.cancerimagingarchive.net/nbia-api/services/v2/getSeries\n",
      "24-11-14 16:29 | NBIAClient | DEBUG | Query parameters: {'Collection': 'TCGA-LUAD', 'returnType': <ReturnType.DATAFRAME: 'dataframe'>}\n"
     ]
    },
    {
     "data": {
      "text/html": [
       "<pre style=\"white-space:pre;overflow-x:auto;line-height:normal;font-family:Menlo,'DejaVu Sans Mono',consolas,'Courier New',monospace\">TCGA_LUSC\n",
       "</pre>\n"
      ],
      "text/plain": [
       "TCGA_LUSC\n"
      ]
     },
     "metadata": {},
     "output_type": "display_data"
    },
    {
     "name": "stderr",
     "output_type": "stream",
     "text": [
      "24-11-14 16:29 | NBIAClient | DEBUG | Parsing params: {'self': <nbiatoolkit.nbia.NBIAClient object at 0x1067d4110>, 'Collection': 'TCGA-LUSC', 'PatientID': '', 'StudyInstanceUID': '', 'Modality': '', 'SeriesInstanceUID': '', 'BodyPartExamined': '', 'ManufacturerModelName': '', 'Manufacturer': '', 'return_type': None, 'returnType': <ReturnType.DATAFRAME: 'dataframe'>}\n",
      "24-11-14 16:29 | NBIAClient | DEBUG | Querying API endpoint: https://services.cancerimagingarchive.net/nbia-api/services/v2/getSeries\n",
      "24-11-14 16:29 | NBIAClient | DEBUG | Query parameters: {'Collection': 'TCGA-LUSC', 'returnType': <ReturnType.DATAFRAME: 'dataframe'>}\n"
     ]
    },
    {
     "data": {
      "text/html": [
       "<pre style=\"white-space:pre;overflow-x:auto;line-height:normal;font-family:Menlo,'DejaVu Sans Mono',consolas,'Courier New',monospace\">TCGA_OV\n",
       "</pre>\n"
      ],
      "text/plain": [
       "TCGA_OV\n"
      ]
     },
     "metadata": {},
     "output_type": "display_data"
    },
    {
     "name": "stderr",
     "output_type": "stream",
     "text": [
      "24-11-14 16:29 | NBIAClient | DEBUG | Parsing params: {'self': <nbiatoolkit.nbia.NBIAClient object at 0x1067d4110>, 'Collection': 'TCGA-OV', 'PatientID': '', 'StudyInstanceUID': '', 'Modality': '', 'SeriesInstanceUID': '', 'BodyPartExamined': '', 'ManufacturerModelName': '', 'Manufacturer': '', 'return_type': None, 'returnType': <ReturnType.DATAFRAME: 'dataframe'>}\n",
      "24-11-14 16:29 | NBIAClient | DEBUG | Querying API endpoint: https://services.cancerimagingarchive.net/nbia-api/services/v2/getSeries\n",
      "24-11-14 16:29 | NBIAClient | DEBUG | Query parameters: {'Collection': 'TCGA-OV', 'returnType': <ReturnType.DATAFRAME: 'dataframe'>}\n"
     ]
    },
    {
     "data": {
      "text/html": [
       "<pre style=\"white-space:pre;overflow-x:auto;line-height:normal;font-family:Menlo,'DejaVu Sans Mono',consolas,'Courier New',monospace\">TCGA_PRAD\n",
       "</pre>\n"
      ],
      "text/plain": [
       "TCGA_PRAD\n"
      ]
     },
     "metadata": {},
     "output_type": "display_data"
    },
    {
     "name": "stderr",
     "output_type": "stream",
     "text": [
      "24-11-14 16:29 | NBIAClient | DEBUG | Parsing params: {'self': <nbiatoolkit.nbia.NBIAClient object at 0x1067d4110>, 'Collection': 'TCGA-PRAD', 'PatientID': '', 'StudyInstanceUID': '', 'Modality': '', 'SeriesInstanceUID': '', 'BodyPartExamined': '', 'ManufacturerModelName': '', 'Manufacturer': '', 'return_type': None, 'returnType': <ReturnType.DATAFRAME: 'dataframe'>}\n",
      "24-11-14 16:29 | NBIAClient | DEBUG | Querying API endpoint: https://services.cancerimagingarchive.net/nbia-api/services/v2/getSeries\n",
      "24-11-14 16:29 | NBIAClient | DEBUG | Query parameters: {'Collection': 'TCGA-PRAD', 'returnType': <ReturnType.DATAFRAME: 'dataframe'>}\n"
     ]
    },
    {
     "data": {
      "text/html": [
       "<pre style=\"white-space:pre;overflow-x:auto;line-height:normal;font-family:Menlo,'DejaVu Sans Mono',consolas,'Courier New',monospace\">TCGA_READ\n",
       "</pre>\n"
      ],
      "text/plain": [
       "TCGA_READ\n"
      ]
     },
     "metadata": {},
     "output_type": "display_data"
    },
    {
     "name": "stderr",
     "output_type": "stream",
     "text": [
      "24-11-14 16:29 | NBIAClient | DEBUG | Parsing params: {'self': <nbiatoolkit.nbia.NBIAClient object at 0x1067d4110>, 'Collection': 'TCGA-READ', 'PatientID': '', 'StudyInstanceUID': '', 'Modality': '', 'SeriesInstanceUID': '', 'BodyPartExamined': '', 'ManufacturerModelName': '', 'Manufacturer': '', 'return_type': None, 'returnType': <ReturnType.DATAFRAME: 'dataframe'>}\n",
      "24-11-14 16:29 | NBIAClient | DEBUG | Querying API endpoint: https://services.cancerimagingarchive.net/nbia-api/services/v2/getSeries\n",
      "24-11-14 16:29 | NBIAClient | DEBUG | Query parameters: {'Collection': 'TCGA-READ', 'returnType': <ReturnType.DATAFRAME: 'dataframe'>}\n"
     ]
    },
    {
     "data": {
      "text/html": [
       "<pre style=\"white-space:pre;overflow-x:auto;line-height:normal;font-family:Menlo,'DejaVu Sans Mono',consolas,'Courier New',monospace\">TCGA_SARC\n",
       "</pre>\n"
      ],
      "text/plain": [
       "TCGA_SARC\n"
      ]
     },
     "metadata": {},
     "output_type": "display_data"
    },
    {
     "name": "stderr",
     "output_type": "stream",
     "text": [
      "24-11-14 16:29 | NBIAClient | DEBUG | Parsing params: {'self': <nbiatoolkit.nbia.NBIAClient object at 0x1067d4110>, 'Collection': 'TCGA-SARC', 'PatientID': '', 'StudyInstanceUID': '', 'Modality': '', 'SeriesInstanceUID': '', 'BodyPartExamined': '', 'ManufacturerModelName': '', 'Manufacturer': '', 'return_type': None, 'returnType': <ReturnType.DATAFRAME: 'dataframe'>}\n",
      "24-11-14 16:29 | NBIAClient | DEBUG | Querying API endpoint: https://services.cancerimagingarchive.net/nbia-api/services/v2/getSeries\n",
      "24-11-14 16:29 | NBIAClient | DEBUG | Query parameters: {'Collection': 'TCGA-SARC', 'returnType': <ReturnType.DATAFRAME: 'dataframe'>}\n"
     ]
    },
    {
     "data": {
      "text/html": [
       "<pre style=\"white-space:pre;overflow-x:auto;line-height:normal;font-family:Menlo,'DejaVu Sans Mono',consolas,'Courier New',monospace\">TCGA_STAD\n",
       "</pre>\n"
      ],
      "text/plain": [
       "TCGA_STAD\n"
      ]
     },
     "metadata": {},
     "output_type": "display_data"
    },
    {
     "name": "stderr",
     "output_type": "stream",
     "text": [
      "24-11-14 16:29 | NBIAClient | DEBUG | Parsing params: {'self': <nbiatoolkit.nbia.NBIAClient object at 0x1067d4110>, 'Collection': 'TCGA-STAD', 'PatientID': '', 'StudyInstanceUID': '', 'Modality': '', 'SeriesInstanceUID': '', 'BodyPartExamined': '', 'ManufacturerModelName': '', 'Manufacturer': '', 'return_type': None, 'returnType': <ReturnType.DATAFRAME: 'dataframe'>}\n",
      "24-11-14 16:29 | NBIAClient | DEBUG | Querying API endpoint: https://services.cancerimagingarchive.net/nbia-api/services/v2/getSeries\n",
      "24-11-14 16:29 | NBIAClient | DEBUG | Query parameters: {'Collection': 'TCGA-STAD', 'returnType': <ReturnType.DATAFRAME: 'dataframe'>}\n"
     ]
    },
    {
     "data": {
      "text/html": [
       "<pre style=\"white-space:pre;overflow-x:auto;line-height:normal;font-family:Menlo,'DejaVu Sans Mono',consolas,'Courier New',monospace\">TCGA_THCA\n",
       "</pre>\n"
      ],
      "text/plain": [
       "TCGA_THCA\n"
      ]
     },
     "metadata": {},
     "output_type": "display_data"
    },
    {
     "name": "stderr",
     "output_type": "stream",
     "text": [
      "24-11-14 16:29 | NBIAClient | DEBUG | Parsing params: {'self': <nbiatoolkit.nbia.NBIAClient object at 0x1067d4110>, 'Collection': 'TCGA-THCA', 'PatientID': '', 'StudyInstanceUID': '', 'Modality': '', 'SeriesInstanceUID': '', 'BodyPartExamined': '', 'ManufacturerModelName': '', 'Manufacturer': '', 'return_type': None, 'returnType': <ReturnType.DATAFRAME: 'dataframe'>}\n",
      "24-11-14 16:29 | NBIAClient | DEBUG | Querying API endpoint: https://services.cancerimagingarchive.net/nbia-api/services/v2/getSeries\n",
      "24-11-14 16:29 | NBIAClient | DEBUG | Query parameters: {'Collection': 'TCGA-THCA', 'returnType': <ReturnType.DATAFRAME: 'dataframe'>}\n"
     ]
    },
    {
     "data": {
      "text/html": [
       "<pre style=\"white-space:pre;overflow-x:auto;line-height:normal;font-family:Menlo,'DejaVu Sans Mono',consolas,'Courier New',monospace\">TCGA_UCEC\n",
       "</pre>\n"
      ],
      "text/plain": [
       "TCGA_UCEC\n"
      ]
     },
     "metadata": {},
     "output_type": "display_data"
    },
    {
     "name": "stderr",
     "output_type": "stream",
     "text": [
      "24-11-14 16:29 | NBIAClient | DEBUG | Parsing params: {'self': <nbiatoolkit.nbia.NBIAClient object at 0x1067d4110>, 'Collection': 'TCGA-UCEC', 'PatientID': '', 'StudyInstanceUID': '', 'Modality': '', 'SeriesInstanceUID': '', 'BodyPartExamined': '', 'ManufacturerModelName': '', 'Manufacturer': '', 'return_type': None, 'returnType': <ReturnType.DATAFRAME: 'dataframe'>}\n",
      "24-11-14 16:29 | NBIAClient | DEBUG | Querying API endpoint: https://services.cancerimagingarchive.net/nbia-api/services/v2/getSeries\n",
      "24-11-14 16:29 | NBIAClient | DEBUG | Query parameters: {'Collection': 'TCGA-UCEC', 'returnType': <ReturnType.DATAFRAME: 'dataframe'>}\n"
     ]
    },
    {
     "data": {
      "text/html": [
       "<pre style=\"white-space:pre;overflow-x:auto;line-height:normal;font-family:Menlo,'DejaVu Sans Mono',consolas,'Courier New',monospace\">UPENN_GBM\n",
       "</pre>\n"
      ],
      "text/plain": [
       "UPENN_GBM\n"
      ]
     },
     "metadata": {},
     "output_type": "display_data"
    },
    {
     "name": "stderr",
     "output_type": "stream",
     "text": [
      "24-11-14 16:29 | NBIAClient | DEBUG | Parsing params: {'self': <nbiatoolkit.nbia.NBIAClient object at 0x1067d4110>, 'Collection': 'UPENN-GBM', 'PatientID': '', 'StudyInstanceUID': '', 'Modality': '', 'SeriesInstanceUID': '', 'BodyPartExamined': '', 'ManufacturerModelName': '', 'Manufacturer': '', 'return_type': None, 'returnType': <ReturnType.DATAFRAME: 'dataframe'>}\n",
      "24-11-14 16:29 | NBIAClient | DEBUG | Querying API endpoint: https://services.cancerimagingarchive.net/nbia-api/services/v2/getSeries\n",
      "24-11-14 16:29 | NBIAClient | DEBUG | Query parameters: {'Collection': 'UPENN-GBM', 'returnType': <ReturnType.DATAFRAME: 'dataframe'>}\n"
     ]
    },
    {
     "data": {
      "text/html": [
       "<pre style=\"white-space:pre;overflow-x:auto;line-height:normal;font-family:Menlo,'DejaVu Sans Mono',consolas,'Courier New',monospace\">VICTRE\n",
       "</pre>\n"
      ],
      "text/plain": [
       "VICTRE\n"
      ]
     },
     "metadata": {},
     "output_type": "display_data"
    },
    {
     "name": "stderr",
     "output_type": "stream",
     "text": [
      "24-11-14 16:29 | NBIAClient | DEBUG | Parsing params: {'self': <nbiatoolkit.nbia.NBIAClient object at 0x1067d4110>, 'Collection': 'VICTRE', 'PatientID': '', 'StudyInstanceUID': '', 'Modality': '', 'SeriesInstanceUID': '', 'BodyPartExamined': '', 'ManufacturerModelName': '', 'Manufacturer': '', 'return_type': None, 'returnType': <ReturnType.DATAFRAME: 'dataframe'>}\n",
      "24-11-14 16:29 | NBIAClient | DEBUG | Querying API endpoint: https://services.cancerimagingarchive.net/nbia-api/services/v2/getSeries\n",
      "24-11-14 16:29 | NBIAClient | DEBUG | Query parameters: {'Collection': 'VICTRE', 'returnType': <ReturnType.DATAFRAME: 'dataframe'>}\n"
     ]
    },
    {
     "data": {
      "text/html": [
       "<pre style=\"white-space:pre;overflow-x:auto;line-height:normal;font-family:Menlo,'DejaVu Sans Mono',consolas,'Courier New',monospace\">Vestibular_Schwannoma_MC_RC\n",
       "</pre>\n"
      ],
      "text/plain": [
       "Vestibular_Schwannoma_MC_RC\n"
      ]
     },
     "metadata": {},
     "output_type": "display_data"
    },
    {
     "name": "stderr",
     "output_type": "stream",
     "text": [
      "24-11-14 16:29 | NBIAClient | DEBUG | Parsing params: {'self': <nbiatoolkit.nbia.NBIAClient object at 0x1067d4110>, 'Collection': 'Vestibular-Schwannoma-MC-RC', 'PatientID': '', 'StudyInstanceUID': '', 'Modality': '', 'SeriesInstanceUID': '', 'BodyPartExamined': '', 'ManufacturerModelName': '', 'Manufacturer': '', 'return_type': None, 'returnType': <ReturnType.DATAFRAME: 'dataframe'>}\n",
      "24-11-14 16:29 | NBIAClient | DEBUG | Querying API endpoint: https://services.cancerimagingarchive.net/nbia-api/services/v2/getSeries\n",
      "24-11-14 16:29 | NBIAClient | DEBUG | Query parameters: {'Collection': 'Vestibular-Schwannoma-MC-RC', 'returnType': <ReturnType.DATAFRAME: 'dataframe'>}\n"
     ]
    },
    {
     "data": {
      "text/html": [
       "<pre style=\"white-space:pre;overflow-x:auto;line-height:normal;font-family:Menlo,'DejaVu Sans Mono',consolas,'Courier New',monospace\">Vestibular_Schwannoma_SEG\n",
       "</pre>\n"
      ],
      "text/plain": [
       "Vestibular_Schwannoma_SEG\n"
      ]
     },
     "metadata": {},
     "output_type": "display_data"
    },
    {
     "name": "stderr",
     "output_type": "stream",
     "text": [
      "24-11-14 16:29 | NBIAClient | DEBUG | Parsing params: {'self': <nbiatoolkit.nbia.NBIAClient object at 0x1067d4110>, 'Collection': 'Vestibular-Schwannoma-SEG', 'PatientID': '', 'StudyInstanceUID': '', 'Modality': '', 'SeriesInstanceUID': '', 'BodyPartExamined': '', 'ManufacturerModelName': '', 'Manufacturer': '', 'return_type': None, 'returnType': <ReturnType.DATAFRAME: 'dataframe'>}\n",
      "24-11-14 16:29 | NBIAClient | DEBUG | Querying API endpoint: https://services.cancerimagingarchive.net/nbia-api/services/v2/getSeries\n",
      "24-11-14 16:29 | NBIAClient | DEBUG | Query parameters: {'Collection': 'Vestibular-Schwannoma-SEG', 'returnType': <ReturnType.DATAFRAME: 'dataframe'>}\n"
     ]
    }
   ],
   "source": [
    "# For each colletion, run getSeries and then save to csv\n",
    "\n",
    "def clean_name(name):\n",
    "    return name.replace(\" \", \"_\").replace(\"-\", \"_\")\n",
    "\n",
    "\n",
    "data_path = Path(\"data\") / \"collections\"\n",
    "data_path.mkdir(exist_ok=True, parents=True)\n",
    "\n",
    "for collection in collections.Collection.unique():\n",
    "    print(clean_name(collection))\n",
    "    file_path = data_path / f\"{clean_name(collection)}.tsv\"\n",
    "\n",
    "    if file_path.exists():\n",
    "        continue\n",
    "\n",
    "    df = client.getSeries(collection)\n",
    "    df.to_csv(file_path, sep=\"\\t\", index=False)\n"
   ]
  },
  {
   "cell_type": "markdown",
   "metadata": {},
   "source": [
    "## Grant Table 1: Data\n",
    "\n",
    "### BHKLAB \n",
    "\n",
    "- QIN-HEADNECK\n",
    "- Head-Neck-PET-CT\n",
    "- CPTAC-HNSCC\n",
    "- HNSCC\n",
    "- HEAD-NECK-RADIOMICS-HN1\n",
    "- HNSCC-3DCT-RT\n",
    "- OPC-Radiomics\n",
    "- TCGA-HNSC\n",
    "- STRUCTSEG19\n",
    "- 18F-FDG PET Radiomics Risk Challenge\n",
    "- HPV Prediction Challenge\n",
    "- PDDCA\n",
    "- RADCURE\n",
    "\n"
   ]
  },
  {
   "cell_type": "code",
   "execution_count": null,
   "metadata": {},
   "outputs": [],
   "source": [
    "datasets = [\n",
    "    \"QIN-HEADNECK\",\n",
    "    \"Head-Neck-PET-CT\",\n",
    "    \"CPTAC-HNSCC\",\n",
    "    \"HNSCC\",\n",
    "    \"HEAD-NECK-RADIOMICS-HN1\",\n",
    "    \"HNSCC-3DCT-RT\",\n",
    "    \"TCGA-HNSC\",\n",
    "    \"RADCURE\"\n",
    "    \"OPC-Radiomics\",\n",
    "    \"STRUCTSEG19\",\n",
    "    \"18F-FDG PET Radiomics Risk Challenge\",\n",
    "    \"HPV Prediction Challenge\",\n",
    "    \"PDDCA\",\n",
    "]\n",
    "\n",
    "missing_from_tcia = []\n",
    "\n",
    "# Continue from the last code cell\n",
    "for dataset in datasets:\n",
    "    if not collections['Collection'].str.contains(dataset, case=False).any():\n",
    "        missing_from_tcia.append(dataset)\n",
    "\n",
    "# Print the datasets that are missing\n",
    "print(\"Datasets not found in TCIA collections:\")\n",
    "for dataset in missing_from_tcia:\n",
    "    print(dataset)\n",
    "\n"
   ]
  },
  {
   "cell_type": "markdown",
   "metadata": {},
   "source": [
    "## Notes :\n",
    "\n",
    "### OPC-Radiomics\n",
    "\n",
    "Note from website previously on TCIA: \n",
    "\n",
    "\n",
    "> This collection has been deprecated.\n",
    "> Data from the collection formerly called OPC-Radiomics has been updated. \n",
    "> The data are downloadable but no longer viewable in the Cancer Imaging Archive. \n",
    "> Please view the RADCURE page to obtain access to the updated data: https://doi.org/10.7937/J47W-NM11.\n",
    "\n",
    "\n",
    "**Data Location**: \n",
    "`/cluster/projects/radiomics/PublicDatasets/HeadNeck/TCIA-OPC`\n",
    "`/cluster/projects/radiomics/PublicDatasets/HeadNeck/TCIA_OPC-Radiomics`\n",
    "\n",
    "**Source Link**: [https://www.cancerimagingarchive.net/collection/opc-radiomics/](https://www.cancerimagingarchive.net/collection/opc-radiomics/)\n",
    "\n",
    "**Institution**: \"TCIA\"\n",
    "\n",
    "### STRUCTSEG19\n",
    "\n",
    "**Data Location**: `/cluster/projects/radiomics/PublicDatasets/HeadNeck/MICCAI_2019_STRUCTURESEG19`\n",
    "\n",
    "**Source Link**: [https://structseg2019.grand-challenge.org](https://structseg2019.grand-challenge.org)\n",
    "\n",
    "**Institution**: \"MICCAI / Zhejiang Cancer Hospital\"\n",
    "\n",
    "\n",
    "\n",
    "### 18F-FDG PET Radiomics Risk Challenge\n",
    "\n",
    "**Data Location**: `/cluster/projects/radiomics/PublicDatasets/HeadNeck/MICCAI_2018_18F-FDG_PET_Radiomics_Risk_Challenge`\n",
    "\n",
    "**Source Link**:\n",
    "\n",
    "**Institution**: MICCAI / multi-institution\n",
    "\n",
    "###  HPV Prediction Challenge\n",
    "\n",
    "`MICCAI_2016_HPV_Prediction_Challenge` \n",
    "\n",
    "**Data Location**: `/cluster/projects/radiomics/PublicDatasets/HeadNeck/MICCAI_2016_HPV_Prediction_Challenge`\n",
    "\n",
    "**Source Link**:\n",
    "\n",
    "**Institution**: \"MD Anderson CC / MICCAI\"\n",
    "\n",
    "\n",
    "### PDDCA\n",
    "\n",
    "`A Public Domain Database for Computational Anatomy (PDDCA)`\n",
    "\n",
    "**Data Location**: `/cluster/projects/radiomics/PublicDatasets/HeadNeck/A Public Domain Database for Computational Anatomy(PDDCA)`\n",
    "\n",
    "**Source Link**: [https://www.imagenglab.com/newsite/pddca/](https://www.imagenglab.com/newsite/pddca/)\n",
    "\n",
    "**Institution**: \"Harvard / MICCAI\"\n"
   ]
  },
  {
   "cell_type": "code",
   "execution_count": null,
   "metadata": {},
   "outputs": [],
   "source": [
    "# Subset collection dataframe to only include our desired datasets\n",
    "\n",
    "collections = collections[collections['Collection'].str.contains('|'.join(datasets), case=False)]\n",
    "collections.reset_index(drop=True, inplace=True)\n",
    "collections"
   ]
  },
  {
   "cell_type": "code",
   "execution_count": null,
   "metadata": {},
   "outputs": [],
   "source": [
    "series_lists = []\n",
    "series_metadata_lists = []\n",
    "for i, dataset in enumerate(collections.Collection.unique()):\n",
    "    series = client.getSeries(Collection=dataset)\n",
    "\n",
    "    unique_modalities = series.Modality.unique()\n",
    "    \n",
    "    for modality in unique_modalities:\n",
    "        modality_series = series[series.Modality == modality]\n",
    "        \n",
    "        if \"BodyPartExamined\" in modality_series.columns:\n",
    "            bpe = list(modality_series.BodyPartExamined.dropna().unique())\n",
    "            bpe.sort()\n",
    "        else:\n",
    "            bpe = []\n",
    "\n",
    "        metadata = {\n",
    "                \"Collection\": dataset,\n",
    "                \"TotalPatients\": len(series.PatientID.unique()),\n",
    "                \"BodyPartExamined\": \",\".join(bpe),\n",
    "                \"Modality\": modality,\n",
    "                \"PatientPerModality\": len(modality_series.PatientID.unique()),\n",
    "                \"SeriesPerModality\": len(modality_series),\n",
    "                \"totalSizeGB\": round(sum(modality_series.FileSize) / 1024 ** 3, 2),\n",
    "        }\n",
    "        series_lists.append(metadata)\n",
    "\n",
    "# create a dataframe from the list of dictionaries\n",
    "series_metadata_df = pd.DataFrame(series_lists)\n",
    "series_metadata_df.to_csv(\"series_metadata_df.tsv\", index=False, header=True, sep=\"\\t\")"
   ]
  },
  {
   "cell_type": "code",
   "execution_count": null,
   "metadata": {},
   "outputs": [],
   "source": []
  }
 ],
 "metadata": {
  "kernelspec": {
   "display_name": "nbia",
   "language": "python",
   "name": "python3"
  },
  "language_info": {
   "codemirror_mode": {
    "name": "ipython",
    "version": 3
   },
   "file_extension": ".py",
   "mimetype": "text/x-python",
   "name": "python",
   "nbconvert_exporter": "python",
   "pygments_lexer": "ipython3",
   "version": "3.12.7"
  }
 },
 "nbformat": 4,
 "nbformat_minor": 2
}

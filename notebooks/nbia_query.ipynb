{
 "cells": [
  {
   "cell_type": "code",
   "execution_count": 91,
   "metadata": {},
   "outputs": [],
   "source": [
    "from nbiatoolkit import NBIAClient\n",
    "import os\n",
    "import pandas as pd\n",
    "from dotenv import load_dotenv\n",
    "from rich import print"
   ]
  },
  {
   "cell_type": "markdown",
   "metadata": {},
   "source": [
    "# Query the NBIA API\n",
    "\n",
    "## Environment Variables:\n",
    "Add this to a `.env` file in your project directory and add your environment variables:\n",
    "\n",
    "```\n",
    "NBIA_USERNAME=<username>\n",
    "NBIA_PASSWORD=<password>\n",
    "```\n",
    "\n",
    "NOTE: developed this notebook using bhklab's account credentials \n"
   ]
  },
  {
   "cell_type": "code",
   "execution_count": 9,
   "metadata": {},
   "outputs": [
    {
     "name": "stderr",
     "output_type": "stream",
     "text": [
      "24-11-14 14:21 | NBIAClient | DEBUG | Setting up OAuth2 client... with username bhaibeka\n"
     ]
    }
   ],
   "source": [
    "load_dotenv()\n",
    "USERNAME= os.environ.get(\"NBIA_USERNAME\")\n",
    "PASSWORD=os.environ.get(\"NBIA_PASSWORD\")\n",
    "client = NBIAClient(\n",
    "  username=USERNAME,\n",
    "  password=PASSWORD,\n",
    "  return_type=\"dataframe\",\n",
    "  log_level=\"DEBUG\"\n",
    ")"
   ]
  },
  {
   "cell_type": "code",
   "execution_count": 10,
   "metadata": {},
   "outputs": [
    {
     "name": "stderr",
     "output_type": "stream",
     "text": [
      "24-11-14 14:21 | NBIAClient | DEBUG | Querying API endpoint: https://services.cancerimagingarchive.net/nbia-api/services/getCollectionValuesAndCounts\n",
      "24-11-14 14:21 | NBIAClient | DEBUG | Query parameters: {}\n"
     ]
    },
    {
     "name": "stdout",
     "output_type": "stream",
     "text": [
      "                        Collection PatientCount\n",
      "0                          4D-Lung           20\n",
      "1                       ACRIN-6698          385\n",
      "2    ACRIN-Contralateral-Breast-MR          984\n",
      "3                 ACRIN-FLT-Breast           83\n",
      "4              ACRIN-NSCLC-FDG-PET          242\n",
      "..                             ...          ...\n",
      "131                      TCGA-UCEC           65\n",
      "132                      UPENN-GBM          630\n",
      "133                         VICTRE         2994\n",
      "134    Vestibular-Schwannoma-MC-RC          124\n",
      "135      Vestibular-Schwannoma-SEG          242\n",
      "\n",
      "[136 rows x 2 columns]\n"
     ]
    }
   ],
   "source": [
    "collections = client.getCollectionPatientCount()\n",
    "print(collections)"
   ]
  },
  {
   "cell_type": "markdown",
   "metadata": {},
   "source": [
    "## Grant Table 1: Data\n",
    "\n",
    "### BHKLAB \n",
    "\n",
    "- QIN-HEADNECK\n",
    "- Head-Neck-PET-CT\n",
    "- CPTAC-HNSCC\n",
    "- HNSCC\n",
    "- HEAD-NECK-RADIOMICS-HN1\n",
    "- HNSCC-3DCT-RT\n",
    "- OPC-Radiomics\n",
    "- TCGA-HNSC\n",
    "- STRUCTSEG19\n",
    "- 18F-FDG PET Radiomics Risk Challenge\n",
    "- HPV Prediction Challenge\n",
    "- PDDCA\n",
    "- RADCURE\n",
    "\n"
   ]
  },
  {
   "cell_type": "code",
   "execution_count": null,
   "metadata": {},
   "outputs": [
    {
     "name": "stdout",
     "output_type": "stream",
     "text": [
      "Datasets not found in TCIA collections:\n",
      "OPC-Radiomics\n",
      "STRUCTSEG19\n",
      "18F-FDG PET Radiomics Risk Challenge\n",
      "HPV Prediction Challenge\n",
      "PDDCA\n"
     ]
    }
   ],
   "source": [
    "datasets = [\n",
    "    \"QIN-HEADNECK\",\n",
    "    \"Head-Neck-PET-CT\",\n",
    "    \"CPTAC-HNSCC\",\n",
    "    \"HNSCC\",\n",
    "    \"HEAD-NECK-RADIOMICS-HN1\",\n",
    "    \"HNSCC-3DCT-RT\",\n",
    "    \"TCGA-HNSC\",\n",
    "    \"RADCURE\"\n",
    "    \"OPC-Radiomics\",\n",
    "    \"STRUCTSEG19\",\n",
    "    \"18F-FDG PET Radiomics Risk Challenge\",\n",
    "    \"HPV Prediction Challenge\",\n",
    "    \"PDDCA\",\n",
    "]\n",
    "\n",
    "missing_from_tcia = []\n",
    "\n",
    "# Continue from the last code cell\n",
    "for dataset in datasets:\n",
    "    if not collections['Collection'].str.contains(dataset, case=False).any():\n",
    "        missing_from_tcia.append(dataset)\n",
    "\n",
    "# Print the datasets that are missing\n",
    "print(\"Datasets not found in TCIA collections:\")\n",
    "for dataset in missing_from_tcia:\n",
    "    print(dataset)\n",
    "\n"
   ]
  },
  {
   "cell_type": "markdown",
   "metadata": {},
   "source": [
    "## Notes :\n",
    "\n",
    "### OPC-Radiomics\n",
    "\n",
    "Note from website previously on TCIA: \n",
    "\n",
    "\n",
    "> This collection has been deprecated.\n",
    "> Data from the collection formerly called OPC-Radiomics has been updated. \n",
    "> The data are downloadable but no longer viewable in the Cancer Imaging Archive. \n",
    "> Please view the RADCURE page to obtain access to the updated data: https://doi.org/10.7937/J47W-NM11.\n",
    "\n",
    "\n",
    "**Data Location**: \n",
    "`/cluster/projects/radiomics/PublicDatasets/HeadNeck/TCIA-OPC`\n",
    "`/cluster/projects/radiomics/PublicDatasets/HeadNeck/TCIA_OPC-Radiomics`\n",
    "\n",
    "**Source Link**: [https://www.cancerimagingarchive.net/collection/opc-radiomics/](https://www.cancerimagingarchive.net/collection/opc-radiomics/)\n",
    "\n",
    "**Institution**: \"TCIA\"\n",
    "\n",
    "### STRUCTSEG19\n",
    "\n",
    "**Data Location**: `/cluster/projects/radiomics/PublicDatasets/HeadNeck/MICCAI_2019_STRUCTURESEG19`\n",
    "\n",
    "**Source Link**: [https://structseg2019.grand-challenge.org](https://structseg2019.grand-challenge.org)\n",
    "\n",
    "**Institution**: \"MICCAI / Zhejiang Cancer Hospital\"\n",
    "\n",
    "\n",
    "\n",
    "### 18F-FDG PET Radiomics Risk Challenge\n",
    "\n",
    "**Data Location**: `/cluster/projects/radiomics/PublicDatasets/HeadNeck/MICCAI_2018_18F-FDG_PET_Radiomics_Risk_Challenge`\n",
    "\n",
    "**Source Link**:\n",
    "\n",
    "**Institution**: MICCAI / multi-institution\n",
    "\n",
    "###  HPV Prediction Challenge\n",
    "\n",
    "`MICCAI_2016_HPV_Prediction_Challenge` \n",
    "\n",
    "**Data Location**: `/cluster/projects/radiomics/PublicDatasets/HeadNeck/MICCAI_2016_HPV_Prediction_Challenge`\n",
    "\n",
    "**Source Link**:\n",
    "\n",
    "**Institution**: \"MD Anderson CC / MICCAI\"\n",
    "\n",
    "\n",
    "### PDDCA\n",
    "\n",
    "`A Public Domain Database for Computational Anatomy (PDDCA)`\n",
    "\n",
    "**Data Location**: `/cluster/projects/radiomics/PublicDatasets/HeadNeck/A Public Domain Database for Computational Anatomy(PDDCA)`\n",
    "\n",
    "**Source Link**: [https://www.imagenglab.com/newsite/pddca/](https://www.imagenglab.com/newsite/pddca/)\n",
    "\n",
    "**Institution**: \"Harvard / MICCAI\"\n"
   ]
  },
  {
   "cell_type": "code",
   "execution_count": 17,
   "metadata": {},
   "outputs": [
    {
     "data": {
      "text/html": [
       "<div>\n",
       "<style scoped>\n",
       "    .dataframe tbody tr th:only-of-type {\n",
       "        vertical-align: middle;\n",
       "    }\n",
       "\n",
       "    .dataframe tbody tr th {\n",
       "        vertical-align: top;\n",
       "    }\n",
       "\n",
       "    .dataframe thead th {\n",
       "        text-align: right;\n",
       "    }\n",
       "</style>\n",
       "<table border=\"1\" class=\"dataframe\">\n",
       "  <thead>\n",
       "    <tr style=\"text-align: right;\">\n",
       "      <th></th>\n",
       "      <th>Collection</th>\n",
       "      <th>PatientCount</th>\n",
       "    </tr>\n",
       "  </thead>\n",
       "  <tbody>\n",
       "    <tr>\n",
       "      <th>0</th>\n",
       "      <td>CPTAC-HNSCC</td>\n",
       "      <td>133</td>\n",
       "    </tr>\n",
       "    <tr>\n",
       "      <th>1</th>\n",
       "      <td>HEAD-NECK-RADIOMICS-HN1</td>\n",
       "      <td>137</td>\n",
       "    </tr>\n",
       "    <tr>\n",
       "      <th>2</th>\n",
       "      <td>HNSCC</td>\n",
       "      <td>627</td>\n",
       "    </tr>\n",
       "    <tr>\n",
       "      <th>3</th>\n",
       "      <td>HNSCC-3DCT-RT</td>\n",
       "      <td>31</td>\n",
       "    </tr>\n",
       "    <tr>\n",
       "      <th>4</th>\n",
       "      <td>Head-Neck-PET-CT</td>\n",
       "      <td>298</td>\n",
       "    </tr>\n",
       "    <tr>\n",
       "      <th>5</th>\n",
       "      <td>QIN-HEADNECK</td>\n",
       "      <td>279</td>\n",
       "    </tr>\n",
       "    <tr>\n",
       "      <th>6</th>\n",
       "      <td>RADCURE</td>\n",
       "      <td>3346</td>\n",
       "    </tr>\n",
       "    <tr>\n",
       "      <th>7</th>\n",
       "      <td>TCGA-HNSC</td>\n",
       "      <td>227</td>\n",
       "    </tr>\n",
       "  </tbody>\n",
       "</table>\n",
       "</div>"
      ],
      "text/plain": [
       "                Collection PatientCount\n",
       "0              CPTAC-HNSCC          133\n",
       "1  HEAD-NECK-RADIOMICS-HN1          137\n",
       "2                    HNSCC          627\n",
       "3            HNSCC-3DCT-RT           31\n",
       "4         Head-Neck-PET-CT          298\n",
       "5             QIN-HEADNECK          279\n",
       "6                  RADCURE         3346\n",
       "7                TCGA-HNSC          227"
      ]
     },
     "execution_count": 17,
     "metadata": {},
     "output_type": "execute_result"
    }
   ],
   "source": [
    "# Subset collection dataframe to only include our desired datasets\n",
    "\n",
    "collections = collections[collections['Collection'].str.contains('|'.join(datasets), case=False)]\n",
    "collections.reset_index(drop=True, inplace=True)\n",
    "collections"
   ]
  },
  {
   "cell_type": "code",
   "execution_count": 131,
   "metadata": {},
   "outputs": [
    {
     "name": "stderr",
     "output_type": "stream",
     "text": [
      "24-11-14 15:38 | NBIAClient | DEBUG | Parsing params: {'self': <nbiatoolkit.nbia.NBIAClient object at 0x1355c9b50>, 'Collection': 'CPTAC-HNSCC', 'PatientID': '', 'StudyInstanceUID': '', 'Modality': '', 'SeriesInstanceUID': '', 'BodyPartExamined': '', 'ManufacturerModelName': '', 'Manufacturer': '', 'return_type': None, 'returnType': <ReturnType.DATAFRAME: 'dataframe'>}\n",
      "24-11-14 15:38 | NBIAClient | DEBUG | Querying API endpoint: https://services.cancerimagingarchive.net/nbia-api/services/v2/getSeries\n",
      "24-11-14 15:38 | NBIAClient | DEBUG | Query parameters: {'Collection': 'CPTAC-HNSCC', 'returnType': <ReturnType.DATAFRAME: 'dataframe'>}\n",
      "24-11-14 15:38 | NBIAClient | DEBUG | Parsing params: {'self': <nbiatoolkit.nbia.NBIAClient object at 0x1355c9b50>, 'Collection': 'HEAD-NECK-RADIOMICS-HN1', 'PatientID': '', 'StudyInstanceUID': '', 'Modality': '', 'SeriesInstanceUID': '', 'BodyPartExamined': '', 'ManufacturerModelName': '', 'Manufacturer': '', 'return_type': None, 'returnType': <ReturnType.DATAFRAME: 'dataframe'>}\n",
      "24-11-14 15:38 | NBIAClient | DEBUG | Querying API endpoint: https://services.cancerimagingarchive.net/nbia-api/services/v2/getSeries\n",
      "24-11-14 15:38 | NBIAClient | DEBUG | Query parameters: {'Collection': 'HEAD-NECK-RADIOMICS-HN1', 'returnType': <ReturnType.DATAFRAME: 'dataframe'>}\n",
      "24-11-14 15:38 | NBIAClient | DEBUG | Parsing params: {'self': <nbiatoolkit.nbia.NBIAClient object at 0x1355c9b50>, 'Collection': 'HNSCC', 'PatientID': '', 'StudyInstanceUID': '', 'Modality': '', 'SeriesInstanceUID': '', 'BodyPartExamined': '', 'ManufacturerModelName': '', 'Manufacturer': '', 'return_type': None, 'returnType': <ReturnType.DATAFRAME: 'dataframe'>}\n",
      "24-11-14 15:38 | NBIAClient | DEBUG | Querying API endpoint: https://services.cancerimagingarchive.net/nbia-api/services/v2/getSeries\n",
      "24-11-14 15:38 | NBIAClient | DEBUG | Query parameters: {'Collection': 'HNSCC', 'returnType': <ReturnType.DATAFRAME: 'dataframe'>}\n",
      "24-11-14 15:38 | NBIAClient | DEBUG | Parsing params: {'self': <nbiatoolkit.nbia.NBIAClient object at 0x1355c9b50>, 'Collection': 'HNSCC-3DCT-RT', 'PatientID': '', 'StudyInstanceUID': '', 'Modality': '', 'SeriesInstanceUID': '', 'BodyPartExamined': '', 'ManufacturerModelName': '', 'Manufacturer': '', 'return_type': None, 'returnType': <ReturnType.DATAFRAME: 'dataframe'>}\n",
      "24-11-14 15:38 | NBIAClient | DEBUG | Querying API endpoint: https://services.cancerimagingarchive.net/nbia-api/services/v2/getSeries\n",
      "24-11-14 15:38 | NBIAClient | DEBUG | Query parameters: {'Collection': 'HNSCC-3DCT-RT', 'returnType': <ReturnType.DATAFRAME: 'dataframe'>}\n",
      "24-11-14 15:38 | NBIAClient | DEBUG | Parsing params: {'self': <nbiatoolkit.nbia.NBIAClient object at 0x1355c9b50>, 'Collection': 'Head-Neck-PET-CT', 'PatientID': '', 'StudyInstanceUID': '', 'Modality': '', 'SeriesInstanceUID': '', 'BodyPartExamined': '', 'ManufacturerModelName': '', 'Manufacturer': '', 'return_type': None, 'returnType': <ReturnType.DATAFRAME: 'dataframe'>}\n",
      "24-11-14 15:38 | NBIAClient | DEBUG | Querying API endpoint: https://services.cancerimagingarchive.net/nbia-api/services/v2/getSeries\n",
      "24-11-14 15:38 | NBIAClient | DEBUG | Query parameters: {'Collection': 'Head-Neck-PET-CT', 'returnType': <ReturnType.DATAFRAME: 'dataframe'>}\n",
      "24-11-14 15:38 | NBIAClient | DEBUG | Parsing params: {'self': <nbiatoolkit.nbia.NBIAClient object at 0x1355c9b50>, 'Collection': 'QIN-HEADNECK', 'PatientID': '', 'StudyInstanceUID': '', 'Modality': '', 'SeriesInstanceUID': '', 'BodyPartExamined': '', 'ManufacturerModelName': '', 'Manufacturer': '', 'return_type': None, 'returnType': <ReturnType.DATAFRAME: 'dataframe'>}\n",
      "24-11-14 15:38 | NBIAClient | DEBUG | Querying API endpoint: https://services.cancerimagingarchive.net/nbia-api/services/v2/getSeries\n",
      "24-11-14 15:38 | NBIAClient | DEBUG | Query parameters: {'Collection': 'QIN-HEADNECK', 'returnType': <ReturnType.DATAFRAME: 'dataframe'>}\n",
      "24-11-14 15:38 | NBIAClient | DEBUG | Parsing params: {'self': <nbiatoolkit.nbia.NBIAClient object at 0x1355c9b50>, 'Collection': 'RADCURE', 'PatientID': '', 'StudyInstanceUID': '', 'Modality': '', 'SeriesInstanceUID': '', 'BodyPartExamined': '', 'ManufacturerModelName': '', 'Manufacturer': '', 'return_type': None, 'returnType': <ReturnType.DATAFRAME: 'dataframe'>}\n",
      "24-11-14 15:38 | NBIAClient | DEBUG | Querying API endpoint: https://services.cancerimagingarchive.net/nbia-api/services/v2/getSeries\n",
      "24-11-14 15:38 | NBIAClient | DEBUG | Query parameters: {'Collection': 'RADCURE', 'returnType': <ReturnType.DATAFRAME: 'dataframe'>}\n",
      "24-11-14 15:38 | NBIAClient | DEBUG | Parsing params: {'self': <nbiatoolkit.nbia.NBIAClient object at 0x1355c9b50>, 'Collection': 'TCGA-HNSC', 'PatientID': '', 'StudyInstanceUID': '', 'Modality': '', 'SeriesInstanceUID': '', 'BodyPartExamined': '', 'ManufacturerModelName': '', 'Manufacturer': '', 'return_type': None, 'returnType': <ReturnType.DATAFRAME: 'dataframe'>}\n",
      "24-11-14 15:38 | NBIAClient | DEBUG | Querying API endpoint: https://services.cancerimagingarchive.net/nbia-api/services/v2/getSeries\n",
      "24-11-14 15:38 | NBIAClient | DEBUG | Query parameters: {'Collection': 'TCGA-HNSC', 'returnType': <ReturnType.DATAFRAME: 'dataframe'>}\n"
     ]
    }
   ],
   "source": [
    "series_lists = []\n",
    "series_metadata_lists = []\n",
    "for i, dataset in enumerate(collections.Collection.unique()):\n",
    "    series = client.getSeries(Collection=dataset)\n",
    "\n",
    "    unique_modalities = series.Modality.unique()\n",
    "    \n",
    "    for modality in unique_modalities:\n",
    "        modality_series = series[series.Modality == modality]\n",
    "        \n",
    "        if \"BodyPartExamined\" in modality_series.columns:\n",
    "            bpe = list(modality_series.BodyPartExamined.dropna().unique())\n",
    "            bpe.sort()\n",
    "        else:\n",
    "            bpe = []\n",
    "\n",
    "        metadata = {\n",
    "                \"Collection\": dataset,\n",
    "                \"TotalPatients\": len(series.PatientID.unique()),\n",
    "                \"BodyPartExamined\": \",\".join(bpe),\n",
    "                \"Modality\": modality,\n",
    "                \"PatientPerModality\": len(modality_series.PatientID.unique()),\n",
    "                \"SeriesPerModality\": len(modality_series),\n",
    "                \"totalSizeGB\": round(sum(modality_series.FileSize) / 1024 ** 3, 2),\n",
    "        }\n",
    "        series_lists.append(metadata)\n",
    "\n",
    "# create a dataframe from the list of dictionaries\n",
    "series_metadata_df = pd.DataFrame(series_lists)\n",
    "series_metadata_df.to_csv(\"series_metadata_df.tsv\", index=False, header=True, sep=\"\\t\")"
   ]
  },
  {
   "cell_type": "code",
   "execution_count": null,
   "metadata": {},
   "outputs": [],
   "source": []
  }
 ],
 "metadata": {
  "kernelspec": {
   "display_name": "nbia",
   "language": "python",
   "name": "python3"
  },
  "language_info": {
   "codemirror_mode": {
    "name": "ipython",
    "version": 3
   },
   "file_extension": ".py",
   "mimetype": "text/x-python",
   "name": "python",
   "nbconvert_exporter": "python",
   "pygments_lexer": "ipython3",
   "version": "3.12.7"
  }
 },
 "nbformat": 4,
 "nbformat_minor": 2
}
